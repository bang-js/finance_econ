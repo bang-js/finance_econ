{
 "cells": [
  {
   "cell_type": "code",
   "execution_count": 20,
   "id": "8e5bdce1",
   "metadata": {},
   "outputs": [],
   "source": [
    "import pandas as pd\n",
    "import datetime\n",
    "import numpy as np\n",
    "import scipy.stats\n",
    "from math import log10 , floor\n",
    "import matplotlib.pyplot as plt"
   ]
  },
  {
   "cell_type": "code",
   "execution_count": 21,
   "id": "5a8f43a3",
   "metadata": {},
   "outputs": [],
   "source": [
    "# result 구분\n",
    "df = pd.read_excel('C:/Users/Jeongseok_Bang/OneDrive/바탕 화면/석사과정/FinLab/ESG/DF_최종_10_AV_result_3.xlsx', engine='openpyxl') #일자, 기업\n",
    "df['일자'] = pd.to_datetime(df['일자']) # 날짜 형식 변경"
   ]
  },
  {
   "cell_type": "code",
   "execution_count": 22,
   "id": "b648478c",
   "metadata": {
    "scrolled": true
   },
   "outputs": [
    {
     "data": {
      "text/html": [
       "<div>\n",
       "<style scoped>\n",
       "    .dataframe tbody tr th:only-of-type {\n",
       "        vertical-align: middle;\n",
       "    }\n",
       "\n",
       "    .dataframe tbody tr th {\n",
       "        vertical-align: top;\n",
       "    }\n",
       "\n",
       "    .dataframe thead th {\n",
       "        text-align: right;\n",
       "    }\n",
       "</style>\n",
       "<table border=\"1\" class=\"dataframe\">\n",
       "  <thead>\n",
       "    <tr style=\"text-align: right;\">\n",
       "      <th></th>\n",
       "      <th>중복 횟수</th>\n",
       "      <th>중복 횟수(10일)</th>\n",
       "      <th>AV_VOL_TOT_-5_-2</th>\n",
       "      <th>AV_VOL_TOT_-1_-1</th>\n",
       "      <th>AV_VOL_TOT_0_0</th>\n",
       "      <th>AV_VOL_TOT_1_1</th>\n",
       "      <th>AV_VOL_TOT_2_5</th>\n",
       "      <th>AV_VOL_IND_-5_-2</th>\n",
       "      <th>AV_VOL_IND_-1_-1</th>\n",
       "      <th>AV_VOL_IND_0_0</th>\n",
       "      <th>...</th>\n",
       "      <th>TO_INS_-5_-2</th>\n",
       "      <th>TO_INS_-1_-1</th>\n",
       "      <th>TO_INS_0_0</th>\n",
       "      <th>TO_INS_1_1</th>\n",
       "      <th>TO_INS_2_5</th>\n",
       "      <th>TO_FOR_-5_-2</th>\n",
       "      <th>TO_FOR_-1_-1</th>\n",
       "      <th>TO_FOR_0_0</th>\n",
       "      <th>TO_FOR_1_1</th>\n",
       "      <th>TO_FOR_2_5</th>\n",
       "    </tr>\n",
       "  </thead>\n",
       "  <tbody>\n",
       "    <tr>\n",
       "      <th>count</th>\n",
       "      <td>1770.000000</td>\n",
       "      <td>1770.000000</td>\n",
       "      <td>1770.000000</td>\n",
       "      <td>1770.000000</td>\n",
       "      <td>1770.000000</td>\n",
       "      <td>1770.000000</td>\n",
       "      <td>1770.000000</td>\n",
       "      <td>1770.000000</td>\n",
       "      <td>1770.000000</td>\n",
       "      <td>1770.000000</td>\n",
       "      <td>...</td>\n",
       "      <td>1770.000000</td>\n",
       "      <td>1770.000000</td>\n",
       "      <td>1770.000000</td>\n",
       "      <td>1770.000000</td>\n",
       "      <td>1770.000000</td>\n",
       "      <td>1770.000000</td>\n",
       "      <td>1770.000000</td>\n",
       "      <td>1770.000000</td>\n",
       "      <td>1770.000000</td>\n",
       "      <td>1770.000000</td>\n",
       "    </tr>\n",
       "    <tr>\n",
       "      <th>mean</th>\n",
       "      <td>1.563277</td>\n",
       "      <td>3.609605</td>\n",
       "      <td>0.043051</td>\n",
       "      <td>0.031858</td>\n",
       "      <td>0.228215</td>\n",
       "      <td>0.203593</td>\n",
       "      <td>0.081487</td>\n",
       "      <td>0.092634</td>\n",
       "      <td>0.083897</td>\n",
       "      <td>0.334781</td>\n",
       "      <td>...</td>\n",
       "      <td>0.000002</td>\n",
       "      <td>0.000019</td>\n",
       "      <td>0.000139</td>\n",
       "      <td>0.000106</td>\n",
       "      <td>0.000007</td>\n",
       "      <td>0.000050</td>\n",
       "      <td>0.000067</td>\n",
       "      <td>0.000305</td>\n",
       "      <td>0.000125</td>\n",
       "      <td>0.000039</td>\n",
       "    </tr>\n",
       "    <tr>\n",
       "      <th>std</th>\n",
       "      <td>3.684675</td>\n",
       "      <td>8.085161</td>\n",
       "      <td>1.336635</td>\n",
       "      <td>1.584777</td>\n",
       "      <td>2.665837</td>\n",
       "      <td>2.469538</td>\n",
       "      <td>1.819704</td>\n",
       "      <td>2.371972</td>\n",
       "      <td>1.936459</td>\n",
       "      <td>3.512854</td>\n",
       "      <td>...</td>\n",
       "      <td>0.000790</td>\n",
       "      <td>0.001240</td>\n",
       "      <td>0.001850</td>\n",
       "      <td>0.001296</td>\n",
       "      <td>0.000755</td>\n",
       "      <td>0.001078</td>\n",
       "      <td>0.002093</td>\n",
       "      <td>0.004411</td>\n",
       "      <td>0.001430</td>\n",
       "      <td>0.000910</td>\n",
       "    </tr>\n",
       "    <tr>\n",
       "      <th>min</th>\n",
       "      <td>0.000000</td>\n",
       "      <td>0.000000</td>\n",
       "      <td>-2.022369</td>\n",
       "      <td>-2.066941</td>\n",
       "      <td>-2.589431</td>\n",
       "      <td>-2.862409</td>\n",
       "      <td>-2.054736</td>\n",
       "      <td>-1.964315</td>\n",
       "      <td>-2.030561</td>\n",
       "      <td>-2.442605</td>\n",
       "      <td>...</td>\n",
       "      <td>-0.002939</td>\n",
       "      <td>-0.003451</td>\n",
       "      <td>-0.003138</td>\n",
       "      <td>-0.002663</td>\n",
       "      <td>-0.002338</td>\n",
       "      <td>-0.005003</td>\n",
       "      <td>-0.005779</td>\n",
       "      <td>-0.006478</td>\n",
       "      <td>-0.005822</td>\n",
       "      <td>-0.007088</td>\n",
       "    </tr>\n",
       "    <tr>\n",
       "      <th>25%</th>\n",
       "      <td>0.000000</td>\n",
       "      <td>0.000000</td>\n",
       "      <td>-0.376176</td>\n",
       "      <td>-0.453163</td>\n",
       "      <td>-0.442740</td>\n",
       "      <td>-0.436978</td>\n",
       "      <td>-0.405853</td>\n",
       "      <td>-0.443361</td>\n",
       "      <td>-0.526113</td>\n",
       "      <td>-0.492128</td>\n",
       "      <td>...</td>\n",
       "      <td>-0.000289</td>\n",
       "      <td>-0.000372</td>\n",
       "      <td>-0.000343</td>\n",
       "      <td>-0.000356</td>\n",
       "      <td>-0.000296</td>\n",
       "      <td>-0.000351</td>\n",
       "      <td>-0.000476</td>\n",
       "      <td>-0.000430</td>\n",
       "      <td>-0.000408</td>\n",
       "      <td>-0.000343</td>\n",
       "    </tr>\n",
       "    <tr>\n",
       "      <th>50%</th>\n",
       "      <td>0.000000</td>\n",
       "      <td>1.000000</td>\n",
       "      <td>-0.122011</td>\n",
       "      <td>-0.166306</td>\n",
       "      <td>-0.123795</td>\n",
       "      <td>-0.108158</td>\n",
       "      <td>-0.118200</td>\n",
       "      <td>-0.164952</td>\n",
       "      <td>-0.211210</td>\n",
       "      <td>-0.154895</td>\n",
       "      <td>...</td>\n",
       "      <td>-0.000077</td>\n",
       "      <td>-0.000123</td>\n",
       "      <td>-0.000104</td>\n",
       "      <td>-0.000089</td>\n",
       "      <td>-0.000069</td>\n",
       "      <td>-0.000083</td>\n",
       "      <td>-0.000130</td>\n",
       "      <td>-0.000106</td>\n",
       "      <td>-0.000126</td>\n",
       "      <td>-0.000083</td>\n",
       "    </tr>\n",
       "    <tr>\n",
       "      <th>75%</th>\n",
       "      <td>1.000000</td>\n",
       "      <td>4.000000</td>\n",
       "      <td>0.211634</td>\n",
       "      <td>0.202536</td>\n",
       "      <td>0.284515</td>\n",
       "      <td>0.252204</td>\n",
       "      <td>0.199574</td>\n",
       "      <td>0.223115</td>\n",
       "      <td>0.220279</td>\n",
       "      <td>0.315538</td>\n",
       "      <td>...</td>\n",
       "      <td>0.000159</td>\n",
       "      <td>0.000162</td>\n",
       "      <td>0.000202</td>\n",
       "      <td>0.000213</td>\n",
       "      <td>0.000161</td>\n",
       "      <td>0.000225</td>\n",
       "      <td>0.000239</td>\n",
       "      <td>0.000320</td>\n",
       "      <td>0.000270</td>\n",
       "      <td>0.000203</td>\n",
       "    </tr>\n",
       "    <tr>\n",
       "      <th>max</th>\n",
       "      <td>41.000000</td>\n",
       "      <td>106.000000</td>\n",
       "      <td>38.308156</td>\n",
       "      <td>42.713483</td>\n",
       "      <td>67.572703</td>\n",
       "      <td>61.939920</td>\n",
       "      <td>46.669741</td>\n",
       "      <td>86.741861</td>\n",
       "      <td>42.360116</td>\n",
       "      <td>85.001669</td>\n",
       "      <td>...</td>\n",
       "      <td>0.014000</td>\n",
       "      <td>0.024097</td>\n",
       "      <td>0.043618</td>\n",
       "      <td>0.021504</td>\n",
       "      <td>0.009797</td>\n",
       "      <td>0.016891</td>\n",
       "      <td>0.058226</td>\n",
       "      <td>0.155976</td>\n",
       "      <td>0.024249</td>\n",
       "      <td>0.008283</td>\n",
       "    </tr>\n",
       "  </tbody>\n",
       "</table>\n",
       "<p>8 rows × 77 columns</p>\n",
       "</div>"
      ],
      "text/plain": [
       "             중복 횟수   중복 횟수(10일)  AV_VOL_TOT_-5_-2  AV_VOL_TOT_-1_-1  \\\n",
       "count  1770.000000  1770.000000       1770.000000       1770.000000   \n",
       "mean      1.563277     3.609605          0.043051          0.031858   \n",
       "std       3.684675     8.085161          1.336635          1.584777   \n",
       "min       0.000000     0.000000         -2.022369         -2.066941   \n",
       "25%       0.000000     0.000000         -0.376176         -0.453163   \n",
       "50%       0.000000     1.000000         -0.122011         -0.166306   \n",
       "75%       1.000000     4.000000          0.211634          0.202536   \n",
       "max      41.000000   106.000000         38.308156         42.713483   \n",
       "\n",
       "       AV_VOL_TOT_0_0  AV_VOL_TOT_1_1  AV_VOL_TOT_2_5  AV_VOL_IND_-5_-2  \\\n",
       "count     1770.000000     1770.000000     1770.000000       1770.000000   \n",
       "mean         0.228215        0.203593        0.081487          0.092634   \n",
       "std          2.665837        2.469538        1.819704          2.371972   \n",
       "min         -2.589431       -2.862409       -2.054736         -1.964315   \n",
       "25%         -0.442740       -0.436978       -0.405853         -0.443361   \n",
       "50%         -0.123795       -0.108158       -0.118200         -0.164952   \n",
       "75%          0.284515        0.252204        0.199574          0.223115   \n",
       "max         67.572703       61.939920       46.669741         86.741861   \n",
       "\n",
       "       AV_VOL_IND_-1_-1  AV_VOL_IND_0_0  ...  TO_INS_-5_-2  TO_INS_-1_-1  \\\n",
       "count       1770.000000     1770.000000  ...   1770.000000   1770.000000   \n",
       "mean           0.083897        0.334781  ...      0.000002      0.000019   \n",
       "std            1.936459        3.512854  ...      0.000790      0.001240   \n",
       "min           -2.030561       -2.442605  ...     -0.002939     -0.003451   \n",
       "25%           -0.526113       -0.492128  ...     -0.000289     -0.000372   \n",
       "50%           -0.211210       -0.154895  ...     -0.000077     -0.000123   \n",
       "75%            0.220279        0.315538  ...      0.000159      0.000162   \n",
       "max           42.360116       85.001669  ...      0.014000      0.024097   \n",
       "\n",
       "        TO_INS_0_0   TO_INS_1_1   TO_INS_2_5  TO_FOR_-5_-2  TO_FOR_-1_-1  \\\n",
       "count  1770.000000  1770.000000  1770.000000   1770.000000   1770.000000   \n",
       "mean      0.000139     0.000106     0.000007      0.000050      0.000067   \n",
       "std       0.001850     0.001296     0.000755      0.001078      0.002093   \n",
       "min      -0.003138    -0.002663    -0.002338     -0.005003     -0.005779   \n",
       "25%      -0.000343    -0.000356    -0.000296     -0.000351     -0.000476   \n",
       "50%      -0.000104    -0.000089    -0.000069     -0.000083     -0.000130   \n",
       "75%       0.000202     0.000213     0.000161      0.000225      0.000239   \n",
       "max       0.043618     0.021504     0.009797      0.016891      0.058226   \n",
       "\n",
       "        TO_FOR_0_0   TO_FOR_1_1   TO_FOR_2_5  \n",
       "count  1770.000000  1770.000000  1770.000000  \n",
       "mean      0.000305     0.000125     0.000039  \n",
       "std       0.004411     0.001430     0.000910  \n",
       "min      -0.006478    -0.005822    -0.007088  \n",
       "25%      -0.000430    -0.000408    -0.000343  \n",
       "50%      -0.000106    -0.000126    -0.000083  \n",
       "75%       0.000320     0.000270     0.000203  \n",
       "max       0.155976     0.024249     0.008283  \n",
       "\n",
       "[8 rows x 77 columns]"
      ]
     },
     "execution_count": 22,
     "metadata": {},
     "output_type": "execute_result"
    }
   ],
   "source": [
    "df.describe()"
   ]
  },
  {
   "cell_type": "code",
   "execution_count": 23,
   "id": "f7fb1d52",
   "metadata": {},
   "outputs": [
    {
     "data": {
      "text/plain": [
       "Index(['일자', '제목', '본문', '기업', 'ESG', '중복 횟수', '중복 횟수(10일)',\n",
       "       'AV_VOL_TOT_-5_-2', 'AV_VOL_TOT_-1_-1', 'AV_VOL_TOT_0_0',\n",
       "       'AV_VOL_TOT_1_1', 'AV_VOL_TOT_2_5', 'AV_VOL_IND_-5_-2',\n",
       "       'AV_VOL_IND_-1_-1', 'AV_VOL_IND_0_0', 'AV_VOL_IND_1_1',\n",
       "       'AV_VOL_IND_2_5', 'AV_VOL_INS_-5_-2', 'AV_VOL_INS_-1_-1',\n",
       "       'AV_VOL_INS_0_0', 'AV_VOL_INS_1_1', 'AV_VOL_INS_2_5',\n",
       "       'AV_VOL_FOR_-5_-2', 'AV_VOL_FOR_-1_-1', 'AV_VOL_FOR_0_0',\n",
       "       'AV_VOL_FOR_1_1', 'AV_VOL_FOR_2_5', 'AV_VAL_TOT_-5_-2',\n",
       "       'AV_VAL_TOT_-1_-1', 'AV_VAL_TOT_0_0', 'AV_VAL_TOT_1_1',\n",
       "       'AV_VAL_TOT_2_5', 'AV_VAL_IND_-5_-2', 'AV_VAL_IND_-1_-1',\n",
       "       'AV_VAL_IND_0_0', 'AV_VAL_IND_1_1', 'AV_VAL_IND_2_5',\n",
       "       'AV_VAL_INS_-5_-2', 'AV_VAL_INS_-1_-1', 'AV_VAL_INS_0_0',\n",
       "       'AV_VAL_INS_1_1', 'AV_VAL_INS_2_5', 'AV_VAL_FOR_-5_-2',\n",
       "       'AV_VAL_FOR_-1_-1', 'AV_VAL_FOR_0_0', 'AV_VAL_FOR_1_1',\n",
       "       'AV_VAL_FOR_2_5', 'BSI_IND_-5_-2', 'BSI_IND_-1_-1', 'BSI_IND_0_0',\n",
       "       'BSI_IND_1_1', 'BSI_IND_2_5', 'BSI_INS_-5_-2', 'BSI_INS_-1_-1',\n",
       "       'BSI_INS_0_0', 'BSI_INS_1_1', 'BSI_INS_2_5', 'BSI_FOR_-5_-2',\n",
       "       'BSI_FOR_-1_-1', 'BSI_FOR_0_0', 'BSI_FOR_1_1', 'BSI_FOR_2_5',\n",
       "       'TO_TOT_-5_-2', 'TO_TOT_-1_-1', 'TO_TOT_0_0', 'TO_TOT_1_1',\n",
       "       'TO_TOT_2_5', 'TO_IND_-5_-2', 'TO_IND_-1_-1', 'TO_IND_0_0',\n",
       "       'TO_IND_1_1', 'TO_IND_2_5', 'TO_INS_-5_-2', 'TO_INS_-1_-1',\n",
       "       'TO_INS_0_0', 'TO_INS_1_1', 'TO_INS_2_5', 'TO_FOR_-5_-2',\n",
       "       'TO_FOR_-1_-1', 'TO_FOR_0_0', 'TO_FOR_1_1', 'TO_FOR_2_5'],\n",
       "      dtype='object')"
      ]
     },
     "execution_count": 23,
     "metadata": {},
     "output_type": "execute_result"
    }
   ],
   "source": [
    "df.columns"
   ]
  },
  {
   "cell_type": "code",
   "execution_count": 5,
   "id": "a63772fb",
   "metadata": {
    "collapsed": true
   },
   "outputs": [
    {
     "data": {
      "image/png": "[encoded data removed]",
      "text/plain": [
       "<Figure size 432x288 with 1 Axes>"
      ]
     },
     "metadata": {
      "needs_background": "light"
     },
     "output_type": "display_data"
    },
    {
     "data": {
      "image/png": "[encoded data removed]",
      "text/plain": [
       "<Figure size 432x288 with 1 Axes>"
      ]
     },
     "metadata": {
      "needs_background": "light"
     },
     "output_type": "display_data"
    },
    {
     "data": {
      "image/png": "[encoded data removed]",
      "text/plain": [
       "<Figure size 432x288 with 1 Axes>"
      ]
     },
     "metadata": {
      "needs_background": "light"
     },
     "output_type": "display_data"
    },
    {
     "data": {
      "image/png": "[encoded data removed]",
      "text/plain": [
       "<Figure size 432x288 with 1 Axes>"
      ]
     },
     "metadata": {
      "needs_background": "light"
     },
     "output_type": "display_data"
    },
    {
     "data": {
      "image/png": "[encoded data removed]",
      "text/plain": [
       "<Figure size 432x288 with 1 Axes>"
      ]
     },
     "metadata": {
      "needs_background": "light"
     },
     "output_type": "display_data"
    },
    {
     "data": {
      "image/png": "[encoded data removed]",
      "text/plain": [
       "<Figure size 432x288 with 1 Axes>"
      ]
     },
     "metadata": {
      "needs_background": "light"
     },
     "output_type": "display_data"
    },
    {
     "data": {
      "image/png": "[encoded data removed]",
      "text/plain": [
       "<Figure size 432x288 with 1 Axes>"
      ]
     },
     "metadata": {
      "needs_background": "light"
     },
     "output_type": "display_data"
    },
    {
     "data": {
      "image/png": "[encoded data removed]",
      "text/plain": [
       "<Figure size 432x288 with 1 Axes>"
      ]
     },
     "metadata": {
      "needs_background": "light"
     },
     "output_type": "display_data"
    },
    {
     "data": {
      "image/png": "[encoded data removed]",
      "text/plain": [
       "<Figure size 432x288 with 1 Axes>"
      ]
     },
     "metadata": {
      "needs_background": "light"
     },
     "output_type": "display_data"
    },
    {
     "data": {
      "image/png": "[encoded data removed]",
      "text/plain": [
       "<Figure size 432x288 with 1 Axes>"
      ]
     },
     "metadata": {
      "needs_background": "light"
     },
     "output_type": "display_data"
    },
    {
     "data": {
      "image/png": "[encoded data removed]",
      "text/plain": [
       "<Figure size 432x288 with 1 Axes>"
      ]
     },
     "metadata": {
      "needs_background": "light"
     },
     "output_type": "display_data"
    },
    {
     "data": {
      "image/png": "[encoded data removed]",
      "text/plain": [
       "<Figure size 432x288 with 1 Axes>"
      ]
     },
     "metadata": {
      "needs_background": "light"
     },
     "output_type": "display_data"
    },
    {
     "data": {
      "image/png": "[encoded data removed]",
      "text/plain": [
       "<Figure size 432x288 with 1 Axes>"
      ]
     },
     "metadata": {
      "needs_background": "light"
     },
     "output_type": "display_data"
    },
    {
     "data": {
      "image/png": "[encoded data removed]",
      "text/plain": [
       "<Figure size 432x288 with 1 Axes>"
      ]
     },
     "metadata": {
      "needs_background": "light"
     },
     "output_type": "display_data"
    },
    {
     "data": {
      "image/png": "[encoded data removed]",
      "text/plain": [
       "<Figure size 432x288 with 1 Axes>"
      ]
     },
     "metadata": {
      "needs_background": "light"
     },
     "output_type": "display_data"
    },
    {
     "data": {
      "image/png": "[encoded data removed]",
      "text/plain": [
       "<Figure size 432x288 with 1 Axes>"
      ]
     },
     "metadata": {
      "needs_background": "light"
     },
     "output_type": "display_data"
    },
    {
     "data": {
      "image/png": "[encoded data removed]",
      "text/plain": [
       "<Figure size 432x288 with 1 Axes>"
      ]
     },
     "metadata": {
      "needs_background": "light"
     },
     "output_type": "display_data"
    },
    {
     "data": {
      "image/png": "[encoded data removed]",
      "text/plain": [
       "<Figure size 432x288 with 1 Axes>"
      ]
     },
     "metadata": {
      "needs_background": "light"
     },
     "output_type": "display_data"
    },
    {
     "data": {
      "image/png": "[encoded data removed]",
      "text/plain": [
       "<Figure size 432x288 with 1 Axes>"
      ]
     },
     "metadata": {
      "needs_background": "light"
     },
     "output_type": "display_data"
    },
    {
     "data": {
      "image/png": "[encoded data removed]",
      "text/plain": [
       "<Figure size 432x288 with 1 Axes>"
      ]
     },
     "metadata": {
      "needs_background": "light"
     },
     "output_type": "display_data"
    },
    {
     "data": {
      "image/png": "[encoded data removed]",
      "text/plain": [
       "<Figure size 432x288 with 1 Axes>"
      ]
     },
     "metadata": {
      "needs_background": "light"
     },
     "output_type": "display_data"
    },
    {
     "data": {
      "image/png": "[encoded data removed]",
      "text/plain": [
       "<Figure size 432x288 with 1 Axes>"
      ]
     },
     "metadata": {
      "needs_background": "light"
     },
     "output_type": "display_data"
    },
    {
     "data": {
      "image/png": "[encoded data removed]",
      "text/plain": [
       "<Figure size 432x288 with 1 Axes>"
      ]
     },
     "metadata": {
      "needs_background": "light"
     },
     "output_type": "display_data"
    },
    {
     "data": {
      "image/png": "[encoded data removed]",
      "text/plain": [
       "<Figure size 432x288 with 1 Axes>"
      ]
     },
     "metadata": {
      "needs_background": "light"
     },
     "output_type": "display_data"
    },
    {
     "data": {
      "image/png": "[encoded data removed]",
      "text/plain": [
       "<Figure size 432x288 with 1 Axes>"
      ]
     },
     "metadata": {
      "needs_background": "light"
     },
     "output_type": "display_data"
    },
    {
     "data": {
      "image/png": "[encoded data removed]",
      "text/plain": [
       "<Figure size 432x288 with 1 Axes>"
      ]
     },
     "metadata": {
      "needs_background": "light"
     },
     "output_type": "display_data"
    },
    {
     "data": {
      "image/png": "[encoded data removed]",
      "text/plain": [
       "<Figure size 432x288 with 1 Axes>"
      ]
     },
     "metadata": {
      "needs_background": "light"
     },
     "output_type": "display_data"
    },
    {
     "data": {
      "image/png": "[encoded data removed]",
      "text/plain": [
       "<Figure size 432x288 with 1 Axes>"
      ]
     },
     "metadata": {
      "needs_background": "light"
     },
     "output_type": "display_data"
    },
    {
     "data": {
      "image/png": "[encoded data removed]",
      "text/plain": [
       "<Figure size 432x288 with 1 Axes>"
      ]
     },
     "metadata": {
      "needs_background": "light"
     },
     "output_type": "display_data"
    },
    {
     "data": {
      "image/png": "[encoded data removed]",
      "text/plain": [
       "<Figure size 432x288 with 1 Axes>"
      ]
     },
     "metadata": {
      "needs_background": "light"
     },
     "output_type": "display_data"
    },
    {
     "data": {
      "image/png": "[encoded data removed]",
      "text/plain": [
       "<Figure size 432x288 with 1 Axes>"
      ]
     },
     "metadata": {
      "needs_background": "light"
     },
     "output_type": "display_data"
    },
    {
     "data": {
      "image/png": "[encoded data removed]",
      "text/plain": [
       "<Figure size 432x288 with 1 Axes>"
      ]
     },
     "metadata": {
      "needs_background": "light"
     },
     "output_type": "display_data"
    },
    {
     "data": {
      "image/png": "[encoded data removed]",
      "text/plain": [
       "<Figure size 432x288 with 1 Axes>"
      ]
     },
     "metadata": {
      "needs_background": "light"
     },
     "output_type": "display_data"
    },
    {
     "data": {
      "image/png": "[encoded data removed]",
      "text/plain": [
       "<Figure size 432x288 with 1 Axes>"
      ]
     },
     "metadata": {
      "needs_background": "light"
     },
     "output_type": "display_data"
    },
    {
     "data": {
      "image/png": "[encoded data removed]",
      "text/plain": [
       "<Figure size 432x288 with 1 Axes>"
      ]
     },
     "metadata": {
      "needs_background": "light"
     },
     "output_type": "display_data"
    },
    {
     "data": {
      "image/png": "[encoded data removed]",
      "text/plain": [
       "<Figure size 432x288 with 1 Axes>"
      ]
     },
     "metadata": {
      "needs_background": "light"
     },
     "output_type": "display_data"
    },
    {
     "data": {
      "image/png": "[encoded data removed]",
      "text/plain": [
       "<Figure size 432x288 with 1 Axes>"
      ]
     },
     "metadata": {
      "needs_background": "light"
     },
     "output_type": "display_data"
    },
    {
     "data": {
      "image/png": "[encoded data removed]",
      "text/plain": [
       "<Figure size 432x288 with 1 Axes>"
      ]
     },
     "metadata": {
      "needs_background": "light"
     },
     "output_type": "display_data"
    },
    {
     "data": {
      "image/png": "[encoded data removed]",
      "text/plain": [
       "<Figure size 432x288 with 1 Axes>"
      ]
     },
     "metadata": {
      "needs_background": "light"
     },
     "output_type": "display_data"
    },
    {
     "data": {
      "image/png": "[encoded data removed]",
      "text/plain": [
       "<Figure size 432x288 with 1 Axes>"
      ]
     },
     "metadata": {
      "needs_background": "light"
     },
     "output_type": "display_data"
    },
    {
     "data": {
      "image/png": "[encoded data removed]",
      "text/plain": [
       "<Figure size 432x288 with 1 Axes>"
      ]
     },
     "metadata": {
      "needs_background": "light"
     },
     "output_type": "display_data"
    },
    {
     "data": {
      "image/png": "[encoded data removed]",
      "text/plain": [
       "<Figure size 432x288 with 1 Axes>"
      ]
     },
     "metadata": {
      "needs_background": "light"
     },
     "output_type": "display_data"
    },
    {
     "data": {
      "image/png": "[encoded data removed]",
      "text/plain": [
       "<Figure size 432x288 with 1 Axes>"
      ]
     },
     "metadata": {
      "needs_background": "light"
     },
     "output_type": "display_data"
    },
    {
     "data": {
      "image/png": "[encoded data removed]",
      "text/plain": [
       "<Figure size 432x288 with 1 Axes>"
      ]
     },
     "metadata": {
      "needs_background": "light"
     },
     "output_type": "display_data"
    },
    {
     "data": {
      "image/png": "[encoded data removed]",
      "text/plain": [
       "<Figure size 432x288 with 1 Axes>"
      ]
     },
     "metadata": {
      "needs_background": "light"
     },
     "output_type": "display_data"
    },
    {
     "data": {
      "image/png": "[encoded data removed]",
      "text/plain": [
       "<Figure size 432x288 with 1 Axes>"
      ]
     },
     "metadata": {
      "needs_background": "light"
     },
     "output_type": "display_data"
    },
    {
     "data": {
      "image/png": "[encoded data removed]",
      "text/plain": [
       "<Figure size 432x288 with 1 Axes>"
      ]
     },
     "metadata": {
      "needs_background": "light"
     },
     "output_type": "display_data"
    },
    {
     "data": {
      "image/png": "[encoded data removed]",
      "text/plain": [
       "<Figure size 432x288 with 1 Axes>"
      ]
     },
     "metadata": {
      "needs_background": "light"
     },
     "output_type": "display_data"
    },
    {
     "data": {
      "image/png": "[encoded data removed]",
      "text/plain": [
       "<Figure size 432x288 with 1 Axes>"
      ]
     },
     "metadata": {
      "needs_background": "light"
     },
     "output_type": "display_data"
    },
    {
     "data": {
      "image/png": "[encoded data removed]",
      "text/plain": [
       "<Figure size 432x288 with 1 Axes>"
      ]
     },
     "metadata": {
      "needs_background": "light"
     },
     "output_type": "display_data"
    },
    {
     "data": {
      "image/png": "[encoded data removed]",
      "text/plain": [
       "<Figure size 432x288 with 1 Axes>"
      ]
     },
     "metadata": {
      "needs_background": "light"
     },
     "output_type": "display_data"
    },
    {
     "data": {
      "image/png": "[encoded data removed]",
      "text/plain": [
       "<Figure size 432x288 with 1 Axes>"
      ]
     },
     "metadata": {
      "needs_background": "light"
     },
     "output_type": "display_data"
    },
    {
     "data": {
      "image/png": "[encoded data removed]",
      "text/plain": [
       "<Figure size 432x288 with 1 Axes>"
      ]
     },
     "metadata": {
      "needs_background": "light"
     },
     "output_type": "display_data"
    },
    {
     "data": {
      "image/png": "[encoded data removed]",
      "text/plain": [
       "<Figure size 432x288 with 1 Axes>"
      ]
     },
     "metadata": {
      "needs_background": "light"
     },
     "output_type": "display_data"
    },
    {
     "data": {
      "image/png": "[encoded data removed]",
      "text/plain": [
       "<Figure size 432x288 with 1 Axes>"
      ]
     },
     "metadata": {
      "needs_background": "light"
     },
     "output_type": "display_data"
    },
    {
     "data": {
      "image/png": "[encoded data removed]",
      "text/plain": [
       "<Figure size 432x288 with 1 Axes>"
      ]
     },
     "metadata": {
      "needs_background": "light"
     },
     "output_type": "display_data"
    },
    {
     "data": {
      "image/png": "[encoded data removed]",
      "text/plain": [
       "<Figure size 432x288 with 1 Axes>"
      ]
     },
     "metadata": {
      "needs_background": "light"
     },
     "output_type": "display_data"
    },
    {
     "data": {
      "image/png": "[encoded data removed]",
      "text/plain": [
       "<Figure size 432x288 with 1 Axes>"
      ]
     },
     "metadata": {
      "needs_background": "light"
     },
     "output_type": "display_data"
    },
    {
     "data": {
      "image/png": "[encoded data removed]",
      "text/plain": [
       "<Figure size 432x288 with 1 Axes>"
      ]
     },
     "metadata": {
      "needs_background": "light"
     },
     "output_type": "display_data"
    },
    {
     "data": {
      "image/png": "[encoded data removed]",
      "text/plain": [
       "<Figure size 432x288 with 1 Axes>"
      ]
     },
     "metadata": {
      "needs_background": "light"
     },
     "output_type": "display_data"
    },
    {
     "data": {
      "image/png": "[encoded data removed]",
      "text/plain": [
       "<Figure size 432x288 with 1 Axes>"
      ]
     },
     "metadata": {
      "needs_background": "light"
     },
     "output_type": "display_data"
    },
    {
     "data": {
      "image/png": "[encoded data removed]",
      "text/plain": [
       "<Figure size 432x288 with 1 Axes>"
      ]
     },
     "metadata": {
      "needs_background": "light"
     },
     "output_type": "display_data"
    },
    {
     "data": {
      "image/png": "[encoded data removed]",
      "text/plain": [
       "<Figure size 432x288 with 1 Axes>"
      ]
     },
     "metadata": {
      "needs_background": "light"
     },
     "output_type": "display_data"
    },
    {
     "data": {
      "image/png": "[encoded data removed]",
      "text/plain": [
       "<Figure size 432x288 with 1 Axes>"
      ]
     },
     "metadata": {
      "needs_background": "light"
     },
     "output_type": "display_data"
    },
    {
     "data": {
      "image/png": "[encoded data removed]",
      "text/plain": [
       "<Figure size 432x288 with 1 Axes>"
      ]
     },
     "metadata": {
      "needs_background": "light"
     },
     "output_type": "display_data"
    },
    {
     "data": {
      "image/png": "[encoded data removed]",
      "text/plain": [
       "<Figure size 432x288 with 1 Axes>"
      ]
     },
     "metadata": {
      "needs_background": "light"
     },
     "output_type": "display_data"
    },
    {
     "data": {
      "image/png": "[encoded data removed]",
      "text/plain": [
       "<Figure size 432x288 with 1 Axes>"
      ]
     },
     "metadata": {
      "needs_background": "light"
     },
     "output_type": "display_data"
    },
    {
     "data": {
      "image/png": "[encoded data removed]",
      "text/plain": [
       "<Figure size 432x288 with 1 Axes>"
      ]
     },
     "metadata": {
      "needs_background": "light"
     },
     "output_type": "display_data"
    },
    {
     "data": {
      "image/png": "[encoded data removed]",
      "text/plain": [
       "<Figure size 432x288 with 1 Axes>"
      ]
     },
     "metadata": {
      "needs_background": "light"
     },
     "output_type": "display_data"
    },
    {
     "data": {
      "image/png": "[encoded data removed]",
      "text/plain": [
       "<Figure size 432x288 with 1 Axes>"
      ]
     },
     "metadata": {
      "needs_background": "light"
     },
     "output_type": "display_data"
    },
    {
     "data": {
      "image/png": "[encoded data removed]",
      "text/plain": [
       "<Figure size 432x288 with 1 Axes>"
      ]
     },
     "metadata": {
      "needs_background": "light"
     },
     "output_type": "display_data"
    },
    {
     "data": {
      "image/png": "[encoded data removed]",
      "text/plain": [
       "<Figure size 432x288 with 1 Axes>"
      ]
     },
     "metadata": {
      "needs_background": "light"
     },
     "output_type": "display_data"
    },
    {
     "data": {
      "image/png": "[encoded data removed]",
      "text/plain": [
       "<Figure size 432x288 with 1 Axes>"
      ]
     },
     "metadata": {
      "needs_background": "light"
     },
     "output_type": "display_data"
    },
    {
     "data": {
      "image/png": "[encoded data removed]",
      "text/plain": [
       "<Figure size 432x288 with 1 Axes>"
      ]
     },
     "metadata": {
      "needs_background": "light"
     },
     "output_type": "display_data"
    },
    {
     "data": {
      "image/png": "[encoded data removed]",
      "text/plain": [
       "<Figure size 432x288 with 1 Axes>"
      ]
     },
     "metadata": {
      "needs_background": "light"
     },
     "output_type": "display_data"
    }
   ],
   "source": [
    "for x in df.columns[7:]:\n",
    "    plt.hist(df[x], bins=1000)\n",
    "    plt.title(x)        \n",
    "    plt.show()"
   ]
  },
  {
   "cell_type": "code",
   "execution_count": 24,
   "id": "04fda77e",
   "metadata": {},
   "outputs": [
    {
     "data": {
      "text/plain": [
       "비리       399\n",
       "파업       206\n",
       "산재       173\n",
       "독과점      172\n",
       "공급망      138\n",
       "품질       107\n",
       "경영권      104\n",
       "환경오염      69\n",
       "불공정거래     62\n",
       "분식회계      57\n",
       "고용        55\n",
       "임금        53\n",
       "개인정보      41\n",
       "유해물질      31\n",
       "도덕성       29\n",
       "노동권       23\n",
       "상생        22\n",
       "성범죄       19\n",
       "광고        10\n",
       "Name: ESG, dtype: int64"
      ]
     },
     "execution_count": 24,
     "metadata": {},
     "output_type": "execute_result"
    }
   ],
   "source": [
    "df['ESG'].value_counts()"
   ]
  },
  {
   "cell_type": "code",
   "execution_count": 4,
   "id": "85e969d2",
   "metadata": {
    "collapsed": true
   },
   "outputs": [
    {
     "data": {
      "text/html": [
       "<div>\n",
       "<style scoped>\n",
       "    .dataframe tbody tr th:only-of-type {\n",
       "        vertical-align: middle;\n",
       "    }\n",
       "\n",
       "    .dataframe tbody tr th {\n",
       "        vertical-align: top;\n",
       "    }\n",
       "\n",
       "    .dataframe thead th {\n",
       "        text-align: right;\n",
       "    }\n",
       "</style>\n",
       "<table border=\"1\" class=\"dataframe\">\n",
       "  <thead>\n",
       "    <tr style=\"text-align: right;\">\n",
       "      <th></th>\n",
       "      <th>일자</th>\n",
       "      <th>제목</th>\n",
       "      <th>본문</th>\n",
       "      <th>기업</th>\n",
       "      <th>ESG</th>\n",
       "      <th>중복 횟수</th>\n",
       "      <th>중복 횟수(10일)</th>\n",
       "      <th>AV_VOL_TOT_-5_-2</th>\n",
       "      <th>AV_VOL_TOT_-1_-1</th>\n",
       "      <th>AV_VOL_TOT_0_0</th>\n",
       "      <th>...</th>\n",
       "      <th>TO_INS_-5_-2</th>\n",
       "      <th>TO_INS_-1_-1</th>\n",
       "      <th>TO_INS_0_0</th>\n",
       "      <th>TO_INS_1_1</th>\n",
       "      <th>TO_INS_2_5</th>\n",
       "      <th>TO_FOR_-5_-2</th>\n",
       "      <th>TO_FOR_-1_-1</th>\n",
       "      <th>TO_FOR_0_0</th>\n",
       "      <th>TO_FOR_1_1</th>\n",
       "      <th>TO_FOR_2_5</th>\n",
       "    </tr>\n",
       "  </thead>\n",
       "  <tbody>\n",
       "    <tr>\n",
       "      <th>0</th>\n",
       "      <td>2020-11-04</td>\n",
       "      <td>BNK금융지주 전 간부, 주가 조종 혐의 벌금형</td>\n",
       "      <td>하루 새 100억 원대 주식을 매입해 자사 주가를 끌어올린 혐의로 재판에 넘겨진 B...</td>\n",
       "      <td>BNK금융지주</td>\n",
       "      <td>불공정거래</td>\n",
       "      <td>0</td>\n",
       "      <td>0</td>\n",
       "      <td>0.128097</td>\n",
       "      <td>-0.260732</td>\n",
       "      <td>-0.428205</td>\n",
       "      <td>...</td>\n",
       "      <td>-0.000249</td>\n",
       "      <td>-0.000287</td>\n",
       "      <td>-0.000151</td>\n",
       "      <td>-0.000013</td>\n",
       "      <td>0.000053</td>\n",
       "      <td>-0.000307</td>\n",
       "      <td>-0.000648</td>\n",
       "      <td>-0.000780</td>\n",
       "      <td>-0.000805</td>\n",
       "      <td>-0.000126</td>\n",
       "    </tr>\n",
       "    <tr>\n",
       "      <th>1</th>\n",
       "      <td>2020-01-13</td>\n",
       "      <td>엘시티 부실대출 성세환 전 BNK금융지주 회장에 징역 5년 구형</td>\n",
       "      <td>검찰이 엘시티 사업에 부당한 방법으로 300억 원을 대출한 혐의로 재판에 넘긴 성세...</td>\n",
       "      <td>BNK금융지주</td>\n",
       "      <td>비리</td>\n",
       "      <td>0</td>\n",
       "      <td>0</td>\n",
       "      <td>-0.454610</td>\n",
       "      <td>-0.187791</td>\n",
       "      <td>-0.119757</td>\n",
       "      <td>...</td>\n",
       "      <td>0.000251</td>\n",
       "      <td>0.000227</td>\n",
       "      <td>0.000144</td>\n",
       "      <td>0.000206</td>\n",
       "      <td>-0.000018</td>\n",
       "      <td>-0.000364</td>\n",
       "      <td>-0.000261</td>\n",
       "      <td>-0.000363</td>\n",
       "      <td>0.000234</td>\n",
       "      <td>-0.000218</td>\n",
       "    </tr>\n",
       "    <tr>\n",
       "      <th>2</th>\n",
       "      <td>2018-12-14</td>\n",
       "      <td>'채용비리' 박재경 전 BNK금융지주 사장, 항소심서 감형</td>\n",
       "      <td>[ 김은지 기자 ] \\n부산은행 신입행원 공개채용에서 전직 국회의원 딸을 특혜 채용...</td>\n",
       "      <td>BNK금융지주</td>\n",
       "      <td>비리</td>\n",
       "      <td>0</td>\n",
       "      <td>0</td>\n",
       "      <td>-0.095064</td>\n",
       "      <td>1.136943</td>\n",
       "      <td>-0.077858</td>\n",
       "      <td>...</td>\n",
       "      <td>-0.000187</td>\n",
       "      <td>0.001407</td>\n",
       "      <td>0.000163</td>\n",
       "      <td>0.000017</td>\n",
       "      <td>0.000799</td>\n",
       "      <td>-0.000080</td>\n",
       "      <td>0.001840</td>\n",
       "      <td>0.000213</td>\n",
       "      <td>-0.000013</td>\n",
       "      <td>0.000377</td>\n",
       "    </tr>\n",
       "    <tr>\n",
       "      <th>3</th>\n",
       "      <td>2018-03-20</td>\n",
       "      <td>검찰, '채용비리' 혐의 BNK금융지주 추가 압수수색</td>\n",
       "      <td>부산은행 채용비리를 수사하는 검찰이 BNK금융지주를 추가로 압수수색했다. \\n \\n...</td>\n",
       "      <td>BNK금융지주</td>\n",
       "      <td>비리</td>\n",
       "      <td>0</td>\n",
       "      <td>0</td>\n",
       "      <td>-0.306752</td>\n",
       "      <td>-0.395666</td>\n",
       "      <td>-0.587188</td>\n",
       "      <td>...</td>\n",
       "      <td>-0.000137</td>\n",
       "      <td>-0.000129</td>\n",
       "      <td>-0.000423</td>\n",
       "      <td>0.000539</td>\n",
       "      <td>-0.000099</td>\n",
       "      <td>0.000012</td>\n",
       "      <td>0.000718</td>\n",
       "      <td>-0.001022</td>\n",
       "      <td>0.000393</td>\n",
       "      <td>0.000372</td>\n",
       "    </tr>\n",
       "    <tr>\n",
       "      <th>4</th>\n",
       "      <td>2018-03-01</td>\n",
       "      <td>'채용비리 의혹' BNK금융지주 사장 등 2명 구속영장 청구</td>\n",
       "      <td>채용비리 의혹을 받고 있는 박재경 BNK금융지주 사장과 강모 BNK저축은행 대표이사...</td>\n",
       "      <td>BNK금융지주</td>\n",
       "      <td>비리</td>\n",
       "      <td>3</td>\n",
       "      <td>10</td>\n",
       "      <td>0.069843</td>\n",
       "      <td>0.151386</td>\n",
       "      <td>0.977715</td>\n",
       "      <td>...</td>\n",
       "      <td>-0.000046</td>\n",
       "      <td>-0.000243</td>\n",
       "      <td>0.000144</td>\n",
       "      <td>-0.000287</td>\n",
       "      <td>0.000212</td>\n",
       "      <td>0.000366</td>\n",
       "      <td>0.001470</td>\n",
       "      <td>0.002444</td>\n",
       "      <td>-0.000320</td>\n",
       "      <td>0.000390</td>\n",
       "    </tr>\n",
       "    <tr>\n",
       "      <th>...</th>\n",
       "      <td>...</td>\n",
       "      <td>...</td>\n",
       "      <td>...</td>\n",
       "      <td>...</td>\n",
       "      <td>...</td>\n",
       "      <td>...</td>\n",
       "      <td>...</td>\n",
       "      <td>...</td>\n",
       "      <td>...</td>\n",
       "      <td>...</td>\n",
       "      <td>...</td>\n",
       "      <td>...</td>\n",
       "      <td>...</td>\n",
       "      <td>...</td>\n",
       "      <td>...</td>\n",
       "      <td>...</td>\n",
       "      <td>...</td>\n",
       "      <td>...</td>\n",
       "      <td>...</td>\n",
       "      <td>...</td>\n",
       "      <td>...</td>\n",
       "    </tr>\n",
       "    <tr>\n",
       "      <th>1765</th>\n",
       "      <td>2019-03-21</td>\n",
       "      <td>이부진 호텔신라 사장 \"불법 투약 사실 없다\" 부인</td>\n",
       "      <td>이부진 호텔신라 대표이사 사장은 21일 \"(프로포폴)을 불법 투약한 사실이 없다\"고...</td>\n",
       "      <td>호텔신라</td>\n",
       "      <td>도덕성</td>\n",
       "      <td>0</td>\n",
       "      <td>0</td>\n",
       "      <td>0.834648</td>\n",
       "      <td>0.370905</td>\n",
       "      <td>0.915821</td>\n",
       "      <td>...</td>\n",
       "      <td>0.003456</td>\n",
       "      <td>0.001842</td>\n",
       "      <td>0.004635</td>\n",
       "      <td>0.000318</td>\n",
       "      <td>-0.000294</td>\n",
       "      <td>0.003000</td>\n",
       "      <td>0.000684</td>\n",
       "      <td>-0.000031</td>\n",
       "      <td>-0.000468</td>\n",
       "      <td>-0.002625</td>\n",
       "    </tr>\n",
       "    <tr>\n",
       "      <th>1766</th>\n",
       "      <td>2017-07-12</td>\n",
       "      <td>면세점 비리 의혹에 한화갤러리아 '울고' 호텔신라 '웃고'</td>\n",
       "      <td>신규 면세점 특허 심사 과정에서 일부 업체에 대한 특혜가 있었다는 감사원의 \\n발표...</td>\n",
       "      <td>호텔신라</td>\n",
       "      <td>비리</td>\n",
       "      <td>0</td>\n",
       "      <td>0</td>\n",
       "      <td>-0.284601</td>\n",
       "      <td>-0.310572</td>\n",
       "      <td>1.536280</td>\n",
       "      <td>...</td>\n",
       "      <td>-0.000895</td>\n",
       "      <td>-0.000271</td>\n",
       "      <td>0.001246</td>\n",
       "      <td>0.000497</td>\n",
       "      <td>0.000853</td>\n",
       "      <td>-0.001097</td>\n",
       "      <td>-0.001655</td>\n",
       "      <td>0.003976</td>\n",
       "      <td>0.001040</td>\n",
       "      <td>0.000792</td>\n",
       "    </tr>\n",
       "    <tr>\n",
       "      <th>1767</th>\n",
       "      <td>2017-06-09</td>\n",
       "      <td>임우재 뇌물 혐의, 이부진의 호텔신라에 ‘불똥’</td>\n",
       "      <td>이부진 호텔신라 사장(왼쪽), 임우재 전 삼성전기 고문. [사진=아주경제DB] \\n...</td>\n",
       "      <td>호텔신라</td>\n",
       "      <td>비리</td>\n",
       "      <td>1</td>\n",
       "      <td>1</td>\n",
       "      <td>-0.208108</td>\n",
       "      <td>-0.005533</td>\n",
       "      <td>-0.542903</td>\n",
       "      <td>...</td>\n",
       "      <td>-0.000786</td>\n",
       "      <td>0.000270</td>\n",
       "      <td>-0.000468</td>\n",
       "      <td>-0.000535</td>\n",
       "      <td>0.000774</td>\n",
       "      <td>-0.000371</td>\n",
       "      <td>0.002079</td>\n",
       "      <td>-0.000052</td>\n",
       "      <td>-0.000761</td>\n",
       "      <td>0.001535</td>\n",
       "    </tr>\n",
       "    <tr>\n",
       "      <th>1768</th>\n",
       "      <td>2019-09-10</td>\n",
       "      <td>효성중공업, 국세청 382억원 추징금 부과</td>\n",
       "      <td>[머니투데이 최태범 기자] 효성중공업은 서울지방국세청으로부터 382억원의 추징금을 ...</td>\n",
       "      <td>효성중공업</td>\n",
       "      <td>공급망</td>\n",
       "      <td>0</td>\n",
       "      <td>0</td>\n",
       "      <td>-0.332025</td>\n",
       "      <td>-0.646029</td>\n",
       "      <td>-0.715219</td>\n",
       "      <td>...</td>\n",
       "      <td>-0.000786</td>\n",
       "      <td>-0.000467</td>\n",
       "      <td>-0.000741</td>\n",
       "      <td>-0.000078</td>\n",
       "      <td>-0.000531</td>\n",
       "      <td>-0.000383</td>\n",
       "      <td>-0.000365</td>\n",
       "      <td>-0.000400</td>\n",
       "      <td>-0.000024</td>\n",
       "      <td>-0.000297</td>\n",
       "    </tr>\n",
       "    <tr>\n",
       "      <th>1769</th>\n",
       "      <td>2021-04-16</td>\n",
       "      <td>효성첨단소재 공장서 황산 1천ℓ 누출 “인명 피해 없어”</td>\n",
       "      <td>[KBS 울산]\\n오늘 오전 6시 40분쯤 남구 매암동 효성 첨단소재 공장에서 황산...</td>\n",
       "      <td>효성첨단소재</td>\n",
       "      <td>산재</td>\n",
       "      <td>1</td>\n",
       "      <td>1</td>\n",
       "      <td>-1.106858</td>\n",
       "      <td>-0.742890</td>\n",
       "      <td>0.799528</td>\n",
       "      <td>...</td>\n",
       "      <td>-0.000713</td>\n",
       "      <td>-0.000598</td>\n",
       "      <td>0.000239</td>\n",
       "      <td>-0.000451</td>\n",
       "      <td>-0.000311</td>\n",
       "      <td>-0.003126</td>\n",
       "      <td>-0.002517</td>\n",
       "      <td>0.005686</td>\n",
       "      <td>0.002697</td>\n",
       "      <td>0.002055</td>\n",
       "    </tr>\n",
       "  </tbody>\n",
       "</table>\n",
       "<p>1770 rows × 82 columns</p>\n",
       "</div>"
      ],
      "text/plain": [
       "             일자                                   제목  \\\n",
       "0    2020-11-04           BNK금융지주 전 간부, 주가 조종 혐의 벌금형   \n",
       "1    2020-01-13  엘시티 부실대출 성세환 전 BNK금융지주 회장에 징역 5년 구형   \n",
       "2    2018-12-14     '채용비리' 박재경 전 BNK금융지주 사장, 항소심서 감형   \n",
       "3    2018-03-20        검찰, '채용비리' 혐의 BNK금융지주 추가 압수수색   \n",
       "4    2018-03-01    '채용비리 의혹' BNK금융지주 사장 등 2명 구속영장 청구   \n",
       "...         ...                                  ...   \n",
       "1765 2019-03-21         이부진 호텔신라 사장 \"불법 투약 사실 없다\" 부인   \n",
       "1766 2017-07-12     면세점 비리 의혹에 한화갤러리아 '울고' 호텔신라 '웃고'   \n",
       "1767 2017-06-09           임우재 뇌물 혐의, 이부진의 호텔신라에 ‘불똥’   \n",
       "1768 2019-09-10              효성중공업, 국세청 382억원 추징금 부과   \n",
       "1769 2021-04-16      효성첨단소재 공장서 황산 1천ℓ 누출 “인명 피해 없어”   \n",
       "\n",
       "                                                     본문       기업    ESG  \\\n",
       "0     하루 새 100억 원대 주식을 매입해 자사 주가를 끌어올린 혐의로 재판에 넘겨진 B...  BNK금융지주  불공정거래   \n",
       "1     검찰이 엘시티 사업에 부당한 방법으로 300억 원을 대출한 혐의로 재판에 넘긴 성세...  BNK금융지주     비리   \n",
       "2     [ 김은지 기자 ] \\n부산은행 신입행원 공개채용에서 전직 국회의원 딸을 특혜 채용...  BNK금융지주     비리   \n",
       "3     부산은행 채용비리를 수사하는 검찰이 BNK금융지주를 추가로 압수수색했다. \\n \\n...  BNK금융지주     비리   \n",
       "4     채용비리 의혹을 받고 있는 박재경 BNK금융지주 사장과 강모 BNK저축은행 대표이사...  BNK금융지주     비리   \n",
       "...                                                 ...      ...    ...   \n",
       "1765  이부진 호텔신라 대표이사 사장은 21일 \"(프로포폴)을 불법 투약한 사실이 없다\"고...     호텔신라    도덕성   \n",
       "1766  신규 면세점 특허 심사 과정에서 일부 업체에 대한 특혜가 있었다는 감사원의 \\n발표...     호텔신라     비리   \n",
       "1767  이부진 호텔신라 사장(왼쪽), 임우재 전 삼성전기 고문. [사진=아주경제DB] \\n...     호텔신라     비리   \n",
       "1768  [머니투데이 최태범 기자] 효성중공업은 서울지방국세청으로부터 382억원의 추징금을 ...    효성중공업    공급망   \n",
       "1769  [KBS 울산]\\n오늘 오전 6시 40분쯤 남구 매암동 효성 첨단소재 공장에서 황산...   효성첨단소재     산재   \n",
       "\n",
       "      중복 횟수  중복 횟수(10일)  AV_VOL_TOT_-5_-2  AV_VOL_TOT_-1_-1  AV_VOL_TOT_0_0  \\\n",
       "0         0           0          0.128097         -0.260732       -0.428205   \n",
       "1         0           0         -0.454610         -0.187791       -0.119757   \n",
       "2         0           0         -0.095064          1.136943       -0.077858   \n",
       "3         0           0         -0.306752         -0.395666       -0.587188   \n",
       "4         3          10          0.069843          0.151386        0.977715   \n",
       "...     ...         ...               ...               ...             ...   \n",
       "1765      0           0          0.834648          0.370905        0.915821   \n",
       "1766      0           0         -0.284601         -0.310572        1.536280   \n",
       "1767      1           1         -0.208108         -0.005533       -0.542903   \n",
       "1768      0           0         -0.332025         -0.646029       -0.715219   \n",
       "1769      1           1         -1.106858         -0.742890        0.799528   \n",
       "\n",
       "      ...  TO_INS_-5_-2  TO_INS_-1_-1  TO_INS_0_0  TO_INS_1_1  TO_INS_2_5  \\\n",
       "0     ...     -0.000249     -0.000287   -0.000151   -0.000013    0.000053   \n",
       "1     ...      0.000251      0.000227    0.000144    0.000206   -0.000018   \n",
       "2     ...     -0.000187      0.001407    0.000163    0.000017    0.000799   \n",
       "3     ...     -0.000137     -0.000129   -0.000423    0.000539   -0.000099   \n",
       "4     ...     -0.000046     -0.000243    0.000144   -0.000287    0.000212   \n",
       "...   ...           ...           ...         ...         ...         ...   \n",
       "1765  ...      0.003456      0.001842    0.004635    0.000318   -0.000294   \n",
       "1766  ...     -0.000895     -0.000271    0.001246    0.000497    0.000853   \n",
       "1767  ...     -0.000786      0.000270   -0.000468   -0.000535    0.000774   \n",
       "1768  ...     -0.000786     -0.000467   -0.000741   -0.000078   -0.000531   \n",
       "1769  ...     -0.000713     -0.000598    0.000239   -0.000451   -0.000311   \n",
       "\n",
       "      TO_FOR_-5_-2  TO_FOR_-1_-1  TO_FOR_0_0  TO_FOR_1_1  TO_FOR_2_5  \n",
       "0        -0.000307     -0.000648   -0.000780   -0.000805   -0.000126  \n",
       "1        -0.000364     -0.000261   -0.000363    0.000234   -0.000218  \n",
       "2        -0.000080      0.001840    0.000213   -0.000013    0.000377  \n",
       "3         0.000012      0.000718   -0.001022    0.000393    0.000372  \n",
       "4         0.000366      0.001470    0.002444   -0.000320    0.000390  \n",
       "...            ...           ...         ...         ...         ...  \n",
       "1765      0.003000      0.000684   -0.000031   -0.000468   -0.002625  \n",
       "1766     -0.001097     -0.001655    0.003976    0.001040    0.000792  \n",
       "1767     -0.000371      0.002079   -0.000052   -0.000761    0.001535  \n",
       "1768     -0.000383     -0.000365   -0.000400   -0.000024   -0.000297  \n",
       "1769     -0.003126     -0.002517    0.005686    0.002697    0.002055  \n",
       "\n",
       "[1770 rows x 82 columns]"
      ]
     },
     "execution_count": 4,
     "metadata": {},
     "output_type": "execute_result"
    }
   ],
   "source": [
    "df"
   ]
  },
  {
   "cell_type": "markdown",
   "id": "f11c7483",
   "metadata": {},
   "source": [
    "**연도별 데이터**"
   ]
  },
  {
   "cell_type": "code",
   "execution_count": 10,
   "id": "49040991",
   "metadata": {
    "scrolled": true
   },
   "outputs": [
    {
     "name": "stdout",
     "output_type": "stream",
     "text": [
      "2012 107\n",
      "2013 153\n",
      "2014 167\n",
      "2015 200\n",
      "2016 172\n",
      "2017 174\n",
      "2018 205\n",
      "2019 213\n",
      "2020 208\n",
      "2021 171\n",
      "1770\n"
     ]
    }
   ],
   "source": [
    "yrs = [i for i in range(2012,2022)]\n",
    "yr_smp = []\n",
    "for yr in yrs:\n",
    "    df_yr = df[df['일자'].dt.year == yr]\n",
    "    yr_smp.append(df_yr.shape[0])\n",
    "    print(yr, df_yr.shape[0])    \n",
    "\n",
    "print(sum(yr_smp))"
   ]
  },
  {
   "cell_type": "markdown",
   "id": "89700a33",
   "metadata": {},
   "source": [
    "**산업별 기사수** \\\n",
    "산업기준 : 산업대분류 vs krx분류"
   ]
  },
  {
   "cell_type": "code",
   "execution_count": 4,
   "id": "c651b517",
   "metadata": {
    "collapsed": true
   },
   "outputs": [
    {
     "name": "stdout",
     "output_type": "stream",
     "text": [
      "795\n",
      "\n",
      "krx\n",
      " 운수장비     327\n",
      "전기,전자    177\n",
      "화 학      164\n",
      "유통업      133\n",
      "운수창고     132\n",
      "건설업      122\n",
      "서비스업     117\n",
      "음식료업      98\n",
      "철강,금속     97\n",
      "통신업       94\n",
      "금융업       74\n",
      "의약품       70\n",
      "업종미분류     49\n",
      "전기가스업     39\n",
      "증권        29\n",
      "보험        24\n",
      "비금속광물     10\n",
      "기계         8\n",
      "종이,목재      4\n",
      "섬유,의복      2\n",
      "Name: krx산업, dtype: int64\n",
      "\n",
      "kssc\n",
      " C00000/제조업 (10 ~ 33)                      994\n",
      "G00000/도매 및 소매업(45~47)                    133\n",
      "H00000/운수업(49~52)                         132\n",
      "J00000/출판, 영상, 방송통신 및 정보서비스업 (58 ~ 63)    128\n",
      "K00000/금융 및 보험업 (64 ~ 66)                 124\n",
      "F00000/건설업 (41 ~ 42)                      122\n",
      "R00000/예술, 스포츠 및 여가관련 서비스업(90~91)          49\n",
      "D00000/전기, 가스, 증기 및 수도사업 (35 ~ 36)         39\n",
      "S00000/협회 및 단체, 수리 및 기타 개인 서비스업(94~96)     13\n",
      "A00000/농업, 임업 및 어업 (01 ~ 03)               12\n",
      "M00000/전문, 과학 및 기술 서비스업 (70 ~ 73)          12\n",
      "N00000/사업시설관리 및 사업지원 서비스업 (74 ~ 75)        12\n",
      "Name: 표준산업, dtype: int64\n"
     ]
    }
   ],
   "source": [
    "#ticker찾기\n",
    "df_kospi = pd.read_csv('C:/Users/Jeongseok_Bang/OneDrive/바탕 화면/석사과정/FinLab/ESG/data/KOSPI.csv',  encoding='cp949')\n",
    "df_kospi['종목코드'] = df_kospi['종목코드'].astype(str).str.zfill(6) \n",
    "name_code = dict(zip(df_kospi['종목명'].to_list(),df_kospi['종목코드'].to_list())) # {종목명:tikcer}\n",
    "code_name = dict(zip(df_kospi['종목코드'].to_list(),df_kospi['종목명'].to_list())) # {ticker:종목명}\n",
    "\n",
    "df_fin = pd.read_excel('C:/Users/Jeongseok_Bang/OneDrive/바탕 화면/석사과정/FinLab/ESG/data/kospi_fin_data.xlsx', header=[0,1], engine='openpyxl') \n",
    "df_fin[('종목코드','종목코드')] = df_fin[('종목코드','종목코드')].astype(str).str.zfill(6) \n",
    "# df_fin.set_index(('종목코드','종목코드'), inplace = True) # ticker가 int로 바뀜 \n",
    "# multiindex는 튜플로 호출 df[('a','b')]\n",
    "\n",
    "code_sector_krx = dict(zip(df_fin[('종목코드','종목코드')].to_list(),df_fin[('주식업종','주식업종')].to_list())) # {ticker:산업분류krx}\n",
    "code_sector_kssc = dict(zip(df_fin[('종목코드','종목코드')].to_list(),df_fin[('대분류','대분류')].to_list())) # {ticker:산업분류kssc}\n",
    "print(len(code_sector_kssc)) # 795\n",
    "\n",
    "df_news = df.copy()\n",
    "df_news['종목코드'] = df_news['기업'].apply(lambda x : name_code.get(x)) # 기업이름 -> ticker col추가\n",
    "df_news['krx산업'] =  df_news['종목코드'].apply(lambda x : code_sector_krx.get(x))\n",
    "df_news['표준산업'] = df_news['종목코드'].apply(lambda x : code_sector_kssc.get(x))\n",
    "\n",
    "# total\n",
    "print('\\nkrx\\n', df_news['krx산업'].value_counts())\n",
    "print('\\nkssc\\n',df_news['표준산업'].value_counts())\n",
    "# 맥쿼리인프라 제외됨 -> 추가"
   ]
  },
  {
   "cell_type": "code",
   "execution_count": 5,
   "id": "c3c310c3",
   "metadata": {
    "scrolled": true
   },
   "outputs": [],
   "source": [
    "E =['환경오염']\n",
    "S= ['파업','산재','고용','임금','노동권', '독과점','공급망','상생','품질','개인정보','유해물질','광고','성범죄'] \n",
    "G = ['비리','도덕성','경영권','불공정거래','분식회계']\n",
    "ESG = [E,S,G]\n"
   ]
  },
  {
   "cell_type": "code",
   "execution_count": 144,
   "id": "3146e391",
   "metadata": {},
   "outputs": [
    {
     "name": "stdout",
     "output_type": "stream",
     "text": [
      "69\n",
      "2012 1\n",
      "2013 8\n",
      "2014 4\n",
      "2015 3\n",
      "2016 5\n",
      "2017 7\n",
      "2018 6\n",
      "2019 19\n",
      "2020 9\n",
      "2021 7\n",
      "1050\n",
      "2012 73\n",
      "2013 85\n",
      "2014 95\n",
      "2015 115\n",
      "2016 110\n",
      "2017 96\n",
      "2018 112\n",
      "2019 131\n",
      "2020 126\n",
      "2021 107\n",
      "651\n",
      "2012 33\n",
      "2013 60\n",
      "2014 68\n",
      "2015 82\n",
      "2016 57\n",
      "2017 71\n",
      "2018 87\n",
      "2019 63\n",
      "2020 73\n",
      "2021 57\n"
     ]
    }
   ],
   "source": [
    "# 각 pillar 별 기사 수 & 연도별\n",
    "for pillar in ESG:\n",
    "    df_pillar = df[df['ESG'].isin(pillar)]\n",
    "    print(df[df['ESG'].isin(pillar)].shape[0])\n",
    "    for yr in yrs:\n",
    "        df_yr = df_pillar[df_pillar['일자'].dt.year == yr]\n",
    "        yr_smp.append(df_yr.shape[0])\n",
    "        print(yr, df_yr.shape[0])  \n",
    "\n",
    "# labor =['파업','산재','고용','임금','노동권'] \n",
    "# supply = ['독과점','공급망','상생']\n",
    "# consumer = ['품질','개인정보','유해물질','광고']\n",
    "# corrupt =['비리','도덕성'] \n",
    "# esg_main = [labor, supply, consumer, corrupt]\n",
    "# for main in esg_main:\n",
    "#     print(main, df[df['ESG'].isin(main)].shape[0])\n",
    "\n",
    "# esg_sub = E + S + G\n",
    "# for sub in esg_sub:\n",
    "#     print(sub, df[df['ESG'].isin([sub])].shape[0])"
   ]
  },
  {
   "cell_type": "markdown",
   "id": "34bf3e30",
   "metadata": {},
   "source": [
    "### 전년도에 사건이 발생했을 때 해당년도에 사건이 발생할 확률 : P(S(t)|S(t-1)) "
   ]
  },
  {
   "cell_type": "code",
   "execution_count": 39,
   "id": "b9b46416",
   "metadata": {
    "scrolled": true
   },
   "outputs": [
    {
     "name": "stdout",
     "output_type": "stream",
     "text": [
      "[[0.52194211 0.15873016]\n",
      " [0.15873016 0.16059757]] True\n",
      "(119, 10)\n",
      "650.0\n"
     ]
    }
   ],
   "source": [
    "#기업list\n",
    "df_pillar = df[df['ESG'].isin(G)] #######################여기서 E/S/G 구분\n",
    "firm_lst = df_pillar['기업'].value_counts().index.to_list()\n",
    "\n",
    "# 기업-연도별 E S G 사건 발생 확률\n",
    "event_no =[]\n",
    "for f in firm_lst:\n",
    "    df_firm = df_pillar[df_pillar['기업']==f]\n",
    "    event_firm_no =[]\n",
    "    for yr in range(2012,2022):\n",
    "        df_firm_year = df_firm[df_firm['일자'].dt.year==yr]\n",
    "        \n",
    "#         df_firm_year.reset_index(inplace=True, drop=True)\n",
    "        event_firm_no.append(float(df_firm_year.shape[0]))\n",
    "    event_no.append(event_firm_no)\n",
    "event_no = np.array(event_no)\n",
    "\n",
    "\n",
    "# 해당 기업의 해당년도에 시가총액이 존재하는지 -> 비상장일 제거\n",
    "for i, f in enumerate(firm_lst):\n",
    "    code = name_code.get(f)\n",
    "    df_value = df_fin[df_fin['종목코드','종목코드'] == code]['시가총액']\n",
    "    for j, yr in enumerate(range(2012,2022)):\n",
    "        if df_value[yr].isnull().any() :\n",
    "            event_no[i,j] = np.nan\n",
    "\n",
    "# df_firm_year = pd.DataFrame(event_no, index=firm_lst, columns=range(2012,2022))\n",
    "\n",
    "markov = []\n",
    "for i in range(event_no.shape[0]):\n",
    "    for j in range(1, event_no.shape[1]):\n",
    "        if (event_no[i][j-1] == 0) and (event_no[i][j] == 0) :\n",
    "            markov.append(1)\n",
    "        elif (event_no[i][j-1] == 0) and (event_no[i][j] != 0) :\n",
    "            markov.append(2)\n",
    "        elif (event_no[i][j-1] != 0) and (event_no[i][j] == 0) :\n",
    "            markov.append(3)\n",
    "        elif (event_no[i][j-1] != 0) and (event_no[i][j] != 0) :\n",
    "            markov.append(4)\n",
    "\n",
    "m = np.reshape([markov.count(i)/len(markov) for i in range(1,5)], (2,2)) \n",
    "print(m, len(markov)==event_no.shape[0]*(event_no.shape[1]-1))\n",
    "print(event_no.shape)\n",
    "print(np.nansum(event_no))"
   ]
  },
  {
   "cell_type": "markdown",
   "id": "eb388ef3",
   "metadata": {},
   "source": [
    "E: [[0.90347924 0.01795735]\n",
    " [0.02974186 0.04882155]]\n",
    "\n",
    "S: [[0.58249158 0.12121212]\n",
    " [0.12794613 0.16835017]] True\n",
    "1041.0\n",
    " \n",
    "G: [[0.67789001 0.09539843]\n",
    " [0.10381594 0.12289562]] True\n",
    "650.0\n",
    " "
   ]
  },
  {
   "cell_type": "markdown",
   "id": "598410e3",
   "metadata": {},
   "source": [
    "### 시점 근처에서 사건이 발생할 확률"
   ]
  },
  {
   "cell_type": "code",
   "execution_count": 75,
   "id": "201209b0",
   "metadata": {},
   "outputs": [
    {
     "name": "stdout",
     "output_type": "stream",
     "text": [
      "0.101\n",
      "0.196\n",
      "0.151\n"
     ]
    }
   ],
   "source": [
    "import datetime\n",
    "# df는 이미 날짜순으로 내림차순 정렬됨\n",
    "\n",
    "for pillar in [E,S,G]:\n",
    "    df_pillar = df[df['ESG'].isin(pillar)] #######################여기서 E/S/G 구분\n",
    "#     df_pillar.sort_values(by=['일자'], ascending=[False] ,inplace=True)\n",
    "    firm_lst = df_pillar['기업'].value_counts().index.to_list()\n",
    "#     print(len(firm_lst))\n",
    "    count = []\n",
    "    \n",
    "    for f in firm_lst:\n",
    "        df_firm = df_pillar[df_pillar['기업']==f]\n",
    "        df_firm.reset_index(inplace=True, drop=True)\n",
    "        \n",
    "        for i in range(df_firm.shape[0]): # 최초의 사건은 0으로 처리\n",
    "            if i-1 < df_firm.shape[0]: \n",
    "                c = 0\n",
    "                for j in range(i+1, df_firm.shape[0]):\n",
    "                    if df_firm.iloc[i]['일자'] - df_firm.iloc[j]['일자'] < datetime.timedelta(days=30): ##############여기서 일자간격 결정\n",
    "                        c += 1\n",
    "#                         print(df_firm.iloc[i]['일자'] , df_firm.iloc[j]['일자'], f)\n",
    "                    else:\n",
    "                        break\n",
    "                count.append(c)\n",
    "            if i-1 == df_firm.shape[0]:  # last one (최초의사건)\n",
    "                count.append(0)\n",
    "#     print(count)\n",
    "    print(round(sum(count)/len(count),3))\n"
   ]
  },
  {
   "cell_type": "markdown",
   "id": "5d3bb3dc",
   "metadata": {},
   "source": []
  },
  {
   "cell_type": "code",
   "execution_count": null,
   "id": "e27a0ebb",
   "metadata": {},
   "outputs": [],
   "source": [
    "print(69/25, 1050/155, 650/119) # E S G 각각 기업당 평균 발생건수\n",
    "\n",
    "# std\n",
    "# 개별 기업마다 발생 횟수 lst\n",
    "\n",
    "# median"
   ]
  },
  {
   "cell_type": "code",
   "execution_count": 42,
   "id": "36826be1",
   "metadata": {
    "scrolled": true
   },
   "outputs": [
    {
     "name": "stdout",
     "output_type": "stream",
     "text": [
      "2.76 6.774193548387097 5.46218487394958\n",
      "0.024637681159420294 0.01683899556868538 0.01575091575091575\n",
      "0.05760869565217392 0.033973412112259974 0.0336996336996337\n",
      "0.09891304347826088 0.08685376661742984 0.0826007326007326\n",
      "0.28007246376811595 0.17872968980797638 0.17234432234432234\n"
     ]
    }
   ],
   "source": [
    "\n",
    "# 발생건수로 normalize하면 차이가 없는지\n",
    "print(0.068/2.76, 0.114/6.77, 0.086/5.46) # 20일\n",
    "print(0.159/2.76, 0.23/6.77, 0.184/5.46) # 30일\n",
    "print(0.273/2.76, 0.588/6.77, 0.451/5.46) # 60일\n",
    "print(0.773/2.76, 1.21/6.77, 0.941/5.46) # 120일\n",
    "# 없는건가..?"
   ]
  },
  {
   "cell_type": "markdown",
   "id": "01f99576",
   "metadata": {},
   "source": [
    "### refine 전 데이터 사용 : df2 \n",
    "정제: 10일 사이 중복되면 삭제\n",
    "정제하기 전이라도 같은 날 기사는 중복으로 count 후 삭제된 상태"
   ]
  },
  {
   "cell_type": "code",
   "execution_count": 82,
   "id": "44ae22d9",
   "metadata": {},
   "outputs": [],
   "source": [
    "# result 구분\n",
    "df2 = pd.read_excel('C:/Users/Jeongseok_Bang/OneDrive/바탕 화면/석사과정/FinLab/ESG/DF_최종_10_AR.xlsx', engine='openpyxl') #일자, 기업\n",
    "df2['일자'] = df2['일자'].astype(str)\n",
    "df2['일자'].str[-8:]\n",
    "df2['일자'] = pd.to_datetime(df2['일자'])"
   ]
  },
  {
   "cell_type": "code",
   "execution_count": 83,
   "id": "93136ec5",
   "metadata": {},
   "outputs": [
    {
     "data": {
      "text/html": [
       "<div>\n",
       "<style scoped>\n",
       "    .dataframe tbody tr th:only-of-type {\n",
       "        vertical-align: middle;\n",
       "    }\n",
       "\n",
       "    .dataframe tbody tr th {\n",
       "        vertical-align: top;\n",
       "    }\n",
       "\n",
       "    .dataframe thead th {\n",
       "        text-align: right;\n",
       "    }\n",
       "</style>\n",
       "<table border=\"1\" class=\"dataframe\">\n",
       "  <thead>\n",
       "    <tr style=\"text-align: right;\">\n",
       "      <th></th>\n",
       "      <th>일자</th>\n",
       "      <th>언론사</th>\n",
       "      <th>기고자</th>\n",
       "      <th>제목</th>\n",
       "      <th>키워드</th>\n",
       "      <th>특성추출(가중치순 상위 50개)</th>\n",
       "      <th>본문</th>\n",
       "      <th>URL</th>\n",
       "      <th>기업</th>\n",
       "      <th>E</th>\n",
       "      <th>...</th>\n",
       "      <th>AR_13</th>\n",
       "      <th>AR_14</th>\n",
       "      <th>AR_15</th>\n",
       "      <th>CAR_0_1</th>\n",
       "      <th>CAR_0_3</th>\n",
       "      <th>CAR_0_5</th>\n",
       "      <th>CAR_-1_1</th>\n",
       "      <th>CAR_-1_3</th>\n",
       "      <th>CAR_-1_5</th>\n",
       "      <th>CAR_-5_5</th>\n",
       "    </tr>\n",
       "  </thead>\n",
       "  <tbody>\n",
       "    <tr>\n",
       "      <th>0</th>\n",
       "      <td>2021-11-29</td>\n",
       "      <td>경향신문</td>\n",
       "      <td>이혜리 기자 lhr@kyunghyang.com</td>\n",
       "      <td>또 삼성전자 노동자, 산재조사 결과 기다리다 사망</td>\n",
       "      <td>삼성전자,노동자,산재,조사,결과,사망,산재,역학,조사,LCD,근무,뇌종양,30대,근...</td>\n",
       "      <td>역학조사,연구원,뇌종양,반도체,반올림,lcd,노동자,근로복지공단,삼성전자,산업안전보...</td>\n",
       "      <td>너무 느린 산재 역학조사\\n\\n\\n\\nLCD 근무 중 ‘뇌종양’ 30대 \\n근로공단...</td>\n",
       "      <td>https://www.khan.co.kr/national/labor/article/...</td>\n",
       "      <td>삼성전자</td>\n",
       "      <td>NaN</td>\n",
       "      <td>...</td>\n",
       "      <td>-0.003116</td>\n",
       "      <td>-0.001195</td>\n",
       "      <td>0.006598</td>\n",
       "      <td>0.019572</td>\n",
       "      <td>0.044774</td>\n",
       "      <td>0.041908</td>\n",
       "      <td>0.015282</td>\n",
       "      <td>0.040485</td>\n",
       "      <td>0.037619</td>\n",
       "      <td>0.070346</td>\n",
       "    </tr>\n",
       "    <tr>\n",
       "      <th>1</th>\n",
       "      <td>2021-10-12</td>\n",
       "      <td>아주경제</td>\n",
       "      <td>김수지</td>\n",
       "      <td>삼성전자 노사, 신경전에 ‘상견례’만 두 번째 임금교섭 기싸움</td>\n",
       "      <td>삼성전자,노사,신경전,상견례,임금교섭,기싸움,노조,임금,교섭,요구,회사,전달,일정,...</td>\n",
       "      <td>삼성전자,임금교섭,상견례,1인,위원장,관계자,요구안,부사장,성과급,리더스인</td>\n",
       "      <td>삼성전자 노사가 두 번째 만남에서 상견례를 하고 임금교섭 요구안을 전달하며 협상의 ...</td>\n",
       "      <td>http://www.ajunews.com/view/20211012150628176</td>\n",
       "      <td>삼성전자</td>\n",
       "      <td>NaN</td>\n",
       "      <td>...</td>\n",
       "      <td>0.000186</td>\n",
       "      <td>-0.001348</td>\n",
       "      <td>0.011292</td>\n",
       "      <td>-0.033971</td>\n",
       "      <td>-0.039026</td>\n",
       "      <td>-0.036559</td>\n",
       "      <td>-0.034300</td>\n",
       "      <td>-0.039355</td>\n",
       "      <td>-0.036888</td>\n",
       "      <td>-0.035299</td>\n",
       "    </tr>\n",
       "    <tr>\n",
       "      <th>2</th>\n",
       "      <td>2021-09-30</td>\n",
       "      <td>아주경제</td>\n",
       "      <td>장문기</td>\n",
       "      <td>삼성전자, ‘사내급식 몰아주기’ 제재 공정위 상대로 행정소송 제기</td>\n",
       "      <td>삼성전자,사내급식,상대,제재,공정위,행정,소송,제기,사내,급식,일감,계열사,혐의,2...</td>\n",
       "      <td>공정위,삼성,삼성전자,과징금,사내급식,행정소송,의결서,서울,부당지원,시정명령,삼성전...</td>\n",
       "      <td>사내급식 일감을 계열사에 몰아준 혐의로 2000억원대 과징금을 받은 삼성이 공정거래...</td>\n",
       "      <td>http://www.ajunews.com/view/20210930072759450</td>\n",
       "      <td>삼성전자</td>\n",
       "      <td>NaN</td>\n",
       "      <td>...</td>\n",
       "      <td>0.000502</td>\n",
       "      <td>0.003238</td>\n",
       "      <td>-0.007624</td>\n",
       "      <td>0.001236</td>\n",
       "      <td>0.012175</td>\n",
       "      <td>-0.001534</td>\n",
       "      <td>-0.015444</td>\n",
       "      <td>-0.004506</td>\n",
       "      <td>-0.018214</td>\n",
       "      <td>-0.016183</td>\n",
       "    </tr>\n",
       "    <tr>\n",
       "      <th>3</th>\n",
       "      <td>2021-09-29</td>\n",
       "      <td>헤럴드경제</td>\n",
       "      <td>온라인뉴스 기자</td>\n",
       "      <td>'급식 몰아주기'에 2300억 과징금 받은 삼성전자, 공정위 상대 행정소송 제기</td>\n",
       "      <td>급식,과징금,삼성전자,공정위,상대,행정,소송,제기,사내,급식,일감,계열사,혐의,20...</td>\n",
       "      <td>공정위,삼성,사내식당,삼성전자,과징금,4개,행정소송,사업장,상반기,2300억,시정명...</td>\n",
       "      <td>[헤럴드경제]사내급식 일감을 계열사에 몰아준 혐의로 2000억원이 넘는 과징금을 받...</td>\n",
       "      <td>http://biz.heraldcorp.com/view.php?ud=20210929...</td>\n",
       "      <td>삼성전자</td>\n",
       "      <td>NaN</td>\n",
       "      <td>...</td>\n",
       "      <td>0.001003</td>\n",
       "      <td>0.000502</td>\n",
       "      <td>0.003238</td>\n",
       "      <td>-0.019474</td>\n",
       "      <td>-0.010223</td>\n",
       "      <td>-0.017886</td>\n",
       "      <td>-0.026093</td>\n",
       "      <td>-0.016842</td>\n",
       "      <td>-0.024505</td>\n",
       "      <td>-0.004728</td>\n",
       "    </tr>\n",
       "    <tr>\n",
       "      <th>4</th>\n",
       "      <td>2021-08-12</td>\n",
       "      <td>한겨레</td>\n",
       "      <td>이우연</td>\n",
       "      <td>경실련, ‘삼성웰스토리 일감 몰아주기’ 삼성전자 사장 등 추가고발</td>\n",
       "      <td>경실련,삼성웰스토리,일감,삼성전자,사장,추가고발,경제정의실천시민연합,경실련,최지성,...</td>\n",
       "      <td>삼성전자,삼성웰스토리,경실련,계열사,공정위,4개,웰스토리,고발장,공정거래법,삼성그룹...</td>\n",
       "      <td>경제정의실천시민연합(경실련)은 12일 최지성 전 삼성그룹 미래전략실장과 정현호 삼성...</td>\n",
       "      <td>http://www.hani.co.kr/arti/society/society_gen...</td>\n",
       "      <td>삼성전자</td>\n",
       "      <td>NaN</td>\n",
       "      <td>...</td>\n",
       "      <td>-0.001119</td>\n",
       "      <td>-0.000697</td>\n",
       "      <td>-0.000043</td>\n",
       "      <td>-0.037514</td>\n",
       "      <td>-0.040392</td>\n",
       "      <td>-0.025301</td>\n",
       "      <td>-0.051751</td>\n",
       "      <td>-0.054630</td>\n",
       "      <td>-0.039538</td>\n",
       "      <td>-0.061067</td>\n",
       "    </tr>\n",
       "    <tr>\n",
       "      <th>...</th>\n",
       "      <td>...</td>\n",
       "      <td>...</td>\n",
       "      <td>...</td>\n",
       "      <td>...</td>\n",
       "      <td>...</td>\n",
       "      <td>...</td>\n",
       "      <td>...</td>\n",
       "      <td>...</td>\n",
       "      <td>...</td>\n",
       "      <td>...</td>\n",
       "      <td>...</td>\n",
       "      <td>...</td>\n",
       "      <td>...</td>\n",
       "      <td>...</td>\n",
       "      <td>...</td>\n",
       "      <td>...</td>\n",
       "      <td>...</td>\n",
       "      <td>...</td>\n",
       "      <td>...</td>\n",
       "      <td>...</td>\n",
       "      <td>...</td>\n",
       "    </tr>\n",
       "    <tr>\n",
       "      <th>6864</th>\n",
       "      <td>2014-12-18</td>\n",
       "      <td>아시아경제</td>\n",
       "      <td>임혜선</td>\n",
       "      <td>참엔지니어링, 전 대표 횡령 배임 혐의 피소 확인</td>\n",
       "      <td>참엔지니어링,대표,횡령,배임,확인,혐의,피소,참엔지니어링,18일,대표이사,최대주주,...</td>\n",
       "      <td>대표이사,참엔지니어링,거래소,한국,임직원,임직원들,조회공시요구,서울중앙지검,한국거래...</td>\n",
       "      <td>[아시아경제 임혜선 기자]참엔지니어링은 18일 전 대표이사(최대주주)등 횡령 배임 ...</td>\n",
       "      <td>http:www.asiae.co.kr/news/view.htm?idxno=20141...</td>\n",
       "      <td>참엔지니어링</td>\n",
       "      <td>NaN</td>\n",
       "      <td>...</td>\n",
       "      <td>-0.010527</td>\n",
       "      <td>0.001948</td>\n",
       "      <td>0.001983</td>\n",
       "      <td>-0.008418</td>\n",
       "      <td>-0.131880</td>\n",
       "      <td>0.038595</td>\n",
       "      <td>-0.013580</td>\n",
       "      <td>-0.137041</td>\n",
       "      <td>0.033433</td>\n",
       "      <td>0.005912</td>\n",
       "    </tr>\n",
       "    <tr>\n",
       "      <th>6865</th>\n",
       "      <td>2014-09-24</td>\n",
       "      <td>한국경제</td>\n",
       "      <td>조재길</td>\n",
       "      <td>참엔지니어링 역외 탈세 혐의 세무조사</td>\n",
       "      <td>세무조사,참엔지니어링,역외,탈세,혐의,세무,조사,반도체,장비,제조,업체,참엔지니어링...</td>\n",
       "      <td>참엔지니어링,국세청,세무조사,한국,한인수,대주주,매입액,싱가포르,반도체,베트남,18...</td>\n",
       "      <td>[ 조재길 기자 ] 반도체장비 제조업체인 참엔지니어링이 역외 탈세 혐의로 고\\n강도...</td>\n",
       "      <td>NaN</td>\n",
       "      <td>참엔지니어링</td>\n",
       "      <td>NaN</td>\n",
       "      <td>...</td>\n",
       "      <td>-0.008945</td>\n",
       "      <td>-0.003518</td>\n",
       "      <td>-0.008647</td>\n",
       "      <td>0.071078</td>\n",
       "      <td>0.086285</td>\n",
       "      <td>0.111073</td>\n",
       "      <td>-0.058070</td>\n",
       "      <td>-0.042863</td>\n",
       "      <td>-0.018075</td>\n",
       "      <td>-0.027624</td>\n",
       "    </tr>\n",
       "    <tr>\n",
       "      <th>6866</th>\n",
       "      <td>2012-09-30</td>\n",
       "      <td>아주경제</td>\n",
       "      <td>임하늘</td>\n",
       "      <td>참엔지니어링 대표, 주가조작 항소심서 ‘집행유예’</td>\n",
       "      <td>참엔지니어링,대표,주가,조작,항소,집행유예,경제,임하늘,디스플레이,패널,제조,업체,...</td>\n",
       "      <td>한씨,참엔지니어링,집행유예,시세조종,재판부,임하늘,서울고법,부당이득,허위매수주문,통...</td>\n",
       "      <td>아주경제 임하늘 기자=디스플레이 패널 제조업체인 참엔지니어링 대표이사인 한모씨(52...</td>\n",
       "      <td>http://www.ajunews.com/view/20120930000051</td>\n",
       "      <td>참엔지니어링</td>\n",
       "      <td>NaN</td>\n",
       "      <td>...</td>\n",
       "      <td>-0.005935</td>\n",
       "      <td>0.005231</td>\n",
       "      <td>-0.014811</td>\n",
       "      <td>-0.000463</td>\n",
       "      <td>-0.010613</td>\n",
       "      <td>0.038533</td>\n",
       "      <td>-0.022255</td>\n",
       "      <td>-0.032405</td>\n",
       "      <td>0.016741</td>\n",
       "      <td>0.002157</td>\n",
       "    </tr>\n",
       "    <tr>\n",
       "      <th>6867</th>\n",
       "      <td>2020-03-18</td>\n",
       "      <td>경상일보</td>\n",
       "      <td>이춘봉</td>\n",
       "      <td>‘원산지 조작’ 한국프랜지 전 현직 임원 중형 구형</td>\n",
       "      <td>원산지,조작,한국프랜지,현직,구형,임원,중형,저가,중국,인도산,제품,자신들,생산,국...</td>\n",
       "      <td>원산지,중국,한국프랜지공업,피고인,한국프랜지,사용처,10여년,자신들,국내산,가중처벌...</td>\n",
       "      <td>저가의 중국 인도산 제품을 자신들이 생산한 국산 제품인 것처럼 속여 수백억원대의 차...</td>\n",
       "      <td>www.ksilbo.co.kr/news/articleView.html?idxno=7...</td>\n",
       "      <td>한국프랜지</td>\n",
       "      <td>NaN</td>\n",
       "      <td>...</td>\n",
       "      <td>-0.005539</td>\n",
       "      <td>0.010667</td>\n",
       "      <td>0.015923</td>\n",
       "      <td>-0.052931</td>\n",
       "      <td>-0.050099</td>\n",
       "      <td>-0.061433</td>\n",
       "      <td>0.042290</td>\n",
       "      <td>0.045122</td>\n",
       "      <td>0.033788</td>\n",
       "      <td>-0.155149</td>\n",
       "    </tr>\n",
       "    <tr>\n",
       "      <th>6868</th>\n",
       "      <td>2019-07-04</td>\n",
       "      <td>한겨레</td>\n",
       "      <td>신동명</td>\n",
       "      <td>‘원산지 조작’ 한국프랜지 전 현직 임원 7명 기소</td>\n",
       "      <td>원산지,조작,한국프랜지,현직,기소,임원,울산지검,위장,계열사,중국,인도,수입,제품,...</td>\n",
       "      <td>원산지,한국프랜지,중국,신동명,위장계열사,7명,석유화학설비,정유공장,tms13,제조...</td>\n",
       "      <td>울산지검은 4일 위장계열사를 통해 중국 인도에서 수입한 값싼 제품을 자제 제작한 것...</td>\n",
       "      <td>http://www.hani.co.kr/arti/area/yeongnam/90051...</td>\n",
       "      <td>한국프랜지</td>\n",
       "      <td>NaN</td>\n",
       "      <td>...</td>\n",
       "      <td>-0.003874</td>\n",
       "      <td>0.000709</td>\n",
       "      <td>-0.018843</td>\n",
       "      <td>-0.158056</td>\n",
       "      <td>-0.194985</td>\n",
       "      <td>-0.131771</td>\n",
       "      <td>-0.159502</td>\n",
       "      <td>-0.196431</td>\n",
       "      <td>-0.133217</td>\n",
       "      <td>-0.045882</td>\n",
       "    </tr>\n",
       "  </tbody>\n",
       "</table>\n",
       "<p>6869 rows × 87 columns</p>\n",
       "</div>"
      ],
      "text/plain": [
       "             일자    언론사                        기고자  \\\n",
       "0    2021-11-29   경향신문  이혜리 기자 lhr@kyunghyang.com   \n",
       "1    2021-10-12   아주경제                        김수지   \n",
       "2    2021-09-30   아주경제                        장문기   \n",
       "3    2021-09-29  헤럴드경제                   온라인뉴스 기자   \n",
       "4    2021-08-12    한겨레                        이우연   \n",
       "...         ...    ...                        ...   \n",
       "6864 2014-12-18  아시아경제                        임혜선   \n",
       "6865 2014-09-24   한국경제                        조재길   \n",
       "6866 2012-09-30   아주경제                        임하늘   \n",
       "6867 2020-03-18   경상일보                        이춘봉   \n",
       "6868 2019-07-04    한겨레                        신동명   \n",
       "\n",
       "                                                제목  \\\n",
       "0                      또 삼성전자 노동자, 산재조사 결과 기다리다 사망   \n",
       "1               삼성전자 노사, 신경전에 ‘상견례’만 두 번째 임금교섭 기싸움   \n",
       "2             삼성전자, ‘사내급식 몰아주기’ 제재 공정위 상대로 행정소송 제기   \n",
       "3     '급식 몰아주기'에 2300억 과징금 받은 삼성전자, 공정위 상대 행정소송 제기   \n",
       "4             경실련, ‘삼성웰스토리 일감 몰아주기’ 삼성전자 사장 등 추가고발   \n",
       "...                                            ...   \n",
       "6864                   참엔지니어링, 전 대표 횡령 배임 혐의 피소 확인   \n",
       "6865                          참엔지니어링 역외 탈세 혐의 세무조사   \n",
       "6866                   참엔지니어링 대표, 주가조작 항소심서 ‘집행유예’   \n",
       "6867                  ‘원산지 조작’ 한국프랜지 전 현직 임원 중형 구형   \n",
       "6868                  ‘원산지 조작’ 한국프랜지 전 현직 임원 7명 기소   \n",
       "\n",
       "                                                    키워드  \\\n",
       "0     삼성전자,노동자,산재,조사,결과,사망,산재,역학,조사,LCD,근무,뇌종양,30대,근...   \n",
       "1     삼성전자,노사,신경전,상견례,임금교섭,기싸움,노조,임금,교섭,요구,회사,전달,일정,...   \n",
       "2     삼성전자,사내급식,상대,제재,공정위,행정,소송,제기,사내,급식,일감,계열사,혐의,2...   \n",
       "3     급식,과징금,삼성전자,공정위,상대,행정,소송,제기,사내,급식,일감,계열사,혐의,20...   \n",
       "4     경실련,삼성웰스토리,일감,삼성전자,사장,추가고발,경제정의실천시민연합,경실련,최지성,...   \n",
       "...                                                 ...   \n",
       "6864  참엔지니어링,대표,횡령,배임,확인,혐의,피소,참엔지니어링,18일,대표이사,최대주주,...   \n",
       "6865  세무조사,참엔지니어링,역외,탈세,혐의,세무,조사,반도체,장비,제조,업체,참엔지니어링...   \n",
       "6866  참엔지니어링,대표,주가,조작,항소,집행유예,경제,임하늘,디스플레이,패널,제조,업체,...   \n",
       "6867  원산지,조작,한국프랜지,현직,구형,임원,중형,저가,중국,인도산,제품,자신들,생산,국...   \n",
       "6868  원산지,조작,한국프랜지,현직,기소,임원,울산지검,위장,계열사,중국,인도,수입,제품,...   \n",
       "\n",
       "                                      특성추출(가중치순 상위 50개)  \\\n",
       "0     역학조사,연구원,뇌종양,반도체,반올림,lcd,노동자,근로복지공단,삼성전자,산업안전보...   \n",
       "1             삼성전자,임금교섭,상견례,1인,위원장,관계자,요구안,부사장,성과급,리더스인   \n",
       "2     공정위,삼성,삼성전자,과징금,사내급식,행정소송,의결서,서울,부당지원,시정명령,삼성전...   \n",
       "3     공정위,삼성,사내식당,삼성전자,과징금,4개,행정소송,사업장,상반기,2300억,시정명...   \n",
       "4     삼성전자,삼성웰스토리,경실련,계열사,공정위,4개,웰스토리,고발장,공정거래법,삼성그룹...   \n",
       "...                                                 ...   \n",
       "6864  대표이사,참엔지니어링,거래소,한국,임직원,임직원들,조회공시요구,서울중앙지검,한국거래...   \n",
       "6865  참엔지니어링,국세청,세무조사,한국,한인수,대주주,매입액,싱가포르,반도체,베트남,18...   \n",
       "6866  한씨,참엔지니어링,집행유예,시세조종,재판부,임하늘,서울고법,부당이득,허위매수주문,통...   \n",
       "6867  원산지,중국,한국프랜지공업,피고인,한국프랜지,사용처,10여년,자신들,국내산,가중처벌...   \n",
       "6868  원산지,한국프랜지,중국,신동명,위장계열사,7명,석유화학설비,정유공장,tms13,제조...   \n",
       "\n",
       "                                                     본문  \\\n",
       "0     너무 느린 산재 역학조사\\n\\n\\n\\nLCD 근무 중 ‘뇌종양’ 30대 \\n근로공단...   \n",
       "1     삼성전자 노사가 두 번째 만남에서 상견례를 하고 임금교섭 요구안을 전달하며 협상의 ...   \n",
       "2     사내급식 일감을 계열사에 몰아준 혐의로 2000억원대 과징금을 받은 삼성이 공정거래...   \n",
       "3     [헤럴드경제]사내급식 일감을 계열사에 몰아준 혐의로 2000억원이 넘는 과징금을 받...   \n",
       "4     경제정의실천시민연합(경실련)은 12일 최지성 전 삼성그룹 미래전략실장과 정현호 삼성...   \n",
       "...                                                 ...   \n",
       "6864  [아시아경제 임혜선 기자]참엔지니어링은 18일 전 대표이사(최대주주)등 횡령 배임 ...   \n",
       "6865  [ 조재길 기자 ] 반도체장비 제조업체인 참엔지니어링이 역외 탈세 혐의로 고\\n강도...   \n",
       "6866  아주경제 임하늘 기자=디스플레이 패널 제조업체인 참엔지니어링 대표이사인 한모씨(52...   \n",
       "6867  저가의 중국 인도산 제품을 자신들이 생산한 국산 제품인 것처럼 속여 수백억원대의 차...   \n",
       "6868  울산지검은 4일 위장계열사를 통해 중국 인도에서 수입한 값싼 제품을 자제 제작한 것...   \n",
       "\n",
       "                                                    URL      기업   E  ...  \\\n",
       "0     https://www.khan.co.kr/national/labor/article/...    삼성전자 NaN  ...   \n",
       "1         http://www.ajunews.com/view/20211012150628176    삼성전자 NaN  ...   \n",
       "2         http://www.ajunews.com/view/20210930072759450    삼성전자 NaN  ...   \n",
       "3     http://biz.heraldcorp.com/view.php?ud=20210929...    삼성전자 NaN  ...   \n",
       "4     http://www.hani.co.kr/arti/society/society_gen...    삼성전자 NaN  ...   \n",
       "...                                                 ...     ...  ..  ...   \n",
       "6864  http:www.asiae.co.kr/news/view.htm?idxno=20141...  참엔지니어링 NaN  ...   \n",
       "6865                                                NaN  참엔지니어링 NaN  ...   \n",
       "6866         http://www.ajunews.com/view/20120930000051  참엔지니어링 NaN  ...   \n",
       "6867  www.ksilbo.co.kr/news/articleView.html?idxno=7...   한국프랜지 NaN  ...   \n",
       "6868  http://www.hani.co.kr/arti/area/yeongnam/90051...   한국프랜지 NaN  ...   \n",
       "\n",
       "         AR_13     AR_14     AR_15   CAR_0_1   CAR_0_3   CAR_0_5  CAR_-1_1  \\\n",
       "0    -0.003116 -0.001195  0.006598  0.019572  0.044774  0.041908  0.015282   \n",
       "1     0.000186 -0.001348  0.011292 -0.033971 -0.039026 -0.036559 -0.034300   \n",
       "2     0.000502  0.003238 -0.007624  0.001236  0.012175 -0.001534 -0.015444   \n",
       "3     0.001003  0.000502  0.003238 -0.019474 -0.010223 -0.017886 -0.026093   \n",
       "4    -0.001119 -0.000697 -0.000043 -0.037514 -0.040392 -0.025301 -0.051751   \n",
       "...        ...       ...       ...       ...       ...       ...       ...   \n",
       "6864 -0.010527  0.001948  0.001983 -0.008418 -0.131880  0.038595 -0.013580   \n",
       "6865 -0.008945 -0.003518 -0.008647  0.071078  0.086285  0.111073 -0.058070   \n",
       "6866 -0.005935  0.005231 -0.014811 -0.000463 -0.010613  0.038533 -0.022255   \n",
       "6867 -0.005539  0.010667  0.015923 -0.052931 -0.050099 -0.061433  0.042290   \n",
       "6868 -0.003874  0.000709 -0.018843 -0.158056 -0.194985 -0.131771 -0.159502   \n",
       "\n",
       "      CAR_-1_3  CAR_-1_5  CAR_-5_5  \n",
       "0     0.040485  0.037619  0.070346  \n",
       "1    -0.039355 -0.036888 -0.035299  \n",
       "2    -0.004506 -0.018214 -0.016183  \n",
       "3    -0.016842 -0.024505 -0.004728  \n",
       "4    -0.054630 -0.039538 -0.061067  \n",
       "...        ...       ...       ...  \n",
       "6864 -0.137041  0.033433  0.005912  \n",
       "6865 -0.042863 -0.018075 -0.027624  \n",
       "6866 -0.032405  0.016741  0.002157  \n",
       "6867  0.045122  0.033788 -0.155149  \n",
       "6868 -0.196431 -0.133217 -0.045882  \n",
       "\n",
       "[6869 rows x 87 columns]"
      ]
     },
     "execution_count": 83,
     "metadata": {},
     "output_type": "execute_result"
    }
   ],
   "source": [
    "df2"
   ]
  },
  {
   "cell_type": "code",
   "execution_count": 84,
   "id": "a9e01b89",
   "metadata": {},
   "outputs": [],
   "source": [
    "df2.sort_values(by=['일자','기업'], ascending=[False, True] ,inplace=True)"
   ]
  },
  {
   "cell_type": "code",
   "execution_count": 85,
   "id": "256f2c99",
   "metadata": {},
   "outputs": [
    {
     "data": {
      "text/plain": [
       "(6869, 87)"
      ]
     },
     "execution_count": 85,
     "metadata": {},
     "output_type": "execute_result"
    }
   ],
   "source": [
    "df2.shape # AR~CAR data 있음"
   ]
  },
  {
   "cell_type": "code",
   "execution_count": 86,
   "id": "306b8405",
   "metadata": {},
   "outputs": [
    {
     "name": "stdout",
     "output_type": "stream",
     "text": [
      "200\n",
      "3972\n",
      "2697\n"
     ]
    }
   ],
   "source": [
    "# 각 pillar 별 기사 수 & 연도별\n",
    "for pillar in ESG:\n",
    "    df_pillar = df2[df2['ESG'].isin(pillar)]\n",
    "    print(df_pillar.shape[0])"
   ]
  },
  {
   "cell_type": "code",
   "execution_count": 113,
   "id": "efb415a7",
   "metadata": {},
   "outputs": [
    {
     "name": "stdout",
     "output_type": "stream",
     "text": [
      "0.446\n",
      "1.642\n",
      "1.396\n"
     ]
    }
   ],
   "source": [
    "import datetime\n",
    "\n",
    "for pillar in [E,S,G]:\n",
    "    df_pillar = df2[df2['ESG'].isin(pillar)] #######################여기서 E/S/G 구분\n",
    "    firm_lst = df_pillar['기업'].value_counts().index.to_list()\n",
    "#     print(len(firm_lst))\n",
    "    count = []\n",
    "    \n",
    "    for f in firm_lst:\n",
    "        df_firm = df_pillar[df_pillar['기업']==f]\n",
    "        df_firm.reset_index(inplace=True, drop=True)\n",
    "        \n",
    "        count_temp = [] # 각 기업의 범위 내 사건 수\n",
    "        for i in range(df_firm.shape[0]): # 최초의 사건은 0으로 처리\n",
    "            if i-1 < df_firm.shape[0]: \n",
    "                c = 0\n",
    "                for j in range(i+1, df_firm.shape[0]):\n",
    "                    if df_firm.iloc[i]['일자'] - df_firm.iloc[j]['일자'] < datetime.timedelta(days=10): ##############여기서 일자간격 결정\n",
    "                        c += 1\n",
    "#                         print(df_firm.iloc[i]['일자'] , df_firm.iloc[j]['일자'], f)\n",
    "                    else:\n",
    "                        break\n",
    "                count_temp.append(c)\n",
    "            if i-1 == df_firm.shape[0]:  # last one (최초의사건)\n",
    "                count_temp.append(0)\n",
    "            count.append(sum(count_temp)/len(count_temp))\n",
    "#     print(count)\n",
    "    print(round(sum(count)/len(count),3))\n"
   ]
  },
  {
   "cell_type": "markdown",
   "id": "c0551ff2",
   "metadata": {},
   "source": [
    "<5일> 0.335 0.943 0.923\n",
    "<10일> 0.46 1.749 1.681\n",
    "<20일> 0.65 2.992 2.884\n",
    "<30일> 0.845 4.134 3.966\n",
    "<60일> 1.235 6.928 6.508\n"
   ]
  },
  {
   "cell_type": "code",
   "execution_count": 109,
   "id": "d92ee023",
   "metadata": {
    "scrolled": true
   },
   "outputs": [
    {
     "name": "stdout",
     "output_type": "stream",
     "text": [
      "0.45045045045045046 1.9132947976878614 1.4135220125786163\n",
      "4.444444444444445 17.97285067873303 13.621212121212121\n"
     ]
    }
   ],
   "source": [
    "print(200/444, 3972/2076, 2697/1908) # E S G 각각 기업당 평균 발생건수: event_no에서 nan이 없는 cell 기준\n",
    "print(200/45, 3972/221, 2697/198) # E S G 각각 기업당 평균 발생건수: 기업 수"
   ]
  },
  {
   "cell_type": "markdown",
   "id": "670aff55",
   "metadata": {},
   "source": [
    "standar deviation"
   ]
  },
  {
   "cell_type": "code",
   "execution_count": 197,
   "id": "c2723e99",
   "metadata": {},
   "outputs": [
    {
     "name": "stdout",
     "output_type": "stream",
     "text": [
      "1\n",
      "52.95239935283596\n",
      "25\n",
      "96.6323085122804\n",
      "19\n",
      "110.9962976046427\n"
     ]
    },
    {
     "name": "stderr",
     "output_type": "stream",
     "text": [
      "C:\\Users\\Jeongseok_Bang\\AppData\\Local\\Temp\\ipykernel_5188\\3710551786.py:13: SettingWithCopyWarning: \n",
      "A value is trying to be set on a copy of a slice from a DataFrame.\n",
      "Try using .loc[row_indexer,col_indexer] = value instead\n",
      "\n",
      "See the caveats in the documentation: https://pandas.pydata.org/pandas-docs/stable/user_guide/indexing.html#returning-a-view-versus-a-copy\n",
      "  df_firm['일자차이'] = df_firm['일자'] - df_firm['일자'].shift(-1)\n",
      "C:\\Users\\Jeongseok_Bang\\AppData\\Local\\Temp\\ipykernel_5188\\3710551786.py:13: SettingWithCopyWarning: \n",
      "A value is trying to be set on a copy of a slice from a DataFrame.\n",
      "Try using .loc[row_indexer,col_indexer] = value instead\n",
      "\n",
      "See the caveats in the documentation: https://pandas.pydata.org/pandas-docs/stable/user_guide/indexing.html#returning-a-view-versus-a-copy\n",
      "  df_firm['일자차이'] = df_firm['일자'] - df_firm['일자'].shift(-1)\n",
      "C:\\Users\\Jeongseok_Bang\\AppData\\Local\\Temp\\ipykernel_5188\\3710551786.py:13: SettingWithCopyWarning: \n",
      "A value is trying to be set on a copy of a slice from a DataFrame.\n",
      "Try using .loc[row_indexer,col_indexer] = value instead\n",
      "\n",
      "See the caveats in the documentation: https://pandas.pydata.org/pandas-docs/stable/user_guide/indexing.html#returning-a-view-versus-a-copy\n",
      "  df_firm['일자차이'] = df_firm['일자'] - df_firm['일자'].shift(-1)\n",
      "C:\\Users\\Jeongseok_Bang\\AppData\\Local\\Temp\\ipykernel_5188\\3710551786.py:13: SettingWithCopyWarning: \n",
      "A value is trying to be set on a copy of a slice from a DataFrame.\n",
      "Try using .loc[row_indexer,col_indexer] = value instead\n",
      "\n",
      "See the caveats in the documentation: https://pandas.pydata.org/pandas-docs/stable/user_guide/indexing.html#returning-a-view-versus-a-copy\n",
      "  df_firm['일자차이'] = df_firm['일자'] - df_firm['일자'].shift(-1)\n",
      "C:\\Users\\Jeongseok_Bang\\AppData\\Local\\Temp\\ipykernel_5188\\3710551786.py:13: SettingWithCopyWarning: \n",
      "A value is trying to be set on a copy of a slice from a DataFrame.\n",
      "Try using .loc[row_indexer,col_indexer] = value instead\n",
      "\n",
      "See the caveats in the documentation: https://pandas.pydata.org/pandas-docs/stable/user_guide/indexing.html#returning-a-view-versus-a-copy\n",
      "  df_firm['일자차이'] = df_firm['일자'] - df_firm['일자'].shift(-1)\n",
      "C:\\Users\\Jeongseok_Bang\\AppData\\Local\\Temp\\ipykernel_5188\\3710551786.py:13: SettingWithCopyWarning: \n",
      "A value is trying to be set on a copy of a slice from a DataFrame.\n",
      "Try using .loc[row_indexer,col_indexer] = value instead\n",
      "\n",
      "See the caveats in the documentation: https://pandas.pydata.org/pandas-docs/stable/user_guide/indexing.html#returning-a-view-versus-a-copy\n",
      "  df_firm['일자차이'] = df_firm['일자'] - df_firm['일자'].shift(-1)\n",
      "C:\\Users\\Jeongseok_Bang\\AppData\\Local\\Temp\\ipykernel_5188\\3710551786.py:13: SettingWithCopyWarning: \n",
      "A value is trying to be set on a copy of a slice from a DataFrame.\n",
      "Try using .loc[row_indexer,col_indexer] = value instead\n",
      "\n",
      "See the caveats in the documentation: https://pandas.pydata.org/pandas-docs/stable/user_guide/indexing.html#returning-a-view-versus-a-copy\n",
      "  df_firm['일자차이'] = df_firm['일자'] - df_firm['일자'].shift(-1)\n",
      "C:\\Users\\Jeongseok_Bang\\AppData\\Local\\Temp\\ipykernel_5188\\3710551786.py:13: SettingWithCopyWarning: \n",
      "A value is trying to be set on a copy of a slice from a DataFrame.\n",
      "Try using .loc[row_indexer,col_indexer] = value instead\n",
      "\n",
      "See the caveats in the documentation: https://pandas.pydata.org/pandas-docs/stable/user_guide/indexing.html#returning-a-view-versus-a-copy\n",
      "  df_firm['일자차이'] = df_firm['일자'] - df_firm['일자'].shift(-1)\n",
      "C:\\Users\\Jeongseok_Bang\\AppData\\Local\\Temp\\ipykernel_5188\\3710551786.py:13: SettingWithCopyWarning: \n",
      "A value is trying to be set on a copy of a slice from a DataFrame.\n",
      "Try using .loc[row_indexer,col_indexer] = value instead\n",
      "\n",
      "See the caveats in the documentation: https://pandas.pydata.org/pandas-docs/stable/user_guide/indexing.html#returning-a-view-versus-a-copy\n",
      "  df_firm['일자차이'] = df_firm['일자'] - df_firm['일자'].shift(-1)\n",
      "C:\\Users\\Jeongseok_Bang\\AppData\\Local\\Temp\\ipykernel_5188\\3710551786.py:13: SettingWithCopyWarning: \n",
      "A value is trying to be set on a copy of a slice from a DataFrame.\n",
      "Try using .loc[row_indexer,col_indexer] = value instead\n",
      "\n",
      "See the caveats in the documentation: https://pandas.pydata.org/pandas-docs/stable/user_guide/indexing.html#returning-a-view-versus-a-copy\n",
      "  df_firm['일자차이'] = df_firm['일자'] - df_firm['일자'].shift(-1)\n",
      "C:\\Users\\Jeongseok_Bang\\AppData\\Local\\Temp\\ipykernel_5188\\3710551786.py:13: SettingWithCopyWarning: \n",
      "A value is trying to be set on a copy of a slice from a DataFrame.\n",
      "Try using .loc[row_indexer,col_indexer] = value instead\n",
      "\n",
      "See the caveats in the documentation: https://pandas.pydata.org/pandas-docs/stable/user_guide/indexing.html#returning-a-view-versus-a-copy\n",
      "  df_firm['일자차이'] = df_firm['일자'] - df_firm['일자'].shift(-1)\n",
      "C:\\Users\\Jeongseok_Bang\\AppData\\Local\\Temp\\ipykernel_5188\\3710551786.py:13: SettingWithCopyWarning: \n",
      "A value is trying to be set on a copy of a slice from a DataFrame.\n",
      "Try using .loc[row_indexer,col_indexer] = value instead\n",
      "\n",
      "See the caveats in the documentation: https://pandas.pydata.org/pandas-docs/stable/user_guide/indexing.html#returning-a-view-versus-a-copy\n",
      "  df_firm['일자차이'] = df_firm['일자'] - df_firm['일자'].shift(-1)\n",
      "C:\\Users\\Jeongseok_Bang\\AppData\\Local\\Temp\\ipykernel_5188\\3710551786.py:13: SettingWithCopyWarning: \n",
      "A value is trying to be set on a copy of a slice from a DataFrame.\n",
      "Try using .loc[row_indexer,col_indexer] = value instead\n",
      "\n",
      "See the caveats in the documentation: https://pandas.pydata.org/pandas-docs/stable/user_guide/indexing.html#returning-a-view-versus-a-copy\n",
      "  df_firm['일자차이'] = df_firm['일자'] - df_firm['일자'].shift(-1)\n",
      "C:\\Users\\Jeongseok_Bang\\AppData\\Local\\Temp\\ipykernel_5188\\3710551786.py:13: SettingWithCopyWarning: \n",
      "A value is trying to be set on a copy of a slice from a DataFrame.\n",
      "Try using .loc[row_indexer,col_indexer] = value instead\n",
      "\n",
      "See the caveats in the documentation: https://pandas.pydata.org/pandas-docs/stable/user_guide/indexing.html#returning-a-view-versus-a-copy\n",
      "  df_firm['일자차이'] = df_firm['일자'] - df_firm['일자'].shift(-1)\n",
      "C:\\Users\\Jeongseok_Bang\\AppData\\Local\\Temp\\ipykernel_5188\\3710551786.py:13: SettingWithCopyWarning: \n",
      "A value is trying to be set on a copy of a slice from a DataFrame.\n",
      "Try using .loc[row_indexer,col_indexer] = value instead\n",
      "\n",
      "See the caveats in the documentation: https://pandas.pydata.org/pandas-docs/stable/user_guide/indexing.html#returning-a-view-versus-a-copy\n",
      "  df_firm['일자차이'] = df_firm['일자'] - df_firm['일자'].shift(-1)\n",
      "C:\\Users\\Jeongseok_Bang\\AppData\\Local\\Temp\\ipykernel_5188\\3710551786.py:13: SettingWithCopyWarning: \n",
      "A value is trying to be set on a copy of a slice from a DataFrame.\n",
      "Try using .loc[row_indexer,col_indexer] = value instead\n",
      "\n",
      "See the caveats in the documentation: https://pandas.pydata.org/pandas-docs/stable/user_guide/indexing.html#returning-a-view-versus-a-copy\n",
      "  df_firm['일자차이'] = df_firm['일자'] - df_firm['일자'].shift(-1)\n",
      "C:\\Users\\Jeongseok_Bang\\AppData\\Local\\Temp\\ipykernel_5188\\3710551786.py:13: SettingWithCopyWarning: \n",
      "A value is trying to be set on a copy of a slice from a DataFrame.\n",
      "Try using .loc[row_indexer,col_indexer] = value instead\n",
      "\n",
      "See the caveats in the documentation: https://pandas.pydata.org/pandas-docs/stable/user_guide/indexing.html#returning-a-view-versus-a-copy\n",
      "  df_firm['일자차이'] = df_firm['일자'] - df_firm['일자'].shift(-1)\n",
      "C:\\Users\\Jeongseok_Bang\\AppData\\Local\\Temp\\ipykernel_5188\\3710551786.py:13: SettingWithCopyWarning: \n",
      "A value is trying to be set on a copy of a slice from a DataFrame.\n",
      "Try using .loc[row_indexer,col_indexer] = value instead\n",
      "\n",
      "See the caveats in the documentation: https://pandas.pydata.org/pandas-docs/stable/user_guide/indexing.html#returning-a-view-versus-a-copy\n",
      "  df_firm['일자차이'] = df_firm['일자'] - df_firm['일자'].shift(-1)\n",
      "C:\\Users\\Jeongseok_Bang\\AppData\\Local\\Temp\\ipykernel_5188\\3710551786.py:13: SettingWithCopyWarning: \n",
      "A value is trying to be set on a copy of a slice from a DataFrame.\n",
      "Try using .loc[row_indexer,col_indexer] = value instead\n",
      "\n",
      "See the caveats in the documentation: https://pandas.pydata.org/pandas-docs/stable/user_guide/indexing.html#returning-a-view-versus-a-copy\n",
      "  df_firm['일자차이'] = df_firm['일자'] - df_firm['일자'].shift(-1)\n",
      "C:\\Users\\Jeongseok_Bang\\AppData\\Local\\Temp\\ipykernel_5188\\3710551786.py:13: SettingWithCopyWarning: \n",
      "A value is trying to be set on a copy of a slice from a DataFrame.\n",
      "Try using .loc[row_indexer,col_indexer] = value instead\n",
      "\n",
      "See the caveats in the documentation: https://pandas.pydata.org/pandas-docs/stable/user_guide/indexing.html#returning-a-view-versus-a-copy\n",
      "  df_firm['일자차이'] = df_firm['일자'] - df_firm['일자'].shift(-1)\n",
      "C:\\Users\\Jeongseok_Bang\\AppData\\Local\\Temp\\ipykernel_5188\\3710551786.py:13: SettingWithCopyWarning: \n",
      "A value is trying to be set on a copy of a slice from a DataFrame.\n",
      "Try using .loc[row_indexer,col_indexer] = value instead\n",
      "\n",
      "See the caveats in the documentation: https://pandas.pydata.org/pandas-docs/stable/user_guide/indexing.html#returning-a-view-versus-a-copy\n",
      "  df_firm['일자차이'] = df_firm['일자'] - df_firm['일자'].shift(-1)\n",
      "C:\\Users\\Jeongseok_Bang\\AppData\\Local\\Temp\\ipykernel_5188\\3710551786.py:13: SettingWithCopyWarning: \n",
      "A value is trying to be set on a copy of a slice from a DataFrame.\n",
      "Try using .loc[row_indexer,col_indexer] = value instead\n",
      "\n",
      "See the caveats in the documentation: https://pandas.pydata.org/pandas-docs/stable/user_guide/indexing.html#returning-a-view-versus-a-copy\n",
      "  df_firm['일자차이'] = df_firm['일자'] - df_firm['일자'].shift(-1)\n",
      "C:\\Users\\Jeongseok_Bang\\AppData\\Local\\Temp\\ipykernel_5188\\3710551786.py:13: SettingWithCopyWarning: \n",
      "A value is trying to be set on a copy of a slice from a DataFrame.\n",
      "Try using .loc[row_indexer,col_indexer] = value instead\n",
      "\n",
      "See the caveats in the documentation: https://pandas.pydata.org/pandas-docs/stable/user_guide/indexing.html#returning-a-view-versus-a-copy\n",
      "  df_firm['일자차이'] = df_firm['일자'] - df_firm['일자'].shift(-1)\n",
      "C:\\Users\\Jeongseok_Bang\\AppData\\Local\\Temp\\ipykernel_5188\\3710551786.py:13: SettingWithCopyWarning: \n",
      "A value is trying to be set on a copy of a slice from a DataFrame.\n",
      "Try using .loc[row_indexer,col_indexer] = value instead\n",
      "\n",
      "See the caveats in the documentation: https://pandas.pydata.org/pandas-docs/stable/user_guide/indexing.html#returning-a-view-versus-a-copy\n",
      "  df_firm['일자차이'] = df_firm['일자'] - df_firm['일자'].shift(-1)\n",
      "C:\\Users\\Jeongseok_Bang\\AppData\\Local\\Temp\\ipykernel_5188\\3710551786.py:13: SettingWithCopyWarning: \n",
      "A value is trying to be set on a copy of a slice from a DataFrame.\n",
      "Try using .loc[row_indexer,col_indexer] = value instead\n",
      "\n",
      "See the caveats in the documentation: https://pandas.pydata.org/pandas-docs/stable/user_guide/indexing.html#returning-a-view-versus-a-copy\n",
      "  df_firm['일자차이'] = df_firm['일자'] - df_firm['일자'].shift(-1)\n",
      "C:\\Users\\Jeongseok_Bang\\AppData\\Local\\Temp\\ipykernel_5188\\3710551786.py:13: SettingWithCopyWarning: \n",
      "A value is trying to be set on a copy of a slice from a DataFrame.\n",
      "Try using .loc[row_indexer,col_indexer] = value instead\n",
      "\n",
      "See the caveats in the documentation: https://pandas.pydata.org/pandas-docs/stable/user_guide/indexing.html#returning-a-view-versus-a-copy\n",
      "  df_firm['일자차이'] = df_firm['일자'] - df_firm['일자'].shift(-1)\n",
      "C:\\Users\\Jeongseok_Bang\\AppData\\Local\\Temp\\ipykernel_5188\\3710551786.py:13: SettingWithCopyWarning: \n",
      "A value is trying to be set on a copy of a slice from a DataFrame.\n",
      "Try using .loc[row_indexer,col_indexer] = value instead\n",
      "\n",
      "See the caveats in the documentation: https://pandas.pydata.org/pandas-docs/stable/user_guide/indexing.html#returning-a-view-versus-a-copy\n",
      "  df_firm['일자차이'] = df_firm['일자'] - df_firm['일자'].shift(-1)\n",
      "C:\\Users\\Jeongseok_Bang\\AppData\\Local\\Temp\\ipykernel_5188\\3710551786.py:13: SettingWithCopyWarning: \n",
      "A value is trying to be set on a copy of a slice from a DataFrame.\n",
      "Try using .loc[row_indexer,col_indexer] = value instead\n",
      "\n",
      "See the caveats in the documentation: https://pandas.pydata.org/pandas-docs/stable/user_guide/indexing.html#returning-a-view-versus-a-copy\n",
      "  df_firm['일자차이'] = df_firm['일자'] - df_firm['일자'].shift(-1)\n",
      "C:\\Users\\Jeongseok_Bang\\AppData\\Local\\Temp\\ipykernel_5188\\3710551786.py:13: SettingWithCopyWarning: \n",
      "A value is trying to be set on a copy of a slice from a DataFrame.\n",
      "Try using .loc[row_indexer,col_indexer] = value instead\n",
      "\n",
      "See the caveats in the documentation: https://pandas.pydata.org/pandas-docs/stable/user_guide/indexing.html#returning-a-view-versus-a-copy\n",
      "  df_firm['일자차이'] = df_firm['일자'] - df_firm['일자'].shift(-1)\n",
      "C:\\Users\\Jeongseok_Bang\\AppData\\Local\\Temp\\ipykernel_5188\\3710551786.py:13: SettingWithCopyWarning: \n",
      "A value is trying to be set on a copy of a slice from a DataFrame.\n",
      "Try using .loc[row_indexer,col_indexer] = value instead\n",
      "\n",
      "See the caveats in the documentation: https://pandas.pydata.org/pandas-docs/stable/user_guide/indexing.html#returning-a-view-versus-a-copy\n",
      "  df_firm['일자차이'] = df_firm['일자'] - df_firm['일자'].shift(-1)\n",
      "C:\\Users\\Jeongseok_Bang\\AppData\\Local\\Temp\\ipykernel_5188\\3710551786.py:13: SettingWithCopyWarning: \n",
      "A value is trying to be set on a copy of a slice from a DataFrame.\n",
      "Try using .loc[row_indexer,col_indexer] = value instead\n",
      "\n",
      "See the caveats in the documentation: https://pandas.pydata.org/pandas-docs/stable/user_guide/indexing.html#returning-a-view-versus-a-copy\n",
      "  df_firm['일자차이'] = df_firm['일자'] - df_firm['일자'].shift(-1)\n",
      "C:\\Users\\Jeongseok_Bang\\AppData\\Local\\Temp\\ipykernel_5188\\3710551786.py:13: SettingWithCopyWarning: \n",
      "A value is trying to be set on a copy of a slice from a DataFrame.\n",
      "Try using .loc[row_indexer,col_indexer] = value instead\n",
      "\n",
      "See the caveats in the documentation: https://pandas.pydata.org/pandas-docs/stable/user_guide/indexing.html#returning-a-view-versus-a-copy\n",
      "  df_firm['일자차이'] = df_firm['일자'] - df_firm['일자'].shift(-1)\n",
      "C:\\Users\\Jeongseok_Bang\\AppData\\Local\\Temp\\ipykernel_5188\\3710551786.py:13: SettingWithCopyWarning: \n",
      "A value is trying to be set on a copy of a slice from a DataFrame.\n",
      "Try using .loc[row_indexer,col_indexer] = value instead\n",
      "\n",
      "See the caveats in the documentation: https://pandas.pydata.org/pandas-docs/stable/user_guide/indexing.html#returning-a-view-versus-a-copy\n",
      "  df_firm['일자차이'] = df_firm['일자'] - df_firm['일자'].shift(-1)\n",
      "C:\\Users\\Jeongseok_Bang\\AppData\\Local\\Temp\\ipykernel_5188\\3710551786.py:13: SettingWithCopyWarning: \n",
      "A value is trying to be set on a copy of a slice from a DataFrame.\n",
      "Try using .loc[row_indexer,col_indexer] = value instead\n",
      "\n",
      "See the caveats in the documentation: https://pandas.pydata.org/pandas-docs/stable/user_guide/indexing.html#returning-a-view-versus-a-copy\n",
      "  df_firm['일자차이'] = df_firm['일자'] - df_firm['일자'].shift(-1)\n",
      "C:\\Users\\Jeongseok_Bang\\AppData\\Local\\Temp\\ipykernel_5188\\3710551786.py:13: SettingWithCopyWarning: \n",
      "A value is trying to be set on a copy of a slice from a DataFrame.\n",
      "Try using .loc[row_indexer,col_indexer] = value instead\n",
      "\n",
      "See the caveats in the documentation: https://pandas.pydata.org/pandas-docs/stable/user_guide/indexing.html#returning-a-view-versus-a-copy\n",
      "  df_firm['일자차이'] = df_firm['일자'] - df_firm['일자'].shift(-1)\n",
      "C:\\Users\\Jeongseok_Bang\\AppData\\Local\\Temp\\ipykernel_5188\\3710551786.py:13: SettingWithCopyWarning: \n",
      "A value is trying to be set on a copy of a slice from a DataFrame.\n",
      "Try using .loc[row_indexer,col_indexer] = value instead\n",
      "\n",
      "See the caveats in the documentation: https://pandas.pydata.org/pandas-docs/stable/user_guide/indexing.html#returning-a-view-versus-a-copy\n",
      "  df_firm['일자차이'] = df_firm['일자'] - df_firm['일자'].shift(-1)\n",
      "C:\\Users\\Jeongseok_Bang\\AppData\\Local\\Temp\\ipykernel_5188\\3710551786.py:13: SettingWithCopyWarning: \n",
      "A value is trying to be set on a copy of a slice from a DataFrame.\n",
      "Try using .loc[row_indexer,col_indexer] = value instead\n",
      "\n",
      "See the caveats in the documentation: https://pandas.pydata.org/pandas-docs/stable/user_guide/indexing.html#returning-a-view-versus-a-copy\n",
      "  df_firm['일자차이'] = df_firm['일자'] - df_firm['일자'].shift(-1)\n",
      "C:\\Users\\Jeongseok_Bang\\AppData\\Local\\Temp\\ipykernel_5188\\3710551786.py:13: SettingWithCopyWarning: \n",
      "A value is trying to be set on a copy of a slice from a DataFrame.\n",
      "Try using .loc[row_indexer,col_indexer] = value instead\n",
      "\n",
      "See the caveats in the documentation: https://pandas.pydata.org/pandas-docs/stable/user_guide/indexing.html#returning-a-view-versus-a-copy\n",
      "  df_firm['일자차이'] = df_firm['일자'] - df_firm['일자'].shift(-1)\n",
      "C:\\Users\\Jeongseok_Bang\\AppData\\Local\\Temp\\ipykernel_5188\\3710551786.py:13: SettingWithCopyWarning: \n",
      "A value is trying to be set on a copy of a slice from a DataFrame.\n",
      "Try using .loc[row_indexer,col_indexer] = value instead\n",
      "\n",
      "See the caveats in the documentation: https://pandas.pydata.org/pandas-docs/stable/user_guide/indexing.html#returning-a-view-versus-a-copy\n",
      "  df_firm['일자차이'] = df_firm['일자'] - df_firm['일자'].shift(-1)\n",
      "C:\\Users\\Jeongseok_Bang\\AppData\\Local\\Temp\\ipykernel_5188\\3710551786.py:13: SettingWithCopyWarning: \n",
      "A value is trying to be set on a copy of a slice from a DataFrame.\n",
      "Try using .loc[row_indexer,col_indexer] = value instead\n",
      "\n",
      "See the caveats in the documentation: https://pandas.pydata.org/pandas-docs/stable/user_guide/indexing.html#returning-a-view-versus-a-copy\n",
      "  df_firm['일자차이'] = df_firm['일자'] - df_firm['일자'].shift(-1)\n",
      "C:\\Users\\Jeongseok_Bang\\AppData\\Local\\Temp\\ipykernel_5188\\3710551786.py:13: SettingWithCopyWarning: \n",
      "A value is trying to be set on a copy of a slice from a DataFrame.\n",
      "Try using .loc[row_indexer,col_indexer] = value instead\n",
      "\n",
      "See the caveats in the documentation: https://pandas.pydata.org/pandas-docs/stable/user_guide/indexing.html#returning-a-view-versus-a-copy\n",
      "  df_firm['일자차이'] = df_firm['일자'] - df_firm['일자'].shift(-1)\n",
      "C:\\Users\\Jeongseok_Bang\\AppData\\Local\\Temp\\ipykernel_5188\\3710551786.py:13: SettingWithCopyWarning: \n",
      "A value is trying to be set on a copy of a slice from a DataFrame.\n",
      "Try using .loc[row_indexer,col_indexer] = value instead\n",
      "\n",
      "See the caveats in the documentation: https://pandas.pydata.org/pandas-docs/stable/user_guide/indexing.html#returning-a-view-versus-a-copy\n",
      "  df_firm['일자차이'] = df_firm['일자'] - df_firm['일자'].shift(-1)\n",
      "C:\\Users\\Jeongseok_Bang\\AppData\\Local\\Temp\\ipykernel_5188\\3710551786.py:13: SettingWithCopyWarning: \n",
      "A value is trying to be set on a copy of a slice from a DataFrame.\n",
      "Try using .loc[row_indexer,col_indexer] = value instead\n",
      "\n",
      "See the caveats in the documentation: https://pandas.pydata.org/pandas-docs/stable/user_guide/indexing.html#returning-a-view-versus-a-copy\n",
      "  df_firm['일자차이'] = df_firm['일자'] - df_firm['일자'].shift(-1)\n",
      "C:\\Users\\Jeongseok_Bang\\AppData\\Local\\Temp\\ipykernel_5188\\3710551786.py:13: SettingWithCopyWarning: \n",
      "A value is trying to be set on a copy of a slice from a DataFrame.\n",
      "Try using .loc[row_indexer,col_indexer] = value instead\n",
      "\n",
      "See the caveats in the documentation: https://pandas.pydata.org/pandas-docs/stable/user_guide/indexing.html#returning-a-view-versus-a-copy\n",
      "  df_firm['일자차이'] = df_firm['일자'] - df_firm['일자'].shift(-1)\n",
      "C:\\Users\\Jeongseok_Bang\\AppData\\Local\\Temp\\ipykernel_5188\\3710551786.py:13: SettingWithCopyWarning: \n",
      "A value is trying to be set on a copy of a slice from a DataFrame.\n",
      "Try using .loc[row_indexer,col_indexer] = value instead\n",
      "\n",
      "See the caveats in the documentation: https://pandas.pydata.org/pandas-docs/stable/user_guide/indexing.html#returning-a-view-versus-a-copy\n",
      "  df_firm['일자차이'] = df_firm['일자'] - df_firm['일자'].shift(-1)\n"
     ]
    }
   ],
   "source": [
    "for pillar in [E,S,G]:\n",
    "    df_pillar = df2[df2['ESG'].isin(pillar)] #######################여기서 E/S/G 구분\n",
    "    firm_lst = df_pillar['기업'].value_counts().index.to_list()\n",
    "#     print(len(firm_lst))\n",
    "    \n",
    "    diffs = np.array([])\n",
    "    for f in firm_lst:\n",
    "        df_firm = df_pillar[df_pillar['기업']==f]\n",
    "        df_firm.reset_index(inplace=True, drop=True)\n",
    "        if df_firm.shape[0] <= 30: # singleton\n",
    "            continue \n",
    "        else:\n",
    "            df_firm['일자차이'] = df_firm['일자'] - df_firm['일자'].shift(-1)\n",
    "            diff = np.array(df_firm['일자차이'].dt.days.to_list()[:-1])\n",
    "#             print(np.std(diff))\n",
    "        diffs = np.append(diffs, np.std(diff, ddof=0))\n",
    "    print(len(diffs))\n",
    "    print(np.nanmean(diffs))\n",
    "\n",
    "# 19\n",
    "# 277.17918370365777\n",
    "# 131\n",
    "# 292.9688443564039\n",
    "# 118\n",
    "# 288.991235536618"
   ]
  },
  {
   "cell_type": "code",
   "execution_count": 114,
   "id": "73cb01b0",
   "metadata": {},
   "outputs": [
    {
     "name": "stdout",
     "output_type": "stream",
     "text": [
      "[[0.65432099 0.14320988]\n",
      " [0.12839506 0.07407407]] True\n",
      "(45, 10)\n",
      "200.0\n",
      "444 < 450\n"
     ]
    }
   ],
   "source": [
    "#기업list\n",
    "df_pillar = df2[df2['ESG'].isin(E)] #######################여기서 E/S/G 구분\n",
    "firm_lst = df_pillar['기업'].value_counts().index.to_list()\n",
    "\n",
    "# 기업-연도별 E S G 사건 발생 확률\n",
    "event_no =[]\n",
    "for f in firm_lst:\n",
    "    df_firm = df_pillar[df_pillar['기업']==f]\n",
    "    event_firm_no =[]\n",
    "    for yr in range(2012,2022):\n",
    "        df_firm_year = df_firm[df_firm['일자'].dt.year==yr]\n",
    "        \n",
    "#         df_firm_year.reset_index(inplace=True, drop=True)\n",
    "        event_firm_no.append(float(df_firm_year.shape[0]))\n",
    "    event_no.append(event_firm_no)\n",
    "event_no = np.array(event_no)\n",
    "\n",
    "\n",
    "# 해당 기업의 해당년도에 시가총액이 존재하는지 -> 비상장일 제거\n",
    "for i, f in enumerate(firm_lst):\n",
    "    code = name_code.get(f)\n",
    "    df_value = df_fin[df_fin['종목코드','종목코드'] == code]['시가총액']\n",
    "    for j, yr in enumerate(range(2012,2022)):\n",
    "        if df_value[yr].isnull().any() :\n",
    "            event_no[i,j] = np.nan\n",
    "\n",
    "# df_firm_year = pd.DataFrame(event_no, index=firm_lst, columns=range(2012,2022))\n",
    "\n",
    "markov = []\n",
    "for i in range(event_no.shape[0]):\n",
    "    for j in range(1, event_no.shape[1]):\n",
    "        if (event_no[i][j-1] == 0) and (event_no[i][j] == 0) :\n",
    "            markov.append(1)\n",
    "        elif (event_no[i][j-1] == 0) and (event_no[i][j] != 0) :\n",
    "            markov.append(2)\n",
    "        elif (event_no[i][j-1] != 0) and (event_no[i][j] == 0) :\n",
    "            markov.append(3)\n",
    "        elif (event_no[i][j-1] != 0) and (event_no[i][j] != 0) :\n",
    "            markov.append(4)\n",
    "\n",
    "m = np.reshape([markov.count(i)/len(markov) for i in range(1,5)], (2,2)) \n",
    "print(m, len(markov)==event_no.shape[0]*(event_no.shape[1]-1))\n",
    "print(event_no.shape)\n",
    "print(np.nansum(event_no))\n",
    "\n",
    "# nan 제외 개수\n",
    "k = 0\n",
    "for row in event_no:\n",
    "    for cell in row:\n",
    "        if not np.isnan(cell):\n",
    "            k += 1\n",
    "print(k, '<', event_no.shape[0]*event_no.shape[1])"
   ]
  },
  {
   "cell_type": "markdown",
   "id": "70d1a59c",
   "metadata": {},
   "source": [
    "[[0.65432099 0.14320988]\n",
    " [0.12839506 0.07407407]] True\n",
    "(45, 10)\n",
    "200.0\n",
    "444 < 450\n",
    "\n",
    "[[0.46153846 0.15585721]\n",
    " [0.16339869 0.21920563]] True\n",
    "(221, 10)\n",
    "3958.0\n",
    "2076 < 2210\n",
    "\n",
    "[[0.53142536 0.14141414]\n",
    " [0.15207632 0.17508418]] True\n",
    "(198, 10)\n",
    "2694.0\n",
    "1908 < 1980"
   ]
  },
  {
   "cell_type": "code",
   "execution_count": 115,
   "id": "21322361",
   "metadata": {},
   "outputs": [
    {
     "name": "stdout",
     "output_type": "stream",
     "text": [
      "12 45 42\n"
     ]
    }
   ],
   "source": [
    "# 검색에 사용한 단어 수\n",
    "Ewords = '환경법, 환경보전법, 환경부, 배출, 미세먼지, 오염, 대기오염, 수질오염, 토지오염, 매립, 폐기물, 폐수'.split(', ') # 띄어쓰기!!!!\n",
    "Swords = '폭발, 누출, 화재, 개인정보, 보안, 우롱, 사기, 제품, 품질, 리콜, 장애, 안정성, 독성, 유해, 허위광고, 착취, 아동착취, 성폭력, 성차별, 독점, 담합, 골목, 상권, 불공정, 반경쟁, 일감, 협력사, 하도급, 계열사, 내부거래, 과로, 근로환경, 와해, 사찰, 도청, 파견, 산재, 산업안전, 파업, 구조조정, 해고, 퇴직, 임금, 작업환경, 성과급'.split(', ')\n",
    "Gwords = '불공정거래, 시세조종, 주가조작, 미공개정보, 내부거래, 내부자거래, 부정거래, 보고의무, 공시의무, 리베이트, 물적분할, 분식회계, 낙하산, 부실경영, 성과급, 보수, 부정채용, 채용비리, 로비, 리베이트, 뇌물, 횡령, 배임, 포탈, 탈세, 추징, 접대, 청탁, 정치자금, 정치 자금, 금품, 뒷돈, 비자금, 비리, 투약, 갑질, 국정농단, 경영권, 경영진, 이사진, 임원, 지배구조'.split(', ')\n",
    "print(len(Ewords), len(Swords), len(Gwords))"
   ]
  },
  {
   "cell_type": "code",
   "execution_count": 1,
   "id": "0adc2aab",
   "metadata": {
    "scrolled": false
   },
   "outputs": [
    {
     "name": "stdout",
     "output_type": "stream",
     "text": [
      "0.03898305084745763 0.5932203389830508 0.3677966101694915\n"
     ]
    }
   ],
   "source": [
    "print(69/1770, 1050/1770, 651/1770)"
   ]
  },
  {
   "cell_type": "code",
   "execution_count": 5,
   "id": "9395eab5",
   "metadata": {
    "scrolled": false
   },
   "outputs": [
    {
     "name": "stdout",
     "output_type": "stream",
     "text": [
      "기사 수 1770\n",
      "기업종류 198\n",
      "ESG 종류 19\n"
     ]
    }
   ],
   "source": [
    "################ 기사 수 분석########################\n",
    "print('기사 수',df.shape[0])\n",
    "esg_cate = df['ESG'].value_counts() \n",
    "esg_lst = esg_cate.index.to_list() # ESG 종류\n",
    "print('기업종류', len(df['기업'].value_counts().index.to_list()))\n",
    "print('ESG 종류', len(esg_lst))\n",
    "# print('ESG 통계\\n', esg_cate)"
   ]
  },
  {
   "cell_type": "code",
   "execution_count": 6,
   "id": "28525e72",
   "metadata": {
    "scrolled": false
   },
   "outputs": [
    {
     "data": {
      "text/html": [
       "<div>\n",
       "<style scoped>\n",
       "    .dataframe tbody tr th:only-of-type {\n",
       "        vertical-align: middle;\n",
       "    }\n",
       "\n",
       "    .dataframe tbody tr th {\n",
       "        vertical-align: top;\n",
       "    }\n",
       "\n",
       "    .dataframe thead th {\n",
       "        text-align: right;\n",
       "    }\n",
       "</style>\n",
       "<table border=\"1\" class=\"dataframe\">\n",
       "  <thead>\n",
       "    <tr style=\"text-align: right;\">\n",
       "      <th></th>\n",
       "      <th>중복 횟수</th>\n",
       "      <th>중복 횟수(10일)</th>\n",
       "      <th>AV_VOL_TOT_-5_-2</th>\n",
       "      <th>AV_VOL_TOT_-1_-1</th>\n",
       "      <th>AV_VOL_TOT_0_0</th>\n",
       "      <th>AV_VOL_TOT_1_1</th>\n",
       "      <th>AV_VOL_TOT_2_5</th>\n",
       "      <th>AV_VOL_IND_-5_-2</th>\n",
       "      <th>AV_VOL_IND_-1_-1</th>\n",
       "      <th>AV_VOL_IND_0_0</th>\n",
       "      <th>...</th>\n",
       "      <th>TO_INS_-5_-2</th>\n",
       "      <th>TO_INS_-1_-1</th>\n",
       "      <th>TO_INS_0_0</th>\n",
       "      <th>TO_INS_1_1</th>\n",
       "      <th>TO_INS_2_5</th>\n",
       "      <th>TO_FOR_-5_-2</th>\n",
       "      <th>TO_FOR_-1_-1</th>\n",
       "      <th>TO_FOR_0_0</th>\n",
       "      <th>TO_FOR_1_1</th>\n",
       "      <th>TO_FOR_2_5</th>\n",
       "    </tr>\n",
       "  </thead>\n",
       "  <tbody>\n",
       "    <tr>\n",
       "      <th>count</th>\n",
       "      <td>1770.000000</td>\n",
       "      <td>1770.000000</td>\n",
       "      <td>1770.000000</td>\n",
       "      <td>1770.000000</td>\n",
       "      <td>1770.000000</td>\n",
       "      <td>1770.000000</td>\n",
       "      <td>1770.000000</td>\n",
       "      <td>1770.000000</td>\n",
       "      <td>1770.000000</td>\n",
       "      <td>1770.000000</td>\n",
       "      <td>...</td>\n",
       "      <td>1770.000000</td>\n",
       "      <td>1770.000000</td>\n",
       "      <td>1770.000000</td>\n",
       "      <td>1770.000000</td>\n",
       "      <td>1770.000000</td>\n",
       "      <td>1770.000000</td>\n",
       "      <td>1770.000000</td>\n",
       "      <td>1770.000000</td>\n",
       "      <td>1770.000000</td>\n",
       "      <td>1770.000000</td>\n",
       "    </tr>\n",
       "    <tr>\n",
       "      <th>mean</th>\n",
       "      <td>1.563277</td>\n",
       "      <td>3.609605</td>\n",
       "      <td>0.043051</td>\n",
       "      <td>0.031858</td>\n",
       "      <td>0.228215</td>\n",
       "      <td>0.203593</td>\n",
       "      <td>0.081487</td>\n",
       "      <td>0.092634</td>\n",
       "      <td>0.083897</td>\n",
       "      <td>0.334781</td>\n",
       "      <td>...</td>\n",
       "      <td>0.000002</td>\n",
       "      <td>0.000019</td>\n",
       "      <td>0.000139</td>\n",
       "      <td>0.000106</td>\n",
       "      <td>0.000007</td>\n",
       "      <td>0.000050</td>\n",
       "      <td>0.000067</td>\n",
       "      <td>0.000305</td>\n",
       "      <td>0.000125</td>\n",
       "      <td>0.000039</td>\n",
       "    </tr>\n",
       "    <tr>\n",
       "      <th>std</th>\n",
       "      <td>3.684675</td>\n",
       "      <td>8.085161</td>\n",
       "      <td>1.336635</td>\n",
       "      <td>1.584777</td>\n",
       "      <td>2.665837</td>\n",
       "      <td>2.469538</td>\n",
       "      <td>1.819704</td>\n",
       "      <td>2.371972</td>\n",
       "      <td>1.936459</td>\n",
       "      <td>3.512854</td>\n",
       "      <td>...</td>\n",
       "      <td>0.000790</td>\n",
       "      <td>0.001240</td>\n",
       "      <td>0.001850</td>\n",
       "      <td>0.001296</td>\n",
       "      <td>0.000755</td>\n",
       "      <td>0.001078</td>\n",
       "      <td>0.002093</td>\n",
       "      <td>0.004411</td>\n",
       "      <td>0.001430</td>\n",
       "      <td>0.000910</td>\n",
       "    </tr>\n",
       "    <tr>\n",
       "      <th>min</th>\n",
       "      <td>0.000000</td>\n",
       "      <td>0.000000</td>\n",
       "      <td>-2.022369</td>\n",
       "      <td>-2.066941</td>\n",
       "      <td>-2.589431</td>\n",
       "      <td>-2.862409</td>\n",
       "      <td>-2.054736</td>\n",
       "      <td>-1.964315</td>\n",
       "      <td>-2.030561</td>\n",
       "      <td>-2.442605</td>\n",
       "      <td>...</td>\n",
       "      <td>-0.002939</td>\n",
       "      <td>-0.003451</td>\n",
       "      <td>-0.003138</td>\n",
       "      <td>-0.002663</td>\n",
       "      <td>-0.002338</td>\n",
       "      <td>-0.005003</td>\n",
       "      <td>-0.005779</td>\n",
       "      <td>-0.006478</td>\n",
       "      <td>-0.005822</td>\n",
       "      <td>-0.007088</td>\n",
       "    </tr>\n",
       "    <tr>\n",
       "      <th>25%</th>\n",
       "      <td>0.000000</td>\n",
       "      <td>0.000000</td>\n",
       "      <td>-0.376176</td>\n",
       "      <td>-0.453163</td>\n",
       "      <td>-0.442740</td>\n",
       "      <td>-0.436978</td>\n",
       "      <td>-0.405853</td>\n",
       "      <td>-0.443361</td>\n",
       "      <td>-0.526113</td>\n",
       "      <td>-0.492128</td>\n",
       "      <td>...</td>\n",
       "      <td>-0.000289</td>\n",
       "      <td>-0.000372</td>\n",
       "      <td>-0.000343</td>\n",
       "      <td>-0.000356</td>\n",
       "      <td>-0.000296</td>\n",
       "      <td>-0.000351</td>\n",
       "      <td>-0.000476</td>\n",
       "      <td>-0.000430</td>\n",
       "      <td>-0.000408</td>\n",
       "      <td>-0.000343</td>\n",
       "    </tr>\n",
       "    <tr>\n",
       "      <th>50%</th>\n",
       "      <td>0.000000</td>\n",
       "      <td>1.000000</td>\n",
       "      <td>-0.122011</td>\n",
       "      <td>-0.166306</td>\n",
       "      <td>-0.123795</td>\n",
       "      <td>-0.108158</td>\n",
       "      <td>-0.118200</td>\n",
       "      <td>-0.164952</td>\n",
       "      <td>-0.211210</td>\n",
       "      <td>-0.154895</td>\n",
       "      <td>...</td>\n",
       "      <td>-0.000077</td>\n",
       "      <td>-0.000123</td>\n",
       "      <td>-0.000104</td>\n",
       "      <td>-0.000089</td>\n",
       "      <td>-0.000069</td>\n",
       "      <td>-0.000083</td>\n",
       "      <td>-0.000130</td>\n",
       "      <td>-0.000106</td>\n",
       "      <td>-0.000126</td>\n",
       "      <td>-0.000083</td>\n",
       "    </tr>\n",
       "    <tr>\n",
       "      <th>75%</th>\n",
       "      <td>1.000000</td>\n",
       "      <td>4.000000</td>\n",
       "      <td>0.211634</td>\n",
       "      <td>0.202536</td>\n",
       "      <td>0.284515</td>\n",
       "      <td>0.252204</td>\n",
       "      <td>0.199574</td>\n",
       "      <td>0.223115</td>\n",
       "      <td>0.220279</td>\n",
       "      <td>0.315538</td>\n",
       "      <td>...</td>\n",
       "      <td>0.000159</td>\n",
       "      <td>0.000162</td>\n",
       "      <td>0.000202</td>\n",
       "      <td>0.000213</td>\n",
       "      <td>0.000161</td>\n",
       "      <td>0.000225</td>\n",
       "      <td>0.000239</td>\n",
       "      <td>0.000320</td>\n",
       "      <td>0.000270</td>\n",
       "      <td>0.000203</td>\n",
       "    </tr>\n",
       "    <tr>\n",
       "      <th>max</th>\n",
       "      <td>41.000000</td>\n",
       "      <td>106.000000</td>\n",
       "      <td>38.308156</td>\n",
       "      <td>42.713483</td>\n",
       "      <td>67.572703</td>\n",
       "      <td>61.939920</td>\n",
       "      <td>46.669741</td>\n",
       "      <td>86.741861</td>\n",
       "      <td>42.360116</td>\n",
       "      <td>85.001669</td>\n",
       "      <td>...</td>\n",
       "      <td>0.014000</td>\n",
       "      <td>0.024097</td>\n",
       "      <td>0.043618</td>\n",
       "      <td>0.021504</td>\n",
       "      <td>0.009797</td>\n",
       "      <td>0.016891</td>\n",
       "      <td>0.058226</td>\n",
       "      <td>0.155976</td>\n",
       "      <td>0.024249</td>\n",
       "      <td>0.008283</td>\n",
       "    </tr>\n",
       "  </tbody>\n",
       "</table>\n",
       "<p>8 rows × 77 columns</p>\n",
       "</div>"
      ],
      "text/plain": [
       "             중복 횟수   중복 횟수(10일)  AV_VOL_TOT_-5_-2  AV_VOL_TOT_-1_-1  \\\n",
       "count  1770.000000  1770.000000       1770.000000       1770.000000   \n",
       "mean      1.563277     3.609605          0.043051          0.031858   \n",
       "std       3.684675     8.085161          1.336635          1.584777   \n",
       "min       0.000000     0.000000         -2.022369         -2.066941   \n",
       "25%       0.000000     0.000000         -0.376176         -0.453163   \n",
       "50%       0.000000     1.000000         -0.122011         -0.166306   \n",
       "75%       1.000000     4.000000          0.211634          0.202536   \n",
       "max      41.000000   106.000000         38.308156         42.713483   \n",
       "\n",
       "       AV_VOL_TOT_0_0  AV_VOL_TOT_1_1  AV_VOL_TOT_2_5  AV_VOL_IND_-5_-2  \\\n",
       "count     1770.000000     1770.000000     1770.000000       1770.000000   \n",
       "mean         0.228215        0.203593        0.081487          0.092634   \n",
       "std          2.665837        2.469538        1.819704          2.371972   \n",
       "min         -2.589431       -2.862409       -2.054736         -1.964315   \n",
       "25%         -0.442740       -0.436978       -0.405853         -0.443361   \n",
       "50%         -0.123795       -0.108158       -0.118200         -0.164952   \n",
       "75%          0.284515        0.252204        0.199574          0.223115   \n",
       "max         67.572703       61.939920       46.669741         86.741861   \n",
       "\n",
       "       AV_VOL_IND_-1_-1  AV_VOL_IND_0_0  ...  TO_INS_-5_-2  TO_INS_-1_-1  \\\n",
       "count       1770.000000     1770.000000  ...   1770.000000   1770.000000   \n",
       "mean           0.083897        0.334781  ...      0.000002      0.000019   \n",
       "std            1.936459        3.512854  ...      0.000790      0.001240   \n",
       "min           -2.030561       -2.442605  ...     -0.002939     -0.003451   \n",
       "25%           -0.526113       -0.492128  ...     -0.000289     -0.000372   \n",
       "50%           -0.211210       -0.154895  ...     -0.000077     -0.000123   \n",
       "75%            0.220279        0.315538  ...      0.000159      0.000162   \n",
       "max           42.360116       85.001669  ...      0.014000      0.024097   \n",
       "\n",
       "        TO_INS_0_0   TO_INS_1_1   TO_INS_2_5  TO_FOR_-5_-2  TO_FOR_-1_-1  \\\n",
       "count  1770.000000  1770.000000  1770.000000   1770.000000   1770.000000   \n",
       "mean      0.000139     0.000106     0.000007      0.000050      0.000067   \n",
       "std       0.001850     0.001296     0.000755      0.001078      0.002093   \n",
       "min      -0.003138    -0.002663    -0.002338     -0.005003     -0.005779   \n",
       "25%      -0.000343    -0.000356    -0.000296     -0.000351     -0.000476   \n",
       "50%      -0.000104    -0.000089    -0.000069     -0.000083     -0.000130   \n",
       "75%       0.000202     0.000213     0.000161      0.000225      0.000239   \n",
       "max       0.043618     0.021504     0.009797      0.016891      0.058226   \n",
       "\n",
       "        TO_FOR_0_0   TO_FOR_1_1   TO_FOR_2_5  \n",
       "count  1770.000000  1770.000000  1770.000000  \n",
       "mean      0.000305     0.000125     0.000039  \n",
       "std       0.004411     0.001430     0.000910  \n",
       "min      -0.006478    -0.005822    -0.007088  \n",
       "25%      -0.000430    -0.000408    -0.000343  \n",
       "50%      -0.000106    -0.000126    -0.000083  \n",
       "75%       0.000320     0.000270     0.000203  \n",
       "max       0.155976     0.024249     0.008283  \n",
       "\n",
       "[8 rows x 77 columns]"
      ]
     },
     "execution_count": 6,
     "metadata": {},
     "output_type": "execute_result"
    }
   ],
   "source": [
    "df.describe()"
   ]
  },
  {
   "cell_type": "markdown",
   "id": "35e52def",
   "metadata": {},
   "source": [
    "# t-test"
   ]
  },
  {
   "cell_type": "code",
   "execution_count": 31,
   "id": "df46dbd0",
   "metadata": {},
   "outputs": [],
   "source": [
    "# window = [(-5,-4),(-3,-2),(-1,1),(2,3),(4,5)]\n",
    "window = [(-5,-2),(-1,-1),(0,0),(1,1),(2,5)]\n",
    "# window = [(-5,-1),(0,0),(1,5)]\n",
    "initial = -5 \n",
    "final = 5\n",
    "period = 200 # 평균값을 계산하는 기간"
   ]
  },
  {
   "cell_type": "code",
   "execution_count": 32,
   "id": "5ecbd440",
   "metadata": {},
   "outputs": [],
   "source": [
    "# mean, t-test\n",
    "\n",
    "def col_gen(ms, invs):\n",
    "    col_temp = []\n",
    "    for m in ms:\n",
    "        for inv in invs:\n",
    "            col_temp.append(m+'_'+inv)\n",
    "    column = []\n",
    "    for c in col_temp:\n",
    "        for a,b in window:\n",
    "            column.append(c+'_'+str(a)+'_'+str(b))\n",
    "    return column\n",
    "    "
   ]
  },
  {
   "cell_type": "code",
   "execution_count": 33,
   "id": "52be787b",
   "metadata": {},
   "outputs": [],
   "source": [
    "col_AV = col_gen(['AV_VOL', 'AV_VAL'],['TOT','IND', 'INS' ,'FOR'])\n",
    "col_BSI = col_gen(['BSI'],['IND', 'INS' ,'FOR'])\n",
    "col_TO = col_gen(['TO'],['TOT','IND', 'INS' ,'FOR'])"
   ]
  },
  {
   "cell_type": "code",
   "execution_count": 34,
   "id": "76491947",
   "metadata": {
    "scrolled": true
   },
   "outputs": [
    {
     "name": "stdout",
     "output_type": "stream",
     "text": [
      "AV_VOL_TOT_-5_-2 \n",
      " mean: 0.04305 t-stats: 1.35506 p-value: 0.17557\n",
      "AV_VOL_TOT_-1_-1 \n",
      " mean: 0.03186 t-stats: 0.84573 p-value: 0.39782\n",
      "AV_VOL_TOT_0_0 \n",
      " mean: 0.22821 t-stats: 3.60161 p-value: 0.00032\n",
      "AV_VOL_TOT_1_1 \n",
      " mean: 0.20359 t-stats: 3.46844 p-value: 0.00054\n",
      "AV_VOL_TOT_2_5 \n",
      " mean: 0.08149 t-stats: 1.88397 p-value: 0.05973\n",
      "AV_VOL_IND_-5_-2 \n",
      " mean: 0.09263 t-stats: 1.64304 p-value: 0.10055\n",
      "AV_VOL_IND_-1_-1 \n",
      " mean: 0.0839 t-stats: 1.82275 p-value: 0.06851\n",
      "AV_VOL_IND_0_0 \n",
      " mean: 0.33478 t-stats: 4.00947 p-value: 6e-05\n",
      "AV_VOL_IND_1_1 \n",
      " mean: 0.31614 t-stats: 4.02399 p-value: 6e-05\n",
      "AV_VOL_IND_2_5 \n",
      " mean: 0.17321 t-stats: 2.90943 p-value: 0.00367\n",
      "AV_VOL_INS_-5_-2 \n",
      " mean: 0.00101 t-stats: 0.04397 p-value: 0.96493\n",
      "AV_VOL_INS_-1_-1 \n",
      " mean: -0.0059 t-stats: -0.2053 p-value: 0.83736\n",
      "AV_VOL_INS_0_0 \n",
      " mean: 0.08865 t-stats: 2.30796 p-value: 0.02112\n",
      "AV_VOL_INS_1_1 \n",
      " mean: 0.13635 t-stats: 2.54789 p-value: 0.01092\n",
      "AV_VOL_INS_2_5 \n",
      " mean: 0.04234 t-stats: 0.84949 p-value: 0.39572\n",
      "AV_VOL_FOR_-5_-2 \n",
      " mean: 0.02009 t-stats: 0.95269 p-value: 0.34088\n",
      "AV_VOL_FOR_-1_-1 \n",
      " mean: 0.01886 t-stats: 0.45283 p-value: 0.65072\n",
      "AV_VOL_FOR_0_0 \n",
      " mean: 0.19578 t-stats: 2.60562 p-value: 0.00925\n",
      "AV_VOL_FOR_1_1 \n",
      " mean: 0.0809 t-stats: 2.72306 p-value: 0.00653\n",
      "AV_VOL_FOR_2_5 \n",
      " mean: 0.01098 t-stats: 0.57271 p-value: 0.56691\n",
      "AV_VAL_TOT_-5_-2 \n",
      " mean: 0.05807 t-stats: 1.8298 p-value: 0.06745\n",
      "AV_VAL_TOT_-1_-1 \n",
      " mean: 0.054 t-stats: 1.31459 p-value: 0.18882\n",
      "AV_VAL_TOT_0_0 \n",
      " mean: 0.26088 t-stats: 3.88447 p-value: 0.00011\n",
      "AV_VAL_TOT_1_1 \n",
      " mean: 0.27556 t-stats: 3.47009 p-value: 0.00053\n",
      "AV_VAL_TOT_2_5 \n",
      " mean: 0.12555 t-stats: 2.17843 p-value: 0.02951\n",
      "AV_VAL_IND_-5_-2 \n",
      " mean: 0.10511 t-stats: 1.92912 p-value: 0.05388\n",
      "AV_VAL_IND_-1_-1 \n",
      " mean: 0.10209 t-stats: 2.09303 p-value: 0.03649\n",
      "AV_VAL_IND_0_0 \n",
      " mean: 0.36264 t-stats: 4.33369 p-value: 2e-05\n",
      "AV_VAL_IND_1_1 \n",
      " mean: 0.39293 t-stats: 3.90182 p-value: 0.0001\n",
      "AV_VAL_IND_2_5 \n",
      " mean: 0.21953 t-stats: 2.86291 p-value: 0.00425\n",
      "AV_VAL_INS_-5_-2 \n",
      " mean: 0.01603 t-stats: 0.71189 p-value: 0.47662\n",
      "AV_VAL_INS_-1_-1 \n",
      " mean: 0.0176 t-stats: 0.56291 p-value: 0.57356\n",
      "AV_VAL_INS_0_0 \n",
      " mean: 0.111 t-stats: 2.92787 p-value: 0.00346\n",
      "AV_VAL_INS_1_1 \n",
      " mean: 0.19307 t-stats: 2.97115 p-value: 0.00301\n",
      "AV_VAL_INS_2_5 \n",
      " mean: 0.07608 t-stats: 1.43107 p-value: 0.15259\n",
      "AV_VAL_FOR_-5_-2 \n",
      " mean: 0.03809 t-stats: 1.69994 p-value: 0.08932\n",
      "AV_VAL_FOR_-1_-1 \n",
      " mean: 0.05362 t-stats: 1.10035 p-value: 0.27133\n",
      "AV_VAL_FOR_0_0 \n",
      " mean: 0.22349 t-stats: 3.07262 p-value: 0.00215\n",
      "AV_VAL_FOR_1_1 \n",
      " mean: 0.12283 t-stats: 3.094 p-value: 0.00201\n",
      "AV_VAL_FOR_2_5 \n",
      " mean: 0.03755 t-stats: 1.69928 p-value: 0.08944\n",
      "\n",
      "\n",
      "BSI_IND_-5_-2 \n",
      " mean: -0.00411 t-stats: -1.83888 p-value: 0.0661\n",
      "BSI_IND_-1_-1 \n",
      " mean: -0.00823 t-stats: -2.48757 p-value: 0.01295\n",
      "BSI_IND_0_0 \n",
      " mean: -0.00363 t-stats: -1.11266 p-value: 0.26601\n",
      "BSI_IND_1_1 \n",
      " mean: -0.00482 t-stats: -1.46391 p-value: 0.1434\n",
      "BSI_IND_2_5 \n",
      " mean: -0.00176 t-stats: -0.79321 p-value: 0.42776\n",
      "BSI_INS_-5_-2 \n",
      " mean: -0.00713 t-stats: -2.14319 p-value: 0.03223\n",
      "BSI_INS_-1_-1 \n",
      " mean: -0.00369 t-stats: -0.77886 p-value: 0.43616\n",
      "BSI_INS_0_0 \n",
      " mean: -0.01394 t-stats: -2.96912 p-value: 0.00303\n",
      "BSI_INS_1_1 \n",
      " mean: -0.01214 t-stats: -2.53598 p-value: 0.0113\n",
      "BSI_INS_2_5 \n",
      " mean: -0.01167 t-stats: -3.40056 p-value: 0.00069\n",
      "BSI_FOR_-5_-2 \n",
      " mean: -0.00376 t-stats: -1.45841 p-value: 0.1449\n",
      "BSI_FOR_-1_-1 \n",
      " mean: -0.00374 t-stats: -0.9754 p-value: 0.32949\n",
      "BSI_FOR_0_0 \n",
      " mean: -0.00132 t-stats: -0.33608 p-value: 0.73685\n",
      "BSI_FOR_1_1 \n",
      " mean: 0.00402 t-stats: 1.02575 p-value: 0.30515\n",
      "BSI_FOR_2_5 \n",
      " mean: -0.00469 t-stats: -1.77754 p-value: 0.07565\n",
      "\n",
      "\n",
      "TO_TOT_-5_-2 \n",
      " mean: 0.00031 t-stats: 0.97978 p-value: 0.32733\n",
      "TO_TOT_-1_-1 \n",
      " mean: 0.00059 t-stats: 0.96597 p-value: 0.33419\n",
      "TO_TOT_0_0 \n",
      " mean: 0.00234 t-stats: 2.22182 p-value: 0.02642\n",
      "TO_TOT_1_1 \n",
      " mean: 0.0014 t-stats: 2.7533 p-value: 0.00596\n",
      "TO_TOT_2_5 \n",
      " mean: 0.00037 t-stats: 1.37498 p-value: 0.16931\n",
      "TO_IND_-5_-2 \n",
      " mean: 0.00025 t-stats: 0.86379 p-value: 0.38782\n",
      "TO_IND_-1_-1 \n",
      " mean: 0.00052 t-stats: 0.89541 p-value: 0.37069\n",
      "TO_IND_0_0 \n",
      " mean: 0.0019 t-stats: 1.90657 p-value: 0.05674\n",
      "TO_IND_1_1 \n",
      " mean: 0.00118 t-stats: 2.49959 p-value: 0.01252\n",
      "TO_IND_2_5 \n",
      " mean: 0.00035 t-stats: 1.39338 p-value: 0.16368\n",
      "TO_INS_-5_-2 \n",
      " mean: 0.0 t-stats: 0.12897 p-value: 0.89739\n",
      "TO_INS_-1_-1 \n",
      " mean: 2e-05 t-stats: 0.63136 p-value: 0.52789\n",
      "TO_INS_0_0 \n",
      " mean: 0.00014 t-stats: 3.15447 p-value: 0.00163\n",
      "TO_INS_1_1 \n",
      " mean: 0.00011 t-stats: 3.4455 p-value: 0.00058\n",
      "TO_INS_2_5 \n",
      " mean: 1e-05 t-stats: 0.40485 p-value: 0.68564\n",
      "TO_FOR_-5_-2 \n",
      " mean: 5e-05 t-stats: 1.96897 p-value: 0.04911\n",
      "TO_FOR_-1_-1 \n",
      " mean: 7e-05 t-stats: 1.34156 p-value: 0.17991\n",
      "TO_FOR_0_0 \n",
      " mean: 0.00031 t-stats: 2.90971 p-value: 0.00366\n",
      "TO_FOR_1_1 \n",
      " mean: 0.00013 t-stats: 3.67752 p-value: 0.00024\n",
      "TO_FOR_2_5 \n",
      " mean: 4e-05 t-stats: 1.78192 p-value: 0.07493\n"
     ]
    }
   ],
   "source": [
    "\n",
    "for col in col_AV :  \n",
    "    t_stat, p_value = scipy.stats.ttest_1samp(df[col], 0)\n",
    "    print(col, '\\n', 'mean:', round(df[col].mean(),5), 't-stats:', round(t_stat,5), 'p-value:', round(p_value,5))\n",
    "print('\\n')\n",
    "for col in col_BSI:\n",
    "    t_stat, p_value = scipy.stats.ttest_1samp(df[col], 0)\n",
    "    print(col, '\\n', 'mean:', round(df[col].mean(),5), 't-stats:', round(t_stat,5), 'p-value:', round(p_value,5))\n",
    "print('\\n')\n",
    "for col in col_TO:\n",
    "    t_stat, p_value = scipy.stats.ttest_1samp(df[col], 0)\n",
    "    print(col, '\\n', 'mean:', round(df[col].mean(),5), 't-stats:', round(t_stat,5), 'p-value:', round(p_value,5))"
   ]
  },
  {
   "cell_type": "markdown",
   "id": "d9ff2c4b",
   "metadata": {},
   "source": [
    "# 엑셀로 정리"
   ]
  },
  {
   "cell_type": "code",
   "execution_count": 35,
   "id": "5571d6a1",
   "metadata": {},
   "outputs": [],
   "source": [
    "def col_gen_m(ms, invs):\n",
    "    col_temp = []\n",
    "    for m in ms:\n",
    "        for inv in invs:\n",
    "            col_temp.append(m+'_'+inv)\n",
    "    return col_temp"
   ]
  },
  {
   "cell_type": "code",
   "execution_count": 36,
   "id": "fce0837b",
   "metadata": {},
   "outputs": [],
   "source": [
    "col_m = col_gen_m(['AV_VOL', 'AV_VAL','BSI','TO'],['TOT','IND', 'INS' ,'FOR'])\n",
    "col_m.remove('BSI_TOT')"
   ]
  },
  {
   "cell_type": "code",
   "execution_count": 37,
   "id": "33be252d",
   "metadata": {
    "scrolled": true
   },
   "outputs": [
    {
     "data": {
      "text/plain": [
       "['AV_VOL_TOT',\n",
       " 'AV_VOL_IND',\n",
       " 'AV_VOL_INS',\n",
       " 'AV_VOL_FOR',\n",
       " 'AV_VAL_TOT',\n",
       " 'AV_VAL_IND',\n",
       " 'AV_VAL_INS',\n",
       " 'AV_VAL_FOR',\n",
       " 'BSI_IND',\n",
       " 'BSI_INS',\n",
       " 'BSI_FOR',\n",
       " 'TO_TOT',\n",
       " 'TO_IND',\n",
       " 'TO_INS',\n",
       " 'TO_FOR']"
      ]
     },
     "execution_count": 37,
     "metadata": {},
     "output_type": "execute_result"
    }
   ],
   "source": [
    "col_m"
   ]
  },
  {
   "cell_type": "code",
   "execution_count": 38,
   "id": "e8f0639f",
   "metadata": {},
   "outputs": [],
   "source": [
    "df_result = []\n",
    "for i in col_m: \n",
    "    ms_win = [] # AV_TOT_-5_0 등을 담는 list\n",
    "    for a, b in window:\n",
    "        ms_win.append(i+'_'+str(a)+'_'+str(b))\n",
    "    \n",
    "    ms_win_result = []\n",
    "    for col in ms_win: \n",
    "        m= df[col].mean()\n",
    "        if 'AV' in i: # Ab. vol.이면 t-test 대상은 1\n",
    "            t_stat, p_value = scipy.stats.ttest_1samp(df[col], 0) #######0인지 1인지 // winsorize? ##############\n",
    "        else: # 그외 0\n",
    "            t_stat, p_value = scipy.stats.ttest_1samp(df[col], 0) \n",
    "        ms_win_result.append([m,t_stat, p_value])\n",
    "    ms_win_result = np.array(ms_win_result)\n",
    "    ms_win_result = np.transpose(ms_win_result)\n",
    "    \n",
    "    if i == col_m[0]:\n",
    "        df_result = ms_win_result\n",
    "    else:\n",
    "        df_result = np.vstack((df_result,ms_win_result))\n",
    "    \n",
    "\n",
    "subcol = ['mean','t_stat','p_value']\n",
    "\n",
    "index = pd.MultiIndex.from_product([col_m, subcol])\n",
    "df_result = pd.DataFrame(df_result, index = index, columns = window)"
   ]
  },
  {
   "cell_type": "markdown",
   "id": "d8b40497",
   "metadata": {},
   "source": [
    "df_result = []\n",
    "for i in col_m: \n",
    "    ms_win = [] # AV_TOT_-5_0 등을 담는 list\n",
    "    for a, b in window:\n",
    "        ms_win.append(i+'_'+str(a)+'_'+str(b))\n",
    "    \n",
    "    ms_win_result = []\n",
    "    for col in ms_win: \n",
    "        m= df[col].mean()\n",
    "        if 'AV' in i: # Ab. vol.이면 t-test 대상은 1\n",
    "            t_stat, p_value = scipy.stats.ttest_1samp(df[col], 0) ####################0인지 1인지####################\n",
    "        else: # 그외 0\n",
    "            t_stat, p_value = scipy.stats.ttest_1samp(df[col], 0)\n",
    "        ms_win_result.extend([m,t_stat, p_value])\n",
    "    df_result.append(ms_win_result)\n",
    "\n",
    "subcol = ['mean','t_stat','p_value']\n"
   ]
  },
  {
   "cell_type": "markdown",
   "id": "7cf0301d",
   "metadata": {},
   "source": [
    "### mean 옆에 asterisk 붙여서 출력하기"
   ]
  },
  {
   "cell_type": "code",
   "execution_count": 39,
   "id": "630cb435",
   "metadata": {},
   "outputs": [],
   "source": [
    "# 유효숫자 함수\n",
    "def round_it(x, sig):\n",
    "    return round(x, sig-int(floor(log10(abs(x))))-1)\n",
    "\n",
    "df_result = []\n",
    "for i in col_m: \n",
    "    ms_win = [] # AV_TOT_-5_0 등을 담는 list\n",
    "    for a, b in window:\n",
    "        ms_win.append(i+'_'+str(a)+'_'+str(b))\n",
    "    \n",
    "    ms_win_result = []\n",
    "    for col in ms_win: \n",
    "        m= df[col].mean()\n",
    "        if 'AV' in i: # Ab. vol.이면 t-test 대상은 1\n",
    "            t_stat, p_value = scipy.stats.ttest_1samp(df[col], 0) #################### 0인지 1인지 ####################\n",
    "        else: # 그외 0\n",
    "            t_stat, p_value = scipy.stats.ttest_1samp(df[col], 0)\n",
    "        \n",
    "        \n",
    "        m=str(round_it(m,3))  # 유효숫자 3자리\n",
    "        t_stat = '({})'.format('%.2f' % t_stat)           # 소수점 둘째 자리\n",
    "\n",
    "        if 0.05 <= p_value < 0.1:\n",
    "            m = m+'*'\n",
    "        elif 0.01 <= p_value < 0.05:\n",
    "            m = m+'**'\n",
    "        elif p_value < 0.01:\n",
    "            m = m+'***'\n",
    "\n",
    "        ms_win_result.append([m,t_stat])\n",
    "    \n",
    "    ms_win_result = np.array(ms_win_result)\n",
    "    ms_win_result = np.transpose(ms_win_result)\n",
    "    \n",
    "    if i == col_m[0]:\n",
    "        df_result = ms_win_result\n",
    "    else:\n",
    "        df_result = np.vstack((df_result,ms_win_result))\n",
    "    \n",
    "\n",
    "subcol = ['mean','t_stat']\n",
    "\n",
    "column = pd.MultiIndex.from_product([col_m, subcol])\n",
    "df_result = np.transpose(df_result)\n",
    "df_result = pd.DataFrame(df_result, index = window, columns = column)"
   ]
  },
  {
   "cell_type": "code",
   "execution_count": 40,
   "id": "b4e14dd9",
   "metadata": {
    "scrolled": true
   },
   "outputs": [
    {
     "data": {
      "text/html": [
       "<div>\n",
       "<style scoped>\n",
       "    .dataframe tbody tr th:only-of-type {\n",
       "        vertical-align: middle;\n",
       "    }\n",
       "\n",
       "    .dataframe tbody tr th {\n",
       "        vertical-align: top;\n",
       "    }\n",
       "\n",
       "    .dataframe thead tr th {\n",
       "        text-align: left;\n",
       "    }\n",
       "</style>\n",
       "<table border=\"1\" class=\"dataframe\">\n",
       "  <thead>\n",
       "    <tr>\n",
       "      <th></th>\n",
       "      <th colspan=\"2\" halign=\"left\">AV_VOL_TOT</th>\n",
       "      <th colspan=\"2\" halign=\"left\">AV_VOL_IND</th>\n",
       "      <th colspan=\"2\" halign=\"left\">AV_VOL_INS</th>\n",
       "      <th colspan=\"2\" halign=\"left\">AV_VOL_FOR</th>\n",
       "      <th colspan=\"2\" halign=\"left\">AV_VAL_TOT</th>\n",
       "      <th>...</th>\n",
       "      <th colspan=\"2\" halign=\"left\">BSI_FOR</th>\n",
       "      <th colspan=\"2\" halign=\"left\">TO_TOT</th>\n",
       "      <th colspan=\"2\" halign=\"left\">TO_IND</th>\n",
       "      <th colspan=\"2\" halign=\"left\">TO_INS</th>\n",
       "      <th colspan=\"2\" halign=\"left\">TO_FOR</th>\n",
       "    </tr>\n",
       "    <tr>\n",
       "      <th></th>\n",
       "      <th>mean</th>\n",
       "      <th>t_stat</th>\n",
       "      <th>mean</th>\n",
       "      <th>t_stat</th>\n",
       "      <th>mean</th>\n",
       "      <th>t_stat</th>\n",
       "      <th>mean</th>\n",
       "      <th>t_stat</th>\n",
       "      <th>mean</th>\n",
       "      <th>t_stat</th>\n",
       "      <th>...</th>\n",
       "      <th>mean</th>\n",
       "      <th>t_stat</th>\n",
       "      <th>mean</th>\n",
       "      <th>t_stat</th>\n",
       "      <th>mean</th>\n",
       "      <th>t_stat</th>\n",
       "      <th>mean</th>\n",
       "      <th>t_stat</th>\n",
       "      <th>mean</th>\n",
       "      <th>t_stat</th>\n",
       "    </tr>\n",
       "  </thead>\n",
       "  <tbody>\n",
       "    <tr>\n",
       "      <th>(-5, -2)</th>\n",
       "      <td>0.0431</td>\n",
       "      <td>(1.36)</td>\n",
       "      <td>0.0926</td>\n",
       "      <td>(1.64)</td>\n",
       "      <td>0.00101</td>\n",
       "      <td>(0.04)</td>\n",
       "      <td>0.0201</td>\n",
       "      <td>(0.95)</td>\n",
       "      <td>0.0581*</td>\n",
       "      <td>(1.83)</td>\n",
       "      <td>...</td>\n",
       "      <td>-0.00376</td>\n",
       "      <td>(-1.46)</td>\n",
       "      <td>0.000308</td>\n",
       "      <td>(0.98)</td>\n",
       "      <td>0.00025</td>\n",
       "      <td>(0.86)</td>\n",
       "      <td>2.42e-06</td>\n",
       "      <td>(0.13)</td>\n",
       "      <td>5.04e-05**</td>\n",
       "      <td>(1.97)</td>\n",
       "    </tr>\n",
       "    <tr>\n",
       "      <th>(-1, -1)</th>\n",
       "      <td>0.0319</td>\n",
       "      <td>(0.85)</td>\n",
       "      <td>0.0839*</td>\n",
       "      <td>(1.82)</td>\n",
       "      <td>-0.0059</td>\n",
       "      <td>(-0.21)</td>\n",
       "      <td>0.0189</td>\n",
       "      <td>(0.45)</td>\n",
       "      <td>0.054</td>\n",
       "      <td>(1.31)</td>\n",
       "      <td>...</td>\n",
       "      <td>-0.00374</td>\n",
       "      <td>(-0.98)</td>\n",
       "      <td>0.000594</td>\n",
       "      <td>(0.97)</td>\n",
       "      <td>0.000524</td>\n",
       "      <td>(0.90)</td>\n",
       "      <td>1.86e-05</td>\n",
       "      <td>(0.63)</td>\n",
       "      <td>6.68e-05</td>\n",
       "      <td>(1.34)</td>\n",
       "    </tr>\n",
       "    <tr>\n",
       "      <th>(0, 0)</th>\n",
       "      <td>0.228***</td>\n",
       "      <td>(3.60)</td>\n",
       "      <td>0.335***</td>\n",
       "      <td>(4.01)</td>\n",
       "      <td>0.0887**</td>\n",
       "      <td>(2.31)</td>\n",
       "      <td>0.196***</td>\n",
       "      <td>(2.61)</td>\n",
       "      <td>0.261***</td>\n",
       "      <td>(3.88)</td>\n",
       "      <td>...</td>\n",
       "      <td>-0.00132</td>\n",
       "      <td>(-0.34)</td>\n",
       "      <td>0.00234**</td>\n",
       "      <td>(2.22)</td>\n",
       "      <td>0.0019*</td>\n",
       "      <td>(1.91)</td>\n",
       "      <td>0.000139***</td>\n",
       "      <td>(3.15)</td>\n",
       "      <td>0.000305***</td>\n",
       "      <td>(2.91)</td>\n",
       "    </tr>\n",
       "    <tr>\n",
       "      <th>(1, 1)</th>\n",
       "      <td>0.204***</td>\n",
       "      <td>(3.47)</td>\n",
       "      <td>0.316***</td>\n",
       "      <td>(4.02)</td>\n",
       "      <td>0.136**</td>\n",
       "      <td>(2.55)</td>\n",
       "      <td>0.0809***</td>\n",
       "      <td>(2.72)</td>\n",
       "      <td>0.276***</td>\n",
       "      <td>(3.47)</td>\n",
       "      <td>...</td>\n",
       "      <td>0.00402</td>\n",
       "      <td>(1.03)</td>\n",
       "      <td>0.0014***</td>\n",
       "      <td>(2.75)</td>\n",
       "      <td>0.00118**</td>\n",
       "      <td>(2.50)</td>\n",
       "      <td>0.000106***</td>\n",
       "      <td>(3.45)</td>\n",
       "      <td>0.000125***</td>\n",
       "      <td>(3.68)</td>\n",
       "    </tr>\n",
       "    <tr>\n",
       "      <th>(2, 5)</th>\n",
       "      <td>0.0815*</td>\n",
       "      <td>(1.88)</td>\n",
       "      <td>0.173***</td>\n",
       "      <td>(2.91)</td>\n",
       "      <td>0.0423</td>\n",
       "      <td>(0.85)</td>\n",
       "      <td>0.011</td>\n",
       "      <td>(0.57)</td>\n",
       "      <td>0.126**</td>\n",
       "      <td>(2.18)</td>\n",
       "      <td>...</td>\n",
       "      <td>-0.00469*</td>\n",
       "      <td>(-1.78)</td>\n",
       "      <td>0.000374</td>\n",
       "      <td>(1.37)</td>\n",
       "      <td>0.000347</td>\n",
       "      <td>(1.39)</td>\n",
       "      <td>7.26e-06</td>\n",
       "      <td>(0.40)</td>\n",
       "      <td>3.86e-05*</td>\n",
       "      <td>(1.78)</td>\n",
       "    </tr>\n",
       "  </tbody>\n",
       "</table>\n",
       "<p>5 rows × 30 columns</p>\n",
       "</div>"
      ],
      "text/plain": [
       "         AV_VOL_TOT         AV_VOL_IND         AV_VOL_INS          AV_VOL_FOR  \\\n",
       "               mean  t_stat       mean  t_stat       mean   t_stat       mean   \n",
       "(-5, -2)     0.0431  (1.36)     0.0926  (1.64)    0.00101   (0.04)     0.0201   \n",
       "(-1, -1)     0.0319  (0.85)    0.0839*  (1.82)    -0.0059  (-0.21)     0.0189   \n",
       "(0, 0)     0.228***  (3.60)   0.335***  (4.01)   0.0887**   (2.31)   0.196***   \n",
       "(1, 1)     0.204***  (3.47)   0.316***  (4.02)    0.136**   (2.55)  0.0809***   \n",
       "(2, 5)      0.0815*  (1.88)   0.173***  (2.91)     0.0423   (0.85)      0.011   \n",
       "\n",
       "                 AV_VAL_TOT          ...    BSI_FOR              TO_TOT  \\\n",
       "          t_stat       mean  t_stat  ...       mean   t_stat       mean   \n",
       "(-5, -2)  (0.95)    0.0581*  (1.83)  ...   -0.00376  (-1.46)   0.000308   \n",
       "(-1, -1)  (0.45)      0.054  (1.31)  ...   -0.00374  (-0.98)   0.000594   \n",
       "(0, 0)    (2.61)   0.261***  (3.88)  ...   -0.00132  (-0.34)  0.00234**   \n",
       "(1, 1)    (2.72)   0.276***  (3.47)  ...    0.00402   (1.03)  0.0014***   \n",
       "(2, 5)    (0.57)    0.126**  (2.18)  ...  -0.00469*  (-1.78)   0.000374   \n",
       "\n",
       "                     TO_IND               TO_INS               TO_FOR          \n",
       "          t_stat       mean  t_stat         mean  t_stat         mean  t_stat  \n",
       "(-5, -2)  (0.98)    0.00025  (0.86)     2.42e-06  (0.13)   5.04e-05**  (1.97)  \n",
       "(-1, -1)  (0.97)   0.000524  (0.90)     1.86e-05  (0.63)     6.68e-05  (1.34)  \n",
       "(0, 0)    (2.22)    0.0019*  (1.91)  0.000139***  (3.15)  0.000305***  (2.91)  \n",
       "(1, 1)    (2.75)  0.00118**  (2.50)  0.000106***  (3.45)  0.000125***  (3.68)  \n",
       "(2, 5)    (1.37)   0.000347  (1.39)     7.26e-06  (0.40)    3.86e-05*  (1.78)  \n",
       "\n",
       "[5 rows x 30 columns]"
      ]
     },
     "execution_count": 40,
     "metadata": {},
     "output_type": "execute_result"
    }
   ],
   "source": [
    "df_result"
   ]
  },
  {
   "cell_type": "code",
   "execution_count": 13,
   "id": "6ab84db4",
   "metadata": {},
   "outputs": [],
   "source": [
    "df_result.to_excel('C:/Users/Jeongseok_Bang/OneDrive/바탕 화면/석사과정/FinLab/ESG/DF_최종_10_AV_t_test_3.xlsx')\n",
    "# t_test_2 : result_2 기반\n",
    "# t_test_3 : result_3 기반 (window 변경 및 winsorize)"
   ]
  },
  {
   "cell_type": "markdown",
   "id": "d3731168",
   "metadata": {},
   "source": [
    "## winsorize"
   ]
  },
  {
   "cell_type": "code",
   "execution_count": 41,
   "id": "10bb5b0b",
   "metadata": {},
   "outputs": [],
   "source": [
    "############# winsorize ##############\n",
    "thres = 0.01\n",
    "def wins(df, col):\n",
    "    df_wins = df.copy()\n",
    "    df_wins.sort_values(by=[col], inplace=True)\n",
    "    df_wins.reset_index(inplace=True, drop=True)\n",
    "    cut = int(df_wins.shape[0]*thres)\n",
    "    for i in range(cut):\n",
    "        df_wins.loc[i,col] = df_wins.loc[cut,col]\n",
    "        df_wins.loc[df_wins.shape[0]-1-i,col] = df_wins.loc[df_wins.shape[0]-1-cut,col]\n",
    "    return df_wins"
   ]
  },
  {
   "cell_type": "code",
   "execution_count": 42,
   "id": "d003051e",
   "metadata": {},
   "outputs": [],
   "source": [
    "############# winsorize ##############\n",
    "# 유효숫자 함수\n",
    "def round_it(x, sig):\n",
    "    return round(x, sig-int(floor(log10(abs(x))))-1)\n",
    "\n",
    "df_result = []\n",
    "for i in col_m: \n",
    "    ms_win = [] # AV_TOT_-5_0 등을 담는 list\n",
    "    for a, b in window:\n",
    "        ms_win.append(i+'_'+str(a)+'_'+str(b))\n",
    "    \n",
    "    ms_win_result = []\n",
    "    for col in ms_win: \n",
    "        ### winsor ####\n",
    "        m= wins(df,col)[col].mean()\n",
    "        if 'AV' in i: # Ab. vol.이면 t-test 대상은 1\n",
    "            t_stat, p_value = scipy.stats.ttest_1samp(wins(df,col)[col], 0) #################### 0인지 1인지 ####################\n",
    "        else: # 그외 0\n",
    "            t_stat, p_value = scipy.stats.ttest_1samp(wins(df,col)[col], 0)\n",
    "        ###############\n",
    "        \n",
    "        m=str(round_it(m,3))  # 유효숫자 3자리\n",
    "        t_stat = '({})'.format('%.2f' % t_stat)           # 소수점 둘째 자리\n",
    "\n",
    "        if 0.05 <= p_value < 0.1:\n",
    "            m = m+'*'\n",
    "        elif 0.01 <= p_value < 0.05:\n",
    "            m = m+'**'\n",
    "        elif p_value < 0.01:\n",
    "            m = m+'***'\n",
    "\n",
    "        ms_win_result.append([m,t_stat])\n",
    "    \n",
    "    ms_win_result = np.array(ms_win_result)\n",
    "    ms_win_result = np.transpose(ms_win_result)\n",
    "    \n",
    "    if i == col_m[0]:\n",
    "        df_result = ms_win_result\n",
    "    else:\n",
    "        df_result = np.vstack((df_result,ms_win_result))\n",
    "    \n",
    "\n",
    "subcol = ['mean','t_stat']\n",
    "\n",
    "column = pd.MultiIndex.from_product([col_m, subcol])\n",
    "df_result = np.transpose(df_result)\n",
    "df_result = pd.DataFrame(df_result, index = window, columns = column)"
   ]
  },
  {
   "cell_type": "code",
   "execution_count": 18,
   "id": "3ab7fbd4",
   "metadata": {},
   "outputs": [
    {
     "data": {
      "text/html": [
       "<div>\n",
       "<style scoped>\n",
       "    .dataframe tbody tr th:only-of-type {\n",
       "        vertical-align: middle;\n",
       "    }\n",
       "\n",
       "    .dataframe tbody tr th {\n",
       "        vertical-align: top;\n",
       "    }\n",
       "\n",
       "    .dataframe thead tr th {\n",
       "        text-align: left;\n",
       "    }\n",
       "</style>\n",
       "<table border=\"1\" class=\"dataframe\">\n",
       "  <thead>\n",
       "    <tr>\n",
       "      <th></th>\n",
       "      <th colspan=\"2\" halign=\"left\">AV_VOL_TOT</th>\n",
       "      <th colspan=\"2\" halign=\"left\">AV_VOL_IND</th>\n",
       "      <th colspan=\"2\" halign=\"left\">AV_VOL_INS</th>\n",
       "      <th colspan=\"2\" halign=\"left\">AV_VOL_FOR</th>\n",
       "      <th colspan=\"2\" halign=\"left\">AV_VAL_TOT</th>\n",
       "      <th>...</th>\n",
       "      <th colspan=\"2\" halign=\"left\">BSI_FOR</th>\n",
       "      <th colspan=\"2\" halign=\"left\">TO_TOT</th>\n",
       "      <th colspan=\"2\" halign=\"left\">TO_IND</th>\n",
       "      <th colspan=\"2\" halign=\"left\">TO_INS</th>\n",
       "      <th colspan=\"2\" halign=\"left\">TO_FOR</th>\n",
       "    </tr>\n",
       "    <tr>\n",
       "      <th></th>\n",
       "      <th>mean</th>\n",
       "      <th>t_stat</th>\n",
       "      <th>mean</th>\n",
       "      <th>t_stat</th>\n",
       "      <th>mean</th>\n",
       "      <th>t_stat</th>\n",
       "      <th>mean</th>\n",
       "      <th>t_stat</th>\n",
       "      <th>mean</th>\n",
       "      <th>t_stat</th>\n",
       "      <th>...</th>\n",
       "      <th>mean</th>\n",
       "      <th>t_stat</th>\n",
       "      <th>mean</th>\n",
       "      <th>t_stat</th>\n",
       "      <th>mean</th>\n",
       "      <th>t_stat</th>\n",
       "      <th>mean</th>\n",
       "      <th>t_stat</th>\n",
       "      <th>mean</th>\n",
       "      <th>t_stat</th>\n",
       "    </tr>\n",
       "  </thead>\n",
       "  <tbody>\n",
       "    <tr>\n",
       "      <th>(-5, -2)</th>\n",
       "      <td>-0.00509</td>\n",
       "      <td>(-0.29)</td>\n",
       "      <td>0.00582</td>\n",
       "      <td>(0.30)</td>\n",
       "      <td>-0.0336**</td>\n",
       "      <td>(-2.28)</td>\n",
       "      <td>-0.0109</td>\n",
       "      <td>(-0.72)</td>\n",
       "      <td>0.0088</td>\n",
       "      <td>(0.51)</td>\n",
       "      <td>...</td>\n",
       "      <td>-0.00371</td>\n",
       "      <td>(-1.47)</td>\n",
       "      <td>-0.000104</td>\n",
       "      <td>(-0.85)</td>\n",
       "      <td>-0.00016*</td>\n",
       "      <td>(-1.72)</td>\n",
       "      <td>-9.89e-06</td>\n",
       "      <td>(-0.67)</td>\n",
       "      <td>2.34e-05</td>\n",
       "      <td>(1.27)</td>\n",
       "    </tr>\n",
       "    <tr>\n",
       "      <th>(-1, -1)</th>\n",
       "      <td>-0.0356*</td>\n",
       "      <td>(-1.88)</td>\n",
       "      <td>-0.00279</td>\n",
       "      <td>(-0.12)</td>\n",
       "      <td>-0.0459**</td>\n",
       "      <td>(-2.38)</td>\n",
       "      <td>-0.0363**</td>\n",
       "      <td>(-2.02)</td>\n",
       "      <td>-0.0267</td>\n",
       "      <td>(-1.41)</td>\n",
       "      <td>...</td>\n",
       "      <td>-0.0038</td>\n",
       "      <td>(-1.00)</td>\n",
       "      <td>-0.000397***</td>\n",
       "      <td>(-3.21)</td>\n",
       "      <td>-0.000339***</td>\n",
       "      <td>(-3.62)</td>\n",
       "      <td>-2.64e-05</td>\n",
       "      <td>(-1.45)</td>\n",
       "      <td>-2.3e-05</td>\n",
       "      <td>(-1.17)</td>\n",
       "    </tr>\n",
       "    <tr>\n",
       "      <th>(0, 0)</th>\n",
       "      <td>0.111***</td>\n",
       "      <td>(3.94)</td>\n",
       "      <td>0.179***</td>\n",
       "      <td>(4.83)</td>\n",
       "      <td>0.0439*</td>\n",
       "      <td>(1.76)</td>\n",
       "      <td>0.0646***</td>\n",
       "      <td>(2.95)</td>\n",
       "      <td>0.131***</td>\n",
       "      <td>(4.31)</td>\n",
       "      <td>...</td>\n",
       "      <td>-0.00119</td>\n",
       "      <td>(-0.31)</td>\n",
       "      <td>0.000678***</td>\n",
       "      <td>(3.36)</td>\n",
       "      <td>0.000438***</td>\n",
       "      <td>(2.82)</td>\n",
       "      <td>7.48e-05***</td>\n",
       "      <td>(3.18)</td>\n",
       "      <td>0.000121***</td>\n",
       "      <td>(4.34)</td>\n",
       "    </tr>\n",
       "    <tr>\n",
       "      <th>(1, 1)</th>\n",
       "      <td>0.0944***</td>\n",
       "      <td>(3.47)</td>\n",
       "      <td>0.16***</td>\n",
       "      <td>(4.63)</td>\n",
       "      <td>0.0477*</td>\n",
       "      <td>(1.93)</td>\n",
       "      <td>0.0395*</td>\n",
       "      <td>(1.88)</td>\n",
       "      <td>0.117***</td>\n",
       "      <td>(3.95)</td>\n",
       "      <td>...</td>\n",
       "      <td>0.00381</td>\n",
       "      <td>(0.98)</td>\n",
       "      <td>0.000432***</td>\n",
       "      <td>(2.59)</td>\n",
       "      <td>0.000326**</td>\n",
       "      <td>(2.32)</td>\n",
       "      <td>6.58e-05***</td>\n",
       "      <td>(3.00)</td>\n",
       "      <td>8.98e-05***</td>\n",
       "      <td>(3.57)</td>\n",
       "    </tr>\n",
       "    <tr>\n",
       "      <th>(2, 5)</th>\n",
       "      <td>-0.00262</td>\n",
       "      <td>(-0.14)</td>\n",
       "      <td>0.0443*</td>\n",
       "      <td>(1.84)</td>\n",
       "      <td>-0.0227</td>\n",
       "      <td>(-1.39)</td>\n",
       "      <td>-0.00284</td>\n",
       "      <td>(-0.17)</td>\n",
       "      <td>0.0103</td>\n",
       "      <td>(0.55)</td>\n",
       "      <td>...</td>\n",
       "      <td>-0.00468*</td>\n",
       "      <td>(-1.81)</td>\n",
       "      <td>0.000126</td>\n",
       "      <td>(0.87)</td>\n",
       "      <td>0.000114</td>\n",
       "      <td>(0.92)</td>\n",
       "      <td>-6.61e-06</td>\n",
       "      <td>(-0.45)</td>\n",
       "      <td>2.52e-05</td>\n",
       "      <td>(1.42)</td>\n",
       "    </tr>\n",
       "  </tbody>\n",
       "</table>\n",
       "<p>5 rows × 30 columns</p>\n",
       "</div>"
      ],
      "text/plain": [
       "         AV_VOL_TOT          AV_VOL_IND          AV_VOL_INS           \\\n",
       "               mean   t_stat       mean   t_stat       mean   t_stat   \n",
       "(-5, -2)   -0.00509  (-0.29)    0.00582   (0.30)  -0.0336**  (-2.28)   \n",
       "(-1, -1)   -0.0356*  (-1.88)   -0.00279  (-0.12)  -0.0459**  (-2.38)   \n",
       "(0, 0)     0.111***   (3.94)   0.179***   (4.83)    0.0439*   (1.76)   \n",
       "(1, 1)    0.0944***   (3.47)    0.16***   (4.63)    0.0477*   (1.93)   \n",
       "(2, 5)     -0.00262  (-0.14)    0.0443*   (1.84)    -0.0227  (-1.39)   \n",
       "\n",
       "         AV_VOL_FOR          AV_VAL_TOT           ...    BSI_FOR           \\\n",
       "               mean   t_stat       mean   t_stat  ...       mean   t_stat   \n",
       "(-5, -2)    -0.0109  (-0.72)     0.0088   (0.51)  ...   -0.00371  (-1.47)   \n",
       "(-1, -1)  -0.0363**  (-2.02)    -0.0267  (-1.41)  ...    -0.0038  (-1.00)   \n",
       "(0, 0)    0.0646***   (2.95)   0.131***   (4.31)  ...   -0.00119  (-0.31)   \n",
       "(1, 1)      0.0395*   (1.88)   0.117***   (3.95)  ...    0.00381   (0.98)   \n",
       "(2, 5)     -0.00284  (-0.17)     0.0103   (0.55)  ...  -0.00468*  (-1.81)   \n",
       "\n",
       "                TO_TOT                 TO_IND                TO_INS           \\\n",
       "                  mean   t_stat          mean   t_stat         mean   t_stat   \n",
       "(-5, -2)     -0.000104  (-0.85)     -0.00016*  (-1.72)    -9.89e-06  (-0.67)   \n",
       "(-1, -1)  -0.000397***  (-3.21)  -0.000339***  (-3.62)    -2.64e-05  (-1.45)   \n",
       "(0, 0)     0.000678***   (3.36)   0.000438***   (2.82)  7.48e-05***   (3.18)   \n",
       "(1, 1)     0.000432***   (2.59)    0.000326**   (2.32)  6.58e-05***   (3.00)   \n",
       "(2, 5)        0.000126   (0.87)      0.000114   (0.92)    -6.61e-06  (-0.45)   \n",
       "\n",
       "               TO_FOR           \n",
       "                 mean   t_stat  \n",
       "(-5, -2)     2.34e-05   (1.27)  \n",
       "(-1, -1)     -2.3e-05  (-1.17)  \n",
       "(0, 0)    0.000121***   (4.34)  \n",
       "(1, 1)    8.98e-05***   (3.57)  \n",
       "(2, 5)       2.52e-05   (1.42)  \n",
       "\n",
       "[5 rows x 30 columns]"
      ]
     },
     "execution_count": 18,
     "metadata": {},
     "output_type": "execute_result"
    }
   ],
   "source": [
    "df_result"
   ]
  },
  {
   "cell_type": "code",
   "execution_count": 19,
   "id": "6abaf565",
   "metadata": {},
   "outputs": [],
   "source": [
    "df_result.to_excel('C:/Users/Jeongseok_Bang/OneDrive/바탕 화면/석사과정/FinLab/ESG/DF_최종_10_AV_t_test_3_wins{}.xlsx'.format(thres))\n",
    "# t_test_2 : result_2 기반\n",
    "# t_test_3 : result_3 기반 (window 변경 및 winsorize)\n",
    "# t_test_4 : result_4 기반 (AV 변경)"
   ]
  },
  {
   "cell_type": "markdown",
   "id": "35aadaff",
   "metadata": {},
   "source": []
  },
  {
   "cell_type": "code",
   "execution_count": 18,
   "id": "a4a40999",
   "metadata": {},
   "outputs": [],
   "source": [
    "############ 분류별 분석################\n",
    "\n",
    "\n",
    "# col 전체\n",
    "CARs = []\n",
    "for i in col_m: \n",
    "    for a, b in window:\n",
    "        CARs.append(i+'_'+str(a)+'_'+str(b))\n",
    "        \n",
    "index = ['mean','t_stat','p_value']\n",
    "esg_cate = df['ESG'].value_counts() \n",
    "esg_lst = esg_cate.index.to_list() # ESG 종류\n",
    "# esg_lst2 = ['tot']\n",
    "# esg_lst2.extend(esg_lst)\n",
    "esg_lst2 = ['환경오염','노동자','공급','소비자','부패','S','G']\n",
    "\n",
    "# esg 중분류별 t-test\n",
    "labor =['파업','산재','고용','임금','노동권'] \n",
    "supply = ['독과점','공급망','상생']\n",
    "consumer = ['품질','개인정보','유해물질','광고']\n",
    "corrupt =['비리','도덕성'] \n",
    "esg_mid = [['환경오염'],labor, supply, consumer, corrupt]\n",
    "lst = []\n",
    "for mid in esg_mid :\n",
    "    for mi in mid:\n",
    "        if mi == mid[0]:\n",
    "            df_temp= df[df['ESG']==mi]\n",
    "        else :\n",
    "            df_temp = pd.concat([df_temp, df[df['ESG']==mi]],ignore_index=True)\n",
    "\n",
    "    for car in CARs :\n",
    "        m = df_temp[car].mean()\n",
    "        t_stat, p_value = scipy.stats.ttest_1samp(df_temp[car], 0)\n",
    "        lst_temp = [m, t_stat, p_value]\n",
    "        lst.append(lst_temp)    \n",
    "\n",
    "# esg 대분류별 test\n",
    "Ss= ['파업','산재','고용','임금','노동권', '독과점','공급망','상생','품질','개인정보','유해물질','광고','성범죄'] \n",
    "Gs = ['비리','도덕성','경영권','불공정거래','분식회계']\n",
    "# G2s = ['비리','도덕성','불공정거래','분식회계'] # 경영권 제외\n",
    "esg_lg = [Ss, Gs]\n",
    "for lg in esg_lg :\n",
    "    for l in lg:\n",
    "        if l == lg[0]:\n",
    "            df_temp= df[df['ESG']==l]\n",
    "        else :\n",
    "            df_temp = pd.concat([df_temp, df[df['ESG']==l]],ignore_index=True)\n",
    "\n",
    "    for car in CARs :\n",
    "        m = df_temp[car].mean()\n",
    "        t_stat, p_value = scipy.stats.ttest_1samp(df_temp[car], 0)\n",
    "        lst_temp = [m, t_stat, p_value]\n",
    "        lst.append(lst_temp)    \n",
    "\n",
    "column = pd.MultiIndex.from_product([esg_lst2, CARs], names=['ESG세부', 'CAR'])\n",
    "lst = np.array(lst)\n",
    "lst = np.transpose(lst)\n",
    "df_result_2 = pd.DataFrame(lst, columns=column, index=index)"
   ]
  },
  {
   "cell_type": "code",
   "execution_count": 19,
   "id": "875d6a9f",
   "metadata": {},
   "outputs": [],
   "source": [
    "df_result_2.to_excel('C:/Users/Jeongseok_Bang/OneDrive/바탕 화면/석사과정/FinLab/ESG/DF_최종_10_AV_t_test_3.xlsx')"
   ]
  },
  {
   "cell_type": "markdown",
   "id": "5a48d85f",
   "metadata": {},
   "source": [
    "## E S G 각각 분석"
   ]
  },
  {
   "cell_type": "code",
   "execution_count": 21,
   "id": "dd1090d3",
   "metadata": {},
   "outputs": [],
   "source": [
    "df_result_3 = []\n",
    "\n",
    "E =['환경오염']\n",
    "S= ['파업','산재','고용','임금','노동권', '독과점','공급망','상생','품질','개인정보','유해물질','광고','성범죄'] \n",
    "G = ['비리','도덕성','경영권','불공정거래','분식회계']\n",
    "ESG = [E,S,G]\n",
    "\n",
    "def ESG(pillar):\n",
    "    \n",
    "    for l in pillar:\n",
    "        if l == pillar[0]:\n",
    "            df_temp= df[df['ESG']==l]\n",
    "        else :\n",
    "            df_temp = pd.concat([df_temp, df[df['ESG']==l]],ignore_index=True)\n",
    "\n",
    "    # 유효숫자 함수\n",
    "    def round_it(x, sig):\n",
    "        return round(x, sig-int(floor(log10(abs(x))))-1)\n",
    "\n",
    "    for i in col_m: \n",
    "        ms_win = [] # AV_TOT_-5_0 등을 담는 list\n",
    "        for a, b in window:\n",
    "            ms_win.append(i+'_'+str(a)+'_'+str(b))\n",
    "\n",
    "        ms_win_result = []\n",
    "        for col in ms_win: \n",
    "            m= df_temp[col].mean()\n",
    "            if 'AV' in i: # Ab. vol.이면 t-test 대상은 1\n",
    "                t_stat, p_value = scipy.stats.ttest_1samp(df_temp[col], 0) ####################0인지 1인지####################\n",
    "            else: # 그외 0\n",
    "                t_stat, p_value = scipy.stats.ttest_1samp(df_temp[col], 0)\n",
    "\n",
    "            m=str(round_it(m,3)) # 유효숫자 3자리\n",
    "            t_stat = '({})'.format('%.2f' % t_stat)           # 소수점 둘째 자리\n",
    "\n",
    "            if 0.05 <= p_value < 0.1:\n",
    "                m = m+'*'\n",
    "            elif 0.01 <= p_value < 0.05:\n",
    "                m = m+'**'\n",
    "            elif p_value < 0.01:\n",
    "                m = m+'***'\n",
    "\n",
    "            ms_win_result.append([m,t_stat])\n",
    "\n",
    "        ms_win_result = np.array(ms_win_result)\n",
    "        ms_win_result = np.transpose(ms_win_result)\n",
    "\n",
    "        if i == col_m[0]:\n",
    "            df_result_3 = ms_win_result\n",
    "        else:\n",
    "            df_result_3 = np.vstack((df_result_3,ms_win_result))\n",
    "\n",
    "    subcol = ['mean','t_stat']\n",
    "    column = pd.MultiIndex.from_product([col_m, subcol])\n",
    "    df_result_3 = np.transpose(df_result_3)\n",
    "    df_result_3 = pd.DataFrame(df_result_3, index = window, columns = column)\n",
    "\n",
    "    return df_result_3\n",
    "    "
   ]
  },
  {
   "cell_type": "code",
   "execution_count": 78,
   "id": "7c1593db",
   "metadata": {},
   "outputs": [],
   "source": [
    "ESG(E).to_excel('C:/Users/Jeongseok_Bang/OneDrive/바탕 화면/석사과정/FinLab/ESG/DF_최종_10_AV_t_test_3_{}.xlsx'.format('E'))\n",
    "ESG(S).to_excel('C:/Users/Jeongseok_Bang/OneDrive/바탕 화면/석사과정/FinLab/ESG/DF_최종_10_AV_t_test_3_{}.xlsx'.format('S'))\n",
    "ESG(G).to_excel('C:/Users/Jeongseok_Bang/OneDrive/바탕 화면/석사과정/FinLab/ESG/DF_최종_10_AV_t_test_3_{}.xlsx'.format('G'))"
   ]
  },
  {
   "cell_type": "code",
   "execution_count": 20,
   "id": "4df52b4f",
   "metadata": {},
   "outputs": [],
   "source": [
    "################## winsorize ##################\n",
    "df_result_3 = []\n",
    "\n",
    "E =['환경오염']\n",
    "S= ['파업','산재','고용','임금','노동권', '독과점','공급망','상생','품질','개인정보','유해물질','광고','성범죄'] \n",
    "G = ['비리','도덕성','경영권','불공정거래','분식회계']\n",
    "ESG = [E,S,G]\n",
    "\n",
    "def ESG_wins(pillar):\n",
    "    \n",
    "    for l in pillar:\n",
    "        if l == pillar[0]:\n",
    "            df_temp= df[df['ESG']==l]\n",
    "        else :\n",
    "            df_temp = pd.concat([df_temp, df[df['ESG']==l]],ignore_index=True)\n",
    "\n",
    "    # 유효숫자 함수\n",
    "    def round_it(x, sig):\n",
    "        return round(x, sig-int(floor(log10(abs(x))))-1)\n",
    "\n",
    "    for i in col_m: \n",
    "        ms_win = [] # AV_TOT_-5_0 등을 담는 list\n",
    "        for a, b in window:\n",
    "            ms_win.append(i+'_'+str(a)+'_'+str(b))\n",
    "\n",
    "        ms_win_result = []\n",
    "        for col in ms_win: \n",
    "            m= wins(df_temp,col)[col].mean()\n",
    "            if 'AV' in i: # Ab. vol.이면 t-test 대상은 1\n",
    "                t_stat, p_value = scipy.stats.ttest_1samp(wins(df_temp,col)[col], 0) ####################0인지 1인지####################\n",
    "            else: # 그외 0\n",
    "                t_stat, p_value = scipy.stats.ttest_1samp(wins(df_temp,col)[col], 0)\n",
    "\n",
    "            m=str(round_it(m,3)) # 유효숫자 3자리\n",
    "            t_stat = '({})'.format('%.2f' % t_stat)           # 소수점 둘째 자리\n",
    "\n",
    "            if 0.05 <= p_value < 0.1:\n",
    "                m = m+'*'\n",
    "            elif 0.01 <= p_value < 0.05:\n",
    "                m = m+'**'\n",
    "            elif p_value < 0.01:\n",
    "                m = m+'***'\n",
    "\n",
    "            ms_win_result.append([m,t_stat])\n",
    "\n",
    "        ms_win_result = np.array(ms_win_result)\n",
    "        ms_win_result = np.transpose(ms_win_result)\n",
    "\n",
    "        if i == col_m[0]:\n",
    "            df_result_3 = ms_win_result\n",
    "        else:\n",
    "            df_result_3 = np.vstack((df_result_3,ms_win_result))\n",
    "\n",
    "    subcol = ['mean','t_stat']\n",
    "    column = pd.MultiIndex.from_product([col_m, subcol])\n",
    "    df_result_3 = np.transpose(df_result_3)\n",
    "    df_result_3 = pd.DataFrame(df_result_3, index = window, columns = column)\n",
    "\n",
    "    return df_result_3\n",
    "    "
   ]
  },
  {
   "cell_type": "code",
   "execution_count": 21,
   "id": "da373eb4",
   "metadata": {},
   "outputs": [],
   "source": [
    "ESG_wins(E).to_excel('C:/Users/Jeongseok_Bang/OneDrive/바탕 화면/석사과정/FinLab/ESG/DF_최종_10_AV_t_test_3_wins{}_{}.xlsx'.format(thres,'E'))\n",
    "ESG_wins(S).to_excel('C:/Users/Jeongseok_Bang/OneDrive/바탕 화면/석사과정/FinLab/ESG/DF_최종_10_AV_t_test_3_wins{}_{}.xlsx'.format(thres,'S'))\n",
    "ESG_wins(G).to_excel('C:/Users/Jeongseok_Bang/OneDrive/바탕 화면/석사과정/FinLab/ESG/DF_최종_10_AV_t_test_3_wins{}_{}.xlsx'.format(thres,'G'))"
   ]
  },
  {
   "cell_type": "code",
   "execution_count": 14,
   "id": "e1eda22f",
   "metadata": {},
   "outputs": [],
   "source": [
    "################## SOCIAL 세부 분석 ##################\n",
    "################## winsorize ##################\n",
    "df_result_3 = []\n",
    "\n",
    "# worker =['파업','산재','고용','임금','노동권'] \n",
    "# supply = ['독과점','공급망','상생']\n",
    "# consumer = ['품질','개인정보','유해물질','광고']\n",
    "# sex_offense = ['성범죄']\n",
    "\n",
    "Corruption = ['비리','도덕성']\n",
    "Ownership =['경영권']\n",
    "Unfair_Trading = ['불공정거래']\n",
    "Accounting = ['분식회계']\n",
    "\n",
    "    \n",
    "def ESG_wins(pillar):\n",
    "    \n",
    "    for l in pillar:\n",
    "        if l == pillar[0]:\n",
    "            df_temp= df[df['ESG']==l]\n",
    "        else :\n",
    "            df_temp = pd.concat([df_temp, df[df['ESG']==l]],ignore_index=True)\n",
    "\n",
    "    # 유효숫자 함수\n",
    "    def round_it(x, sig):\n",
    "        return round(x, sig-int(floor(log10(abs(x))))-1)\n",
    "\n",
    "    for i in col_m: \n",
    "        ms_win = [] # AV_TOT_-5_0 등을 담는 list\n",
    "        for a, b in window:\n",
    "            ms_win.append(i+'_'+str(a)+'_'+str(b))\n",
    "\n",
    "        ms_win_result = []\n",
    "        for col in ms_win: \n",
    "            m= wins(df_temp,col)[col].mean()\n",
    "            if 'AV' in i: # Ab. vol.이면 t-test 대상은 1\n",
    "                t_stat, p_value = scipy.stats.ttest_1samp(wins(df_temp,col)[col], 0) ####################0인지 1인지####################\n",
    "            else: # 그외 0\n",
    "                t_stat, p_value = scipy.stats.ttest_1samp(wins(df_temp,col)[col], 0)\n",
    "\n",
    "            m=str(round_it(m,3)) # 유효숫자 3자리\n",
    "            t_stat = '%.2f' % t_stat  # 소수점 둘째 자리\n",
    "\n",
    "            if 0.05 <= p_value < 0.1:\n",
    "                m = m+'*'\n",
    "            elif 0.01 <= p_value < 0.05:\n",
    "                m = m+'**'\n",
    "            elif p_value < 0.01:\n",
    "                m = m+'***'\n",
    "\n",
    "            ms_win_result.append([m,t_stat])\n",
    "\n",
    "        ms_win_result = np.array(ms_win_result)\n",
    "        ms_win_result = np.transpose(ms_win_result)\n",
    "\n",
    "        if i == col_m[0]:\n",
    "            df_result_3 = ms_win_result\n",
    "        else:\n",
    "            df_result_3 = np.vstack((df_result_3,ms_win_result))\n",
    "\n",
    "    subcol = ['mean','t_stat']\n",
    "    column = pd.MultiIndex.from_product([col_m, subcol])\n",
    "    df_result_3 = np.transpose(df_result_3)\n",
    "    df_result_3 = pd.DataFrame(df_result_3, index = window, columns = column)\n",
    "\n",
    "    return df_result_3"
   ]
  },
  {
   "cell_type": "code",
   "execution_count": 15,
   "id": "0bfc7565",
   "metadata": {},
   "outputs": [],
   "source": [
    "ESG_wins(Corruption).to_excel('C:/Users/Jeongseok_Bang/OneDrive/바탕 화면/석사과정/FinLab/ESG/DF_최종_10_AV_t_test_3_wins{}_{}.xlsx'.format(thres,'Corruption'))\n",
    "ESG_wins(Ownership).to_excel('C:/Users/Jeongseok_Bang/OneDrive/바탕 화면/석사과정/FinLab/ESG/DF_최종_10_AV_t_test_3_wins{}_{}.xlsx'.format(thres,'Ownership'))\n",
    "ESG_wins(Unfair_Trading).to_excel('C:/Users/Jeongseok_Bang/OneDrive/바탕 화면/석사과정/FinLab/ESG/DF_최종_10_AV_t_test_3_wins{}_{}.xlsx'.format(thres,'Unfair_Trading'))\n",
    "ESG_wins(Accounting).to_excel('C:/Users/Jeongseok_Bang/OneDrive/바탕 화면/석사과정/FinLab/ESG/DF_최종_10_AV_t_test_3_wins{}_{}.xlsx'.format(thres,'Accounting'))\n"
   ]
  },
  {
   "cell_type": "code",
   "execution_count": null,
   "id": "7745d569",
   "metadata": {},
   "outputs": [],
   "source": []
  },
  {
   "cell_type": "markdown",
   "id": "f6828052",
   "metadata": {},
   "source": [
    "## overlap"
   ]
  },
  {
   "cell_type": "code",
   "execution_count": 32,
   "id": "1f4f83c3",
   "metadata": {},
   "outputs": [
    {
     "name": "stdout",
     "output_type": "stream",
     "text": [
      "(550, 82)\n"
     ]
    }
   ],
   "source": [
    "ov = 2\n",
    "df_ov = df[df['중복 횟수(10일)']>ov]\n",
    "print(df_ov.shape)"
   ]
  },
  {
   "cell_type": "code",
   "execution_count": 33,
   "id": "b2ff4f8c",
   "metadata": {},
   "outputs": [
    {
     "ename": "NameError",
     "evalue": "name 'col_AV' is not defined",
     "output_type": "error",
     "traceback": [
      "\u001b[1;31m---------------------------------------------------------------------------\u001b[0m",
      "\u001b[1;31mNameError\u001b[0m                                 Traceback (most recent call last)",
      "Input \u001b[1;32mIn [33]\u001b[0m, in \u001b[0;36m<cell line: 1>\u001b[1;34m()\u001b[0m\n\u001b[1;32m----> 1\u001b[0m \u001b[38;5;28;01mfor\u001b[39;00m col \u001b[38;5;129;01min\u001b[39;00m \u001b[43mcol_AV\u001b[49m :  \n\u001b[0;32m      2\u001b[0m     t_stat, p_value \u001b[38;5;241m=\u001b[39m scipy\u001b[38;5;241m.\u001b[39mstats\u001b[38;5;241m.\u001b[39mttest_1samp(df_ov[col], \u001b[38;5;241m0\u001b[39m)\n\u001b[0;32m      3\u001b[0m     \u001b[38;5;28mprint\u001b[39m(col, \u001b[38;5;124m'\u001b[39m\u001b[38;5;130;01m\\n\u001b[39;00m\u001b[38;5;124m'\u001b[39m, \u001b[38;5;124m'\u001b[39m\u001b[38;5;124mmean:\u001b[39m\u001b[38;5;124m'\u001b[39m, \u001b[38;5;28mround\u001b[39m(df[col]\u001b[38;5;241m.\u001b[39mmean(),\u001b[38;5;241m5\u001b[39m), \u001b[38;5;124m'\u001b[39m\u001b[38;5;124mt-stats:\u001b[39m\u001b[38;5;124m'\u001b[39m, \u001b[38;5;28mround\u001b[39m(t_stat,\u001b[38;5;241m5\u001b[39m), \u001b[38;5;124m'\u001b[39m\u001b[38;5;124mp-value:\u001b[39m\u001b[38;5;124m'\u001b[39m, \u001b[38;5;28mround\u001b[39m(p_value,\u001b[38;5;241m5\u001b[39m))\n",
      "\u001b[1;31mNameError\u001b[0m: name 'col_AV' is not defined"
     ]
    }
   ],
   "source": [
    "for col in col_AV :  \n",
    "    t_stat, p_value = scipy.stats.ttest_1samp(df_ov[col], 0)\n",
    "    print(col, '\\n', 'mean:', round(df[col].mean(),5), 't-stats:', round(t_stat,5), 'p-value:', round(p_value,5))\n",
    "print('\\n')\n",
    "for col in col_BSI:\n",
    "    t_stat, p_value = scipy.stats.ttest_1samp(df_ov[col], 0)\n",
    "    print(col, '\\n', 'mean:', round(df[col].mean(),5), 't-stats:', round(t_stat,5), 'p-value:', round(p_value,5))\n",
    "print('\\n')\n",
    "for col in col_TO:\n",
    "    t_stat, p_value = scipy.stats.ttest_1samp(df_ov[col], 0)\n",
    "    print(col, '\\n', 'mean:', round(df[col].mean(),5), 't-stats:', round(t_stat,5), 'p-value:', round(p_value,5))"
   ]
  },
  {
   "cell_type": "code",
   "execution_count": 34,
   "id": "b997b496",
   "metadata": {},
   "outputs": [],
   "source": [
    "############# winsorize ##############\n",
    "# 유효숫자 함수\n",
    "def round_it(x, sig):\n",
    "    return round(x, sig-int(floor(log10(abs(x))))-1)\n",
    "\n",
    "df_result = []\n",
    "for i in col_m: \n",
    "    ms_win = [] # AV_TOT_-5_0 등을 담는 list\n",
    "    for a, b in window:\n",
    "        ms_win.append(i+'_'+str(a)+'_'+str(b))\n",
    "    \n",
    "    ms_win_result = []\n",
    "    for col in ms_win: \n",
    "        ### winsor ####\n",
    "        m= wins(df_ov,col)[col].mean()\n",
    "        if 'AV' in i: # Ab. vol.이면 t-test 대상은 1\n",
    "            t_stat, p_value = scipy.stats.ttest_1samp(wins(df_ov,col)[col], 0) #################### 0인지 1인지 ####################\n",
    "        else: # 그외 0\n",
    "            t_stat, p_value = scipy.stats.ttest_1samp(wins(df_ov,col)[col], 0)\n",
    "        ###############\n",
    "        \n",
    "        m=str(round_it(m,3))  # 유효숫자 3자리\n",
    "        t_stat = '%.2f' % t_stat  # 소수점 둘째 자리\n",
    "\n",
    "        if 0.05 <= p_value < 0.1:\n",
    "            m = m+'*'\n",
    "        elif 0.01 <= p_value < 0.05:\n",
    "            m = m+'**'\n",
    "        elif p_value < 0.01:\n",
    "            m = m+'***'\n",
    "\n",
    "        ms_win_result.append([m,t_stat])\n",
    "    \n",
    "    ms_win_result = np.array(ms_win_result)\n",
    "    ms_win_result = np.transpose(ms_win_result)\n",
    "    \n",
    "    if i == col_m[0]:\n",
    "        df_result = ms_win_result\n",
    "    else:\n",
    "        df_result = np.vstack((df_result,ms_win_result))\n",
    "    \n",
    "\n",
    "subcol = ['mean','t_stat']\n",
    "\n",
    "column = pd.MultiIndex.from_product([col_m, subcol])\n",
    "df_result = np.transpose(df_result)\n",
    "df_result = pd.DataFrame(df_result, index = window, columns = column)"
   ]
  },
  {
   "cell_type": "code",
   "execution_count": 35,
   "id": "e6e3522b",
   "metadata": {},
   "outputs": [],
   "source": [
    "df_result.to_excel('C:/Users/Jeongseok_Bang/OneDrive/바탕 화면/석사과정/FinLab/ESG/DF_최종_10_AV_t_test_3_ov{}_wins{}.xlsx'.format(ov,thres))"
   ]
  },
  {
   "cell_type": "markdown",
   "id": "d1219089",
   "metadata": {},
   "source": [
    "# distribution"
   ]
  },
  {
   "cell_type": "code",
   "execution_count": 29,
   "id": "36fd9194",
   "metadata": {},
   "outputs": [],
   "source": [
    "%matplotlib inline"
   ]
  },
  {
   "cell_type": "code",
   "execution_count": 1,
   "id": "0a42998c",
   "metadata": {},
   "outputs": [
    {
     "ename": "NameError",
     "evalue": "name 'col_m' is not defined",
     "output_type": "error",
     "traceback": [
      "\u001b[1;31m---------------------------------------------------------------------------\u001b[0m",
      "\u001b[1;31mNameError\u001b[0m                                 Traceback (most recent call last)",
      "Input \u001b[1;32mIn [1]\u001b[0m, in \u001b[0;36m<cell line: 1>\u001b[1;34m()\u001b[0m\n\u001b[1;32m----> 1\u001b[0m \u001b[38;5;28;01mfor\u001b[39;00m i \u001b[38;5;129;01min\u001b[39;00m \u001b[43mcol_m\u001b[49m: \n\u001b[0;32m      2\u001b[0m     ms_win \u001b[38;5;241m=\u001b[39m [] \u001b[38;5;66;03m# AV_TOT_-5_0 등을 담는 list\u001b[39;00m\n\u001b[0;32m      3\u001b[0m     \u001b[38;5;28;01mfor\u001b[39;00m a, b \u001b[38;5;129;01min\u001b[39;00m window:\n",
      "\u001b[1;31mNameError\u001b[0m: name 'col_m' is not defined"
     ]
    }
   ],
   "source": [
    "for i in col_m: \n",
    "    ms_win = [] # AV_TOT_-5_0 등을 담는 list\n",
    "    for a, b in window:\n",
    "        ms_win.append(i+'_'+str(a)+'_'+str(b))\n",
    "    \n",
    "    for x in ms_win:\n",
    "        plt.hist(wins(df,x)[x], bins=100)\n",
    "        plt.title(x)        \n",
    "        plt.show()"
   ]
  },
  {
   "cell_type": "code",
   "execution_count": null,
   "id": "3de3e524",
   "metadata": {},
   "outputs": [],
   "source": []
  },
  {
   "cell_type": "markdown",
   "id": "2f668ec4",
   "metadata": {},
   "source": [
    "# wilcoxon with winsorize"
   ]
  },
  {
   "cell_type": "markdown",
   "id": "b85e5bb0",
   "metadata": {},
   "source": [
    "## Total"
   ]
  },
  {
   "cell_type": "code",
   "execution_count": 36,
   "id": "873ff832",
   "metadata": {},
   "outputs": [
    {
     "data": {
      "text/html": [
       "<div>\n",
       "<style scoped>\n",
       "    .dataframe tbody tr th:only-of-type {\n",
       "        vertical-align: middle;\n",
       "    }\n",
       "\n",
       "    .dataframe tbody tr th {\n",
       "        vertical-align: top;\n",
       "    }\n",
       "\n",
       "    .dataframe thead th {\n",
       "        text-align: right;\n",
       "    }\n",
       "</style>\n",
       "<table border=\"1\" class=\"dataframe\">\n",
       "  <thead>\n",
       "    <tr style=\"text-align: right;\">\n",
       "      <th></th>\n",
       "      <th>일자</th>\n",
       "      <th>제목</th>\n",
       "      <th>본문</th>\n",
       "      <th>기업</th>\n",
       "      <th>ESG</th>\n",
       "      <th>중복 횟수</th>\n",
       "      <th>중복 횟수(10일)</th>\n",
       "      <th>AV_VOL_TOT_-5_-2</th>\n",
       "      <th>AV_VOL_TOT_-1_-1</th>\n",
       "      <th>AV_VOL_TOT_0_0</th>\n",
       "      <th>...</th>\n",
       "      <th>TO_INS_-5_-2</th>\n",
       "      <th>TO_INS_-1_-1</th>\n",
       "      <th>TO_INS_0_0</th>\n",
       "      <th>TO_INS_1_1</th>\n",
       "      <th>TO_INS_2_5</th>\n",
       "      <th>TO_FOR_-5_-2</th>\n",
       "      <th>TO_FOR_-1_-1</th>\n",
       "      <th>TO_FOR_0_0</th>\n",
       "      <th>TO_FOR_1_1</th>\n",
       "      <th>TO_FOR_2_5</th>\n",
       "    </tr>\n",
       "  </thead>\n",
       "  <tbody>\n",
       "    <tr>\n",
       "      <th>0</th>\n",
       "      <td>2020-11-04</td>\n",
       "      <td>BNK금융지주 전 간부, 주가 조종 혐의 벌금형</td>\n",
       "      <td>하루 새 100억 원대 주식을 매입해 자사 주가를 끌어올린 혐의로 재판에 넘겨진 B...</td>\n",
       "      <td>BNK금융지주</td>\n",
       "      <td>불공정거래</td>\n",
       "      <td>0</td>\n",
       "      <td>0</td>\n",
       "      <td>0.128097</td>\n",
       "      <td>-0.260732</td>\n",
       "      <td>-0.428205</td>\n",
       "      <td>...</td>\n",
       "      <td>-0.000249</td>\n",
       "      <td>-0.000287</td>\n",
       "      <td>-0.000151</td>\n",
       "      <td>-0.000013</td>\n",
       "      <td>0.000053</td>\n",
       "      <td>-0.000307</td>\n",
       "      <td>-0.000648</td>\n",
       "      <td>-0.000780</td>\n",
       "      <td>-0.000805</td>\n",
       "      <td>-0.000126</td>\n",
       "    </tr>\n",
       "    <tr>\n",
       "      <th>1</th>\n",
       "      <td>2020-01-13</td>\n",
       "      <td>엘시티 부실대출 성세환 전 BNK금융지주 회장에 징역 5년 구형</td>\n",
       "      <td>검찰이 엘시티 사업에 부당한 방법으로 300억 원을 대출한 혐의로 재판에 넘긴 성세...</td>\n",
       "      <td>BNK금융지주</td>\n",
       "      <td>비리</td>\n",
       "      <td>0</td>\n",
       "      <td>0</td>\n",
       "      <td>-0.454610</td>\n",
       "      <td>-0.187791</td>\n",
       "      <td>-0.119757</td>\n",
       "      <td>...</td>\n",
       "      <td>0.000251</td>\n",
       "      <td>0.000227</td>\n",
       "      <td>0.000144</td>\n",
       "      <td>0.000206</td>\n",
       "      <td>-0.000018</td>\n",
       "      <td>-0.000364</td>\n",
       "      <td>-0.000261</td>\n",
       "      <td>-0.000363</td>\n",
       "      <td>0.000234</td>\n",
       "      <td>-0.000218</td>\n",
       "    </tr>\n",
       "    <tr>\n",
       "      <th>2</th>\n",
       "      <td>2018-12-14</td>\n",
       "      <td>'채용비리' 박재경 전 BNK금융지주 사장, 항소심서 감형</td>\n",
       "      <td>[ 김은지 기자 ] \\n부산은행 신입행원 공개채용에서 전직 국회의원 딸을 특혜 채용...</td>\n",
       "      <td>BNK금융지주</td>\n",
       "      <td>비리</td>\n",
       "      <td>0</td>\n",
       "      <td>0</td>\n",
       "      <td>-0.095064</td>\n",
       "      <td>1.136943</td>\n",
       "      <td>-0.077858</td>\n",
       "      <td>...</td>\n",
       "      <td>-0.000187</td>\n",
       "      <td>0.001407</td>\n",
       "      <td>0.000163</td>\n",
       "      <td>0.000017</td>\n",
       "      <td>0.000799</td>\n",
       "      <td>-0.000080</td>\n",
       "      <td>0.001840</td>\n",
       "      <td>0.000213</td>\n",
       "      <td>-0.000013</td>\n",
       "      <td>0.000377</td>\n",
       "    </tr>\n",
       "    <tr>\n",
       "      <th>3</th>\n",
       "      <td>2018-03-20</td>\n",
       "      <td>검찰, '채용비리' 혐의 BNK금융지주 추가 압수수색</td>\n",
       "      <td>부산은행 채용비리를 수사하는 검찰이 BNK금융지주를 추가로 압수수색했다. \\n \\n...</td>\n",
       "      <td>BNK금융지주</td>\n",
       "      <td>비리</td>\n",
       "      <td>0</td>\n",
       "      <td>0</td>\n",
       "      <td>-0.306752</td>\n",
       "      <td>-0.395666</td>\n",
       "      <td>-0.587188</td>\n",
       "      <td>...</td>\n",
       "      <td>-0.000137</td>\n",
       "      <td>-0.000129</td>\n",
       "      <td>-0.000423</td>\n",
       "      <td>0.000539</td>\n",
       "      <td>-0.000099</td>\n",
       "      <td>0.000012</td>\n",
       "      <td>0.000718</td>\n",
       "      <td>-0.001022</td>\n",
       "      <td>0.000393</td>\n",
       "      <td>0.000372</td>\n",
       "    </tr>\n",
       "    <tr>\n",
       "      <th>4</th>\n",
       "      <td>2018-03-01</td>\n",
       "      <td>'채용비리 의혹' BNK금융지주 사장 등 2명 구속영장 청구</td>\n",
       "      <td>채용비리 의혹을 받고 있는 박재경 BNK금융지주 사장과 강모 BNK저축은행 대표이사...</td>\n",
       "      <td>BNK금융지주</td>\n",
       "      <td>비리</td>\n",
       "      <td>3</td>\n",
       "      <td>10</td>\n",
       "      <td>0.069843</td>\n",
       "      <td>0.151386</td>\n",
       "      <td>0.977715</td>\n",
       "      <td>...</td>\n",
       "      <td>-0.000046</td>\n",
       "      <td>-0.000243</td>\n",
       "      <td>0.000144</td>\n",
       "      <td>-0.000287</td>\n",
       "      <td>0.000212</td>\n",
       "      <td>0.000366</td>\n",
       "      <td>0.001470</td>\n",
       "      <td>0.002444</td>\n",
       "      <td>-0.000320</td>\n",
       "      <td>0.000390</td>\n",
       "    </tr>\n",
       "    <tr>\n",
       "      <th>...</th>\n",
       "      <td>...</td>\n",
       "      <td>...</td>\n",
       "      <td>...</td>\n",
       "      <td>...</td>\n",
       "      <td>...</td>\n",
       "      <td>...</td>\n",
       "      <td>...</td>\n",
       "      <td>...</td>\n",
       "      <td>...</td>\n",
       "      <td>...</td>\n",
       "      <td>...</td>\n",
       "      <td>...</td>\n",
       "      <td>...</td>\n",
       "      <td>...</td>\n",
       "      <td>...</td>\n",
       "      <td>...</td>\n",
       "      <td>...</td>\n",
       "      <td>...</td>\n",
       "      <td>...</td>\n",
       "      <td>...</td>\n",
       "      <td>...</td>\n",
       "    </tr>\n",
       "    <tr>\n",
       "      <th>1765</th>\n",
       "      <td>2019-03-21</td>\n",
       "      <td>이부진 호텔신라 사장 \"불법 투약 사실 없다\" 부인</td>\n",
       "      <td>이부진 호텔신라 대표이사 사장은 21일 \"(프로포폴)을 불법 투약한 사실이 없다\"고...</td>\n",
       "      <td>호텔신라</td>\n",
       "      <td>도덕성</td>\n",
       "      <td>0</td>\n",
       "      <td>0</td>\n",
       "      <td>0.834648</td>\n",
       "      <td>0.370905</td>\n",
       "      <td>0.915821</td>\n",
       "      <td>...</td>\n",
       "      <td>0.003456</td>\n",
       "      <td>0.001842</td>\n",
       "      <td>0.004635</td>\n",
       "      <td>0.000318</td>\n",
       "      <td>-0.000294</td>\n",
       "      <td>0.003000</td>\n",
       "      <td>0.000684</td>\n",
       "      <td>-0.000031</td>\n",
       "      <td>-0.000468</td>\n",
       "      <td>-0.002625</td>\n",
       "    </tr>\n",
       "    <tr>\n",
       "      <th>1766</th>\n",
       "      <td>2017-07-12</td>\n",
       "      <td>면세점 비리 의혹에 한화갤러리아 '울고' 호텔신라 '웃고'</td>\n",
       "      <td>신규 면세점 특허 심사 과정에서 일부 업체에 대한 특혜가 있었다는 감사원의 \\n발표...</td>\n",
       "      <td>호텔신라</td>\n",
       "      <td>비리</td>\n",
       "      <td>0</td>\n",
       "      <td>0</td>\n",
       "      <td>-0.284601</td>\n",
       "      <td>-0.310572</td>\n",
       "      <td>1.536280</td>\n",
       "      <td>...</td>\n",
       "      <td>-0.000895</td>\n",
       "      <td>-0.000271</td>\n",
       "      <td>0.001246</td>\n",
       "      <td>0.000497</td>\n",
       "      <td>0.000853</td>\n",
       "      <td>-0.001097</td>\n",
       "      <td>-0.001655</td>\n",
       "      <td>0.003976</td>\n",
       "      <td>0.001040</td>\n",
       "      <td>0.000792</td>\n",
       "    </tr>\n",
       "    <tr>\n",
       "      <th>1767</th>\n",
       "      <td>2017-06-09</td>\n",
       "      <td>임우재 뇌물 혐의, 이부진의 호텔신라에 ‘불똥’</td>\n",
       "      <td>이부진 호텔신라 사장(왼쪽), 임우재 전 삼성전기 고문. [사진=아주경제DB] \\n...</td>\n",
       "      <td>호텔신라</td>\n",
       "      <td>비리</td>\n",
       "      <td>1</td>\n",
       "      <td>1</td>\n",
       "      <td>-0.208108</td>\n",
       "      <td>-0.005533</td>\n",
       "      <td>-0.542903</td>\n",
       "      <td>...</td>\n",
       "      <td>-0.000786</td>\n",
       "      <td>0.000270</td>\n",
       "      <td>-0.000468</td>\n",
       "      <td>-0.000535</td>\n",
       "      <td>0.000774</td>\n",
       "      <td>-0.000371</td>\n",
       "      <td>0.002079</td>\n",
       "      <td>-0.000052</td>\n",
       "      <td>-0.000761</td>\n",
       "      <td>0.001535</td>\n",
       "    </tr>\n",
       "    <tr>\n",
       "      <th>1768</th>\n",
       "      <td>2019-09-10</td>\n",
       "      <td>효성중공업, 국세청 382억원 추징금 부과</td>\n",
       "      <td>[머니투데이 최태범 기자] 효성중공업은 서울지방국세청으로부터 382억원의 추징금을 ...</td>\n",
       "      <td>효성중공업</td>\n",
       "      <td>공급망</td>\n",
       "      <td>0</td>\n",
       "      <td>0</td>\n",
       "      <td>-0.332025</td>\n",
       "      <td>-0.646029</td>\n",
       "      <td>-0.715219</td>\n",
       "      <td>...</td>\n",
       "      <td>-0.000786</td>\n",
       "      <td>-0.000467</td>\n",
       "      <td>-0.000741</td>\n",
       "      <td>-0.000078</td>\n",
       "      <td>-0.000531</td>\n",
       "      <td>-0.000383</td>\n",
       "      <td>-0.000365</td>\n",
       "      <td>-0.000400</td>\n",
       "      <td>-0.000024</td>\n",
       "      <td>-0.000297</td>\n",
       "    </tr>\n",
       "    <tr>\n",
       "      <th>1769</th>\n",
       "      <td>2021-04-16</td>\n",
       "      <td>효성첨단소재 공장서 황산 1천ℓ 누출 “인명 피해 없어”</td>\n",
       "      <td>[KBS 울산]\\n오늘 오전 6시 40분쯤 남구 매암동 효성 첨단소재 공장에서 황산...</td>\n",
       "      <td>효성첨단소재</td>\n",
       "      <td>산재</td>\n",
       "      <td>1</td>\n",
       "      <td>1</td>\n",
       "      <td>-1.106858</td>\n",
       "      <td>-0.742890</td>\n",
       "      <td>0.799528</td>\n",
       "      <td>...</td>\n",
       "      <td>-0.000713</td>\n",
       "      <td>-0.000598</td>\n",
       "      <td>0.000239</td>\n",
       "      <td>-0.000451</td>\n",
       "      <td>-0.000311</td>\n",
       "      <td>-0.003126</td>\n",
       "      <td>-0.002517</td>\n",
       "      <td>0.005686</td>\n",
       "      <td>0.002697</td>\n",
       "      <td>0.002055</td>\n",
       "    </tr>\n",
       "  </tbody>\n",
       "</table>\n",
       "<p>1770 rows × 82 columns</p>\n",
       "</div>"
      ],
      "text/plain": [
       "             일자                                   제목  \\\n",
       "0    2020-11-04           BNK금융지주 전 간부, 주가 조종 혐의 벌금형   \n",
       "1    2020-01-13  엘시티 부실대출 성세환 전 BNK금융지주 회장에 징역 5년 구형   \n",
       "2    2018-12-14     '채용비리' 박재경 전 BNK금융지주 사장, 항소심서 감형   \n",
       "3    2018-03-20        검찰, '채용비리' 혐의 BNK금융지주 추가 압수수색   \n",
       "4    2018-03-01    '채용비리 의혹' BNK금융지주 사장 등 2명 구속영장 청구   \n",
       "...         ...                                  ...   \n",
       "1765 2019-03-21         이부진 호텔신라 사장 \"불법 투약 사실 없다\" 부인   \n",
       "1766 2017-07-12     면세점 비리 의혹에 한화갤러리아 '울고' 호텔신라 '웃고'   \n",
       "1767 2017-06-09           임우재 뇌물 혐의, 이부진의 호텔신라에 ‘불똥’   \n",
       "1768 2019-09-10              효성중공업, 국세청 382억원 추징금 부과   \n",
       "1769 2021-04-16      효성첨단소재 공장서 황산 1천ℓ 누출 “인명 피해 없어”   \n",
       "\n",
       "                                                     본문       기업    ESG  \\\n",
       "0     하루 새 100억 원대 주식을 매입해 자사 주가를 끌어올린 혐의로 재판에 넘겨진 B...  BNK금융지주  불공정거래   \n",
       "1     검찰이 엘시티 사업에 부당한 방법으로 300억 원을 대출한 혐의로 재판에 넘긴 성세...  BNK금융지주     비리   \n",
       "2     [ 김은지 기자 ] \\n부산은행 신입행원 공개채용에서 전직 국회의원 딸을 특혜 채용...  BNK금융지주     비리   \n",
       "3     부산은행 채용비리를 수사하는 검찰이 BNK금융지주를 추가로 압수수색했다. \\n \\n...  BNK금융지주     비리   \n",
       "4     채용비리 의혹을 받고 있는 박재경 BNK금융지주 사장과 강모 BNK저축은행 대표이사...  BNK금융지주     비리   \n",
       "...                                                 ...      ...    ...   \n",
       "1765  이부진 호텔신라 대표이사 사장은 21일 \"(프로포폴)을 불법 투약한 사실이 없다\"고...     호텔신라    도덕성   \n",
       "1766  신규 면세점 특허 심사 과정에서 일부 업체에 대한 특혜가 있었다는 감사원의 \\n발표...     호텔신라     비리   \n",
       "1767  이부진 호텔신라 사장(왼쪽), 임우재 전 삼성전기 고문. [사진=아주경제DB] \\n...     호텔신라     비리   \n",
       "1768  [머니투데이 최태범 기자] 효성중공업은 서울지방국세청으로부터 382억원의 추징금을 ...    효성중공업    공급망   \n",
       "1769  [KBS 울산]\\n오늘 오전 6시 40분쯤 남구 매암동 효성 첨단소재 공장에서 황산...   효성첨단소재     산재   \n",
       "\n",
       "      중복 횟수  중복 횟수(10일)  AV_VOL_TOT_-5_-2  AV_VOL_TOT_-1_-1  AV_VOL_TOT_0_0  \\\n",
       "0         0           0          0.128097         -0.260732       -0.428205   \n",
       "1         0           0         -0.454610         -0.187791       -0.119757   \n",
       "2         0           0         -0.095064          1.136943       -0.077858   \n",
       "3         0           0         -0.306752         -0.395666       -0.587188   \n",
       "4         3          10          0.069843          0.151386        0.977715   \n",
       "...     ...         ...               ...               ...             ...   \n",
       "1765      0           0          0.834648          0.370905        0.915821   \n",
       "1766      0           0         -0.284601         -0.310572        1.536280   \n",
       "1767      1           1         -0.208108         -0.005533       -0.542903   \n",
       "1768      0           0         -0.332025         -0.646029       -0.715219   \n",
       "1769      1           1         -1.106858         -0.742890        0.799528   \n",
       "\n",
       "      ...  TO_INS_-5_-2  TO_INS_-1_-1  TO_INS_0_0  TO_INS_1_1  TO_INS_2_5  \\\n",
       "0     ...     -0.000249     -0.000287   -0.000151   -0.000013    0.000053   \n",
       "1     ...      0.000251      0.000227    0.000144    0.000206   -0.000018   \n",
       "2     ...     -0.000187      0.001407    0.000163    0.000017    0.000799   \n",
       "3     ...     -0.000137     -0.000129   -0.000423    0.000539   -0.000099   \n",
       "4     ...     -0.000046     -0.000243    0.000144   -0.000287    0.000212   \n",
       "...   ...           ...           ...         ...         ...         ...   \n",
       "1765  ...      0.003456      0.001842    0.004635    0.000318   -0.000294   \n",
       "1766  ...     -0.000895     -0.000271    0.001246    0.000497    0.000853   \n",
       "1767  ...     -0.000786      0.000270   -0.000468   -0.000535    0.000774   \n",
       "1768  ...     -0.000786     -0.000467   -0.000741   -0.000078   -0.000531   \n",
       "1769  ...     -0.000713     -0.000598    0.000239   -0.000451   -0.000311   \n",
       "\n",
       "      TO_FOR_-5_-2  TO_FOR_-1_-1  TO_FOR_0_0  TO_FOR_1_1  TO_FOR_2_5  \n",
       "0        -0.000307     -0.000648   -0.000780   -0.000805   -0.000126  \n",
       "1        -0.000364     -0.000261   -0.000363    0.000234   -0.000218  \n",
       "2        -0.000080      0.001840    0.000213   -0.000013    0.000377  \n",
       "3         0.000012      0.000718   -0.001022    0.000393    0.000372  \n",
       "4         0.000366      0.001470    0.002444   -0.000320    0.000390  \n",
       "...            ...           ...         ...         ...         ...  \n",
       "1765      0.003000      0.000684   -0.000031   -0.000468   -0.002625  \n",
       "1766     -0.001097     -0.001655    0.003976    0.001040    0.000792  \n",
       "1767     -0.000371      0.002079   -0.000052   -0.000761    0.001535  \n",
       "1768     -0.000383     -0.000365   -0.000400   -0.000024   -0.000297  \n",
       "1769     -0.003126     -0.002517    0.005686    0.002697    0.002055  \n",
       "\n",
       "[1770 rows x 82 columns]"
      ]
     },
     "execution_count": 36,
     "metadata": {},
     "output_type": "execute_result"
    }
   ],
   "source": [
    "df"
   ]
  },
  {
   "cell_type": "code",
   "execution_count": 50,
   "id": "67cab6e9",
   "metadata": {},
   "outputs": [
    {
     "name": "stdout",
     "output_type": "stream",
     "text": [
      "ShapiroResult(statistic=0.7855488657951355, pvalue=2.7605579747198896e-43)\n",
      "ShapiroResult(statistic=0.7996548414230347, pvalue=2.9455293720107655e-42)\n",
      "ShapiroResult(statistic=0.62188720703125, pvalue=0.0)\n",
      "ShapiroResult(statistic=0.6505712270736694, pvalue=0.0)\n",
      "ShapiroResult(statistic=0.7680287957191467, pvalue=1.6815581571897805e-44)\n",
      "ShapiroResult(statistic=0.7743831276893616, pvalue=4.624284932271896e-44)\n",
      "ShapiroResult(statistic=0.7255077362060547, pvalue=0.0)\n",
      "ShapiroResult(statistic=0.5470463037490845, pvalue=0.0)\n",
      "ShapiroResult(statistic=0.592208981513977, pvalue=0.0)\n",
      "ShapiroResult(statistic=0.6943707466125488, pvalue=0.0)\n",
      "ShapiroResult(statistic=0.9096689224243164, pvalue=3.49894639200224e-31)\n",
      "ShapiroResult(statistic=0.8573729991912842, pvalue=2.5612962477937064e-37)\n",
      "ShapiroResult(statistic=0.7259894609451294, pvalue=0.0)\n",
      "ShapiroResult(statistic=0.7701584696769714, pvalue=2.382207389352189e-44)\n",
      "ShapiroResult(statistic=0.8743528723716736, pvalue=1.4757638503563752e-35)\n",
      "ShapiroResult(statistic=0.9012652635574341, pvalue=2.4789209844540293e-32)\n",
      "ShapiroResult(statistic=0.8987662196159363, pvalue=1.1675841554620166e-32)\n",
      "ShapiroResult(statistic=0.802493691444397, pvalue=4.820466717277371e-42)\n",
      "ShapiroResult(statistic=0.8362225294113159, pvalue=2.736318313883999e-39)\n",
      "ShapiroResult(statistic=0.8626834154129028, pvalue=8.712390472619802e-37)\n",
      "ShapiroResult(statistic=0.716933012008667, pvalue=0.0)\n",
      "ShapiroResult(statistic=0.7117956876754761, pvalue=0.0)\n",
      "ShapiroResult(statistic=0.545462429523468, pvalue=0.0)\n",
      "ShapiroResult(statistic=0.5388535857200623, pvalue=0.0)\n",
      "ShapiroResult(statistic=0.6879801154136658, pvalue=0.0)\n",
      "ShapiroResult(statistic=0.7023791074752808, pvalue=0.0)\n",
      "ShapiroResult(statistic=0.6076258420944214, pvalue=0.0)\n",
      "ShapiroResult(statistic=0.48329687118530273, pvalue=0.0)\n",
      "ShapiroResult(statistic=0.5203570127487183, pvalue=0.0)\n",
      "ShapiroResult(statistic=0.6076380014419556, pvalue=0.0)\n",
      "ShapiroResult(statistic=0.8596416711807251, pvalue=4.301483163276557e-37)\n",
      "ShapiroResult(statistic=0.7912118434906006, pvalue=7.034518290910582e-43)\n",
      "ShapiroResult(statistic=0.6774778366088867, pvalue=0.0)\n",
      "ShapiroResult(statistic=0.7161102294921875, pvalue=0.0)\n",
      "ShapiroResult(statistic=0.7708103060722351, pvalue=2.6624670822171524e-44)\n",
      "ShapiroResult(statistic=0.8087757229804993, pvalue=1.4636562459872714e-41)\n",
      "ShapiroResult(statistic=0.8371769189834595, pvalue=3.323219945801769e-39)\n",
      "ShapiroResult(statistic=0.7271424531936646, pvalue=0.0)\n",
      "ShapiroResult(statistic=0.7507402300834656, pvalue=1.401298464324817e-45)\n",
      "ShapiroResult(statistic=0.8166787028312683, pvalue=6.178184799361686e-41)\n",
      "\n",
      "\n",
      "ShapiroResult(statistic=0.9857418537139893, pvalue=3.0015237257458027e-12)\n",
      "ShapiroResult(statistic=0.9913946390151978, pvalue=1.0661489469043772e-08)\n",
      "ShapiroResult(statistic=0.9910391569137573, pvalue=5.8717635198490825e-09)\n",
      "ShapiroResult(statistic=0.992299497127533, pvalue=5.2006512873958854e-08)\n",
      "ShapiroResult(statistic=0.9868724942207336, pvalue=1.275845401549347e-11)\n",
      "ShapiroResult(statistic=0.9956907629966736, pvalue=5.918173701502383e-05)\n",
      "ShapiroResult(statistic=0.9955633282661438, pvalue=4.366789653431624e-05)\n",
      "ShapiroResult(statistic=0.9942986965179443, pvalue=2.577319946794887e-06)\n",
      "ShapiroResult(statistic=0.9952652454376221, pvalue=2.1758331058663316e-05)\n",
      "ShapiroResult(statistic=0.9952186346054077, pvalue=1.9544844690244645e-05)\n",
      "ShapiroResult(statistic=0.9951497912406921, pvalue=1.6699032130418345e-05)\n",
      "ShapiroResult(statistic=0.9956068396568298, pvalue=4.842761336476542e-05)\n",
      "ShapiroResult(statistic=0.9940136075019836, pvalue=1.4207735148374923e-06)\n",
      "ShapiroResult(statistic=0.9941384792327881, pvalue=1.8409369886285276e-06)\n",
      "ShapiroResult(statistic=0.9941871762275696, pvalue=2.038396132775233e-06)\n",
      "\n",
      "\n",
      "ShapiroResult(statistic=0.6804993152618408, pvalue=0.0)\n",
      "ShapiroResult(statistic=0.7272670269012451, pvalue=0.0)\n",
      "ShapiroResult(statistic=0.5148451328277588, pvalue=0.0)\n",
      "ShapiroResult(statistic=0.5963943004608154, pvalue=0.0)\n",
      "ShapiroResult(statistic=0.598833441734314, pvalue=0.0)\n",
      "ShapiroResult(statistic=0.6206248998641968, pvalue=0.0)\n",
      "ShapiroResult(statistic=0.6607339382171631, pvalue=0.0)\n",
      "ShapiroResult(statistic=0.4744754433631897, pvalue=0.0)\n",
      "ShapiroResult(statistic=0.5025571584701538, pvalue=0.0)\n",
      "ShapiroResult(statistic=0.5197865962982178, pvalue=0.0)\n",
      "ShapiroResult(statistic=0.8455331325531006, pvalue=1.896830812083677e-38)\n",
      "ShapiroResult(statistic=0.8226187825202942, pvalue=1.8859655641808416e-40)\n",
      "ShapiroResult(statistic=0.6995795965194702, pvalue=0.0)\n",
      "ShapiroResult(statistic=0.753503680229187, pvalue=1.401298464324817e-45)\n",
      "ShapiroResult(statistic=0.8662272095680237, pvalue=2.014608372950704e-36)\n",
      "ShapiroResult(statistic=0.8303741216659546, pvalue=8.482830318713496e-40)\n",
      "ShapiroResult(statistic=0.874677300453186, pvalue=1.601266239405886e-35)\n",
      "ShapiroResult(statistic=0.6937597990036011, pvalue=0.0)\n",
      "ShapiroResult(statistic=0.7461475133895874, pvalue=0.0)\n",
      "ShapiroResult(statistic=0.8310421705245972, pvalue=9.68074432392621e-40)\n"
     ]
    }
   ],
   "source": [
    "############ 정규성 테스트 ##############\n",
    "from scipy.stats import shapiro\n",
    " \n",
    "for col in col_AV :  \n",
    "    print(shapiro(wins(df,col)[col]))\n",
    "print('\\n')\n",
    "for col in col_BSI:\n",
    "    print(shapiro(wins(df,col)[col]))\n",
    "print('\\n')\n",
    "for col in col_TO:\n",
    "    print(shapiro(wins(df,col)[col]))\n"
   ]
  },
  {
   "cell_type": "code",
   "execution_count": 42,
   "id": "732db1ae",
   "metadata": {},
   "outputs": [
    {
     "name": "stdout",
     "output_type": "stream",
     "text": [
      "AV_VOL_TOT_-5_-2 \n",
      " median: -0.12201 t-stats: 625412.0 p-value: 0.0\n",
      "AV_VOL_TOT_-1_-1 \n",
      " median: -0.16631 t-stats: 582323.0 p-value: 0.0\n",
      "AV_VOL_TOT_0_0 \n",
      " median: -0.12379 t-stats: 674542.0 p-value: 0.0\n",
      "AV_VOL_TOT_1_1 \n",
      " median: -0.10816 t-stats: 664059.0 p-value: 0.0\n",
      "AV_VOL_TOT_2_5 \n",
      " median: -0.1182 t-stats: 614325.0 p-value: 0.0\n",
      "AV_VOL_IND_-5_-2 \n",
      " median: -0.16495 t-stats: 614173.0 p-value: 0.0\n",
      "AV_VOL_IND_-1_-1 \n",
      " median: -0.21121 t-stats: 580519.0 p-value: 0.0\n",
      "AV_VOL_IND_0_0 \n",
      " median: -0.15489 t-stats: 672033.0 p-value: 0.0\n",
      "AV_VOL_IND_1_1 \n",
      " median: -0.17007 t-stats: 665209.0 p-value: 0.0\n",
      "AV_VOL_IND_2_5 \n",
      " median: -0.16346 t-stats: 621664.0 p-value: 0.0\n",
      "AV_VOL_INS_-5_-2 \n",
      " median: -0.11248 t-stats: 642136.0 p-value: 0.0\n",
      "AV_VOL_INS_-1_-1 \n",
      " median: -0.16548 t-stats: 593190.0 p-value: 0.0\n",
      "AV_VOL_INS_0_0 \n",
      " median: -0.14827 t-stats: 638091.0 p-value: 0.0\n",
      "AV_VOL_INS_1_1 \n",
      " median: -0.13405 t-stats: 667050.0 p-value: 0.0\n",
      "AV_VOL_INS_2_5 \n",
      " median: -0.09854 t-stats: 640139.0 p-value: 0.0\n",
      "AV_VOL_FOR_-5_-2 \n",
      " median: -0.10367 t-stats: 667056.0 p-value: 0.0\n",
      "AV_VOL_FOR_-1_-1 \n",
      " median: -0.17076 t-stats: 627347.0 p-value: 0.0\n",
      "AV_VOL_FOR_0_0 \n",
      " median: -0.10674 t-stats: 703003.0 p-value: 0.00018\n",
      "AV_VOL_FOR_1_1 \n",
      " median: -0.11419 t-stats: 687093.0 p-value: 1e-05\n",
      "AV_VOL_FOR_2_5 \n",
      " median: -0.10381 t-stats: 660669.0 p-value: 0.0\n",
      "AV_VAL_TOT_-5_-2 \n",
      " median: -0.14535 t-stats: 594119.0 p-value: 0.0\n",
      "AV_VAL_TOT_-1_-1 \n",
      " median: -0.19404 t-stats: 541038.0 p-value: 0.0\n",
      "AV_VAL_TOT_0_0 \n",
      " median: -0.17811 t-stats: 644440.0 p-value: 0.0\n",
      "AV_VAL_TOT_1_1 \n",
      " median: -0.1663 t-stats: 620827.0 p-value: 0.0\n",
      "AV_VAL_TOT_2_5 \n",
      " median: -0.14516 t-stats: 579741.0 p-value: 0.0\n",
      "AV_VAL_IND_-5_-2 \n",
      " median: -0.19702 t-stats: 585972.0 p-value: 0.0\n",
      "AV_VAL_IND_-1_-1 \n",
      " median: -0.23682 t-stats: 546161.0 p-value: 0.0\n",
      "AV_VAL_IND_0_0 \n",
      " median: -0.21207 t-stats: 642201.0 p-value: 0.0\n",
      "AV_VAL_IND_1_1 \n",
      " median: -0.21053 t-stats: 629604.0 p-value: 0.0\n",
      "AV_VAL_IND_2_5 \n",
      " median: -0.19414 t-stats: 588766.0 p-value: 0.0\n",
      "AV_VAL_INS_-5_-2 \n",
      " median: -0.13162 t-stats: 626465.0 p-value: 0.0\n",
      "AV_VAL_INS_-1_-1 \n",
      " median: -0.18649 t-stats: 574755.0 p-value: 0.0\n",
      "AV_VAL_INS_0_0 \n",
      " median: -0.17454 t-stats: 629161.0 p-value: 0.0\n",
      "AV_VAL_INS_1_1 \n",
      " median: -0.16309 t-stats: 650322.0 p-value: 0.0\n",
      "AV_VAL_INS_2_5 \n",
      " median: -0.13338 t-stats: 628012.0 p-value: 0.0\n",
      "AV_VAL_FOR_-5_-2 \n",
      " median: -0.11917 t-stats: 641658.0 p-value: 0.0\n",
      "AV_VAL_FOR_-1_-1 \n",
      " median: -0.19674 t-stats: 601523.0 p-value: 0.0\n",
      "AV_VAL_FOR_0_0 \n",
      " median: -0.13249 t-stats: 675468.0 p-value: 0.0\n",
      "AV_VAL_FOR_1_1 \n",
      " median: -0.14256 t-stats: 658612.0 p-value: 0.0\n",
      "AV_VAL_FOR_2_5 \n",
      " median: -0.1163 t-stats: 638313.0 p-value: 0.0\n",
      "\n",
      "\n",
      "BSI_IND_-5_-2 \n",
      " median: 0.00019 t-stats: 771309.0 p-value: 0.56552\n",
      "BSI_IND_-1_-1 \n",
      " median: -0.00127 t-stats: 748034.0 p-value: 0.09753\n",
      "BSI_IND_0_0 \n",
      " median: 0.00142 t-stats: 779628.0 p-value: 0.85101\n",
      "BSI_IND_1_1 \n",
      " median: 0.00128 t-stats: 768302.0 p-value: 0.50037\n",
      "BSI_IND_2_5 \n",
      " median: 0.00374 t-stats: 772646.0 p-value: 0.60831\n",
      "BSI_INS_-5_-2 \n",
      " median: -0.00607 t-stats: 739178.0 p-value: 0.03857\n",
      "BSI_INS_-1_-1 \n",
      " median: -0.00054 t-stats: 770473.0 p-value: 0.56673\n",
      "BSI_INS_0_0 \n",
      " median: -0.01328 t-stats: 710420.0 p-value: 0.00087\n",
      "BSI_INS_1_1 \n",
      " median: -0.01134 t-stats: 726965.5 p-value: 0.00939\n",
      "BSI_INS_2_5 \n",
      " median: -0.01207 t-stats: 702891.0 p-value: 0.00017\n",
      "BSI_FOR_-5_-2 \n",
      " median: -0.00248 t-stats: 748972.0 p-value: 0.10668\n",
      "BSI_FOR_-1_-1 \n",
      " median: -0.00687 t-stats: 758922.0 p-value: 0.26681\n",
      "BSI_FOR_0_0 \n",
      " median: -0.00328 t-stats: 771176.0 p-value: 0.58909\n",
      "BSI_FOR_1_1 \n",
      " median: 0.00128 t-stats: 765058.0 p-value: 0.40944\n",
      "BSI_FOR_2_5 \n",
      " median: -0.00381 t-stats: 751766.0 p-value: 0.13797\n",
      "\n",
      "\n",
      "TO_TOT_-5_-2 \n",
      " median: -0.00039 t-stats: 607823.0 p-value: 0.0\n",
      "TO_TOT_-1_-1 \n",
      " median: -0.00052 t-stats: 569933.0 p-value: 0.0\n",
      "TO_TOT_0_0 \n",
      " median: -0.0004 t-stats: 670917.0 p-value: 0.0\n",
      "TO_TOT_1_1 \n",
      " median: -0.00044 t-stats: 636701.0 p-value: 0.0\n",
      "TO_TOT_2_5 \n",
      " median: -0.00037 t-stats: 608234.0 p-value: 0.0\n",
      "TO_IND_-5_-2 \n",
      " median: -0.00015 t-stats: 591802.0 p-value: 0.0\n",
      "TO_IND_-1_-1 \n",
      " median: -0.00021 t-stats: 550135.0 p-value: 0.0\n",
      "TO_IND_0_0 \n",
      " median: -0.00017 t-stats: 648105.0 p-value: 0.0\n",
      "TO_IND_1_1 \n",
      " median: -0.00017 t-stats: 625063.0 p-value: 0.0\n",
      "TO_IND_2_5 \n",
      " median: -0.00016 t-stats: 596476.0 p-value: 0.0\n",
      "TO_INS_-5_-2 \n",
      " median: -8e-05 t-stats: 639139.0 p-value: 0.0\n",
      "TO_INS_-1_-1 \n",
      " median: -0.00012 t-stats: 597291.0 p-value: 0.0\n",
      "TO_INS_0_0 \n",
      " median: -0.0001 t-stats: 656882.0 p-value: 0.0\n",
      "TO_INS_1_1 \n",
      " median: -9e-05 t-stats: 665573.0 p-value: 0.0\n",
      "TO_INS_2_5 \n",
      " median: -7e-05 t-stats: 650724.0 p-value: 0.0\n",
      "TO_FOR_-5_-2 \n",
      " median: -8e-05 t-stats: 669319.0 p-value: 0.0\n",
      "TO_FOR_-1_-1 \n",
      " median: -0.00013 t-stats: 623556.0 p-value: 0.0\n",
      "TO_FOR_0_0 \n",
      " median: -0.00011 t-stats: 702667.0 p-value: 0.00017\n",
      "TO_FOR_1_1 \n",
      " median: -0.00013 t-stats: 674942.0 p-value: 0.0\n",
      "TO_FOR_2_5 \n",
      " median: -8e-05 t-stats: 669450.0 p-value: 0.0\n"
     ]
    }
   ],
   "source": [
    "\n",
    "for col in col_AV :  \n",
    "    wilcoxon, p_value = scipy.stats.wilcoxon(wins(df,col)[col])\n",
    "    print(col, '\\n', 'median:', round(df[col].median(),5), 't-stats:', round(wilcoxon,5), 'p-value:', round(p_value,5))\n",
    "print('\\n')\n",
    "for col in col_BSI:\n",
    "    wilcoxon, p_value = scipy.stats.wilcoxon(wins(df,col)[col])\n",
    "    print(col, '\\n', 'median:', round(df[col].median(),5), 't-stats:', round(wilcoxon,5), 'p-value:', round(p_value,5))\n",
    "print('\\n')\n",
    "for col in col_TO:\n",
    "    wilcoxon, p_value = scipy.stats.wilcoxon(wins(df,col)[col])\n",
    "    print(col, '\\n', 'median:', round(df[col].median(),5), 't-stats:', round(wilcoxon,5), 'p-value:', round(p_value,5))"
   ]
  },
  {
   "cell_type": "code",
   "execution_count": 47,
   "id": "0eded7cf",
   "metadata": {},
   "outputs": [],
   "source": [
    "############# winsorize ##############\n",
    "# 유효숫자 함수\n",
    "def round_it(x, sig):\n",
    "    return round(x, sig-int(floor(log10(abs(x))))-1)\n",
    "\n",
    "df_result = []\n",
    "for i in col_m: \n",
    "    ms_win = [] # AV_TOT_-5_0 등을 담는 list\n",
    "    for a, b in window:\n",
    "        ms_win.append(i+'_'+str(a)+'_'+str(b))\n",
    "    \n",
    "    ms_win_result = []\n",
    "    for col in ms_win: \n",
    "        ### winsor ####\n",
    "        m= wins(df,col)[col].median()\n",
    "        if 'AV' in i: # Ab. vol.이면 t-test 대상은 1\n",
    "            wilcoxon, p_value = scipy.stats.wilcoxon(wins(df,col)[col]) #################### 0인지 1인지 ####################\n",
    "        else: # 그외 0\n",
    "            wilcoxon, p_value = scipy.stats.wilcoxon(wins(df,col)[col])\n",
    "        ###############\n",
    "        \n",
    "        m=str(round_it(m,3))  # 유효숫자 3자리\n",
    "        wilcoxon = '%.2f' % wilcoxon  # 소수점 둘째 자리\n",
    "\n",
    "        if 0.05 <= p_value < 0.1:\n",
    "            m = m+'*'\n",
    "        elif 0.01 <= p_value < 0.05:\n",
    "            m = m+'**'\n",
    "        elif p_value < 0.01:\n",
    "            m = m+'***'\n",
    "\n",
    "        ms_win_result.append([m,wilcoxon])\n",
    "    \n",
    "    ms_win_result = np.array(ms_win_result)\n",
    "    ms_win_result = np.transpose(ms_win_result)\n",
    "    \n",
    "    if i == col_m[0]:\n",
    "        df_result = ms_win_result\n",
    "    else:\n",
    "        df_result = np.vstack((df_result,ms_win_result))\n",
    "    \n",
    "\n",
    "subcol = ['median','wilcoxon']\n",
    "\n",
    "column = pd.MultiIndex.from_product([col_m, subcol])\n",
    "df_result = np.transpose(df_result)\n",
    "df_result = pd.DataFrame(df_result, index = window, columns = column)"
   ]
  },
  {
   "cell_type": "code",
   "execution_count": 48,
   "id": "f23f5297",
   "metadata": {},
   "outputs": [],
   "source": [
    "df_result.to_excel('C:/Users/Jeongseok_Bang/OneDrive/바탕 화면/석사과정/FinLab/ESG/DF_최종_10_AV_wcx_test_3_wins{}.xlsx'.format(thres))"
   ]
  },
  {
   "cell_type": "markdown",
   "id": "7f57e544",
   "metadata": {},
   "source": [
    "연습"
   ]
  },
  {
   "cell_type": "code",
   "execution_count": 1,
   "id": "d5cabb93",
   "metadata": {},
   "outputs": [
    {
     "ename": "NameError",
     "evalue": "name 'np' is not defined",
     "output_type": "error",
     "traceback": [
      "\u001b[1;31m---------------------------------------------------------------------------\u001b[0m",
      "\u001b[1;31mNameError\u001b[0m                                 Traceback (most recent call last)",
      "Input \u001b[1;32mIn [1]\u001b[0m, in \u001b[0;36m<cell line: 1>\u001b[1;34m()\u001b[0m\n\u001b[1;32m----> 1\u001b[0m a \u001b[38;5;241m=\u001b[39m \u001b[43mnp\u001b[49m\u001b[38;5;241m.\u001b[39mrandom\u001b[38;5;241m.\u001b[39mrand()\n",
      "\u001b[1;31mNameError\u001b[0m: name 'np' is not defined"
     ]
    }
   ],
   "source": [
    "a = np.random.rand()"
   ]
  },
  {
   "cell_type": "markdown",
   "id": "fce0e027",
   "metadata": {},
   "source": [
    "# event P/N: 소분류 비중"
   ]
  },
  {
   "cell_type": "markdown",
   "id": "a4468c1b",
   "metadata": {},
   "source": [
    "## AV"
   ]
  },
  {
   "cell_type": "code",
   "execution_count": 44,
   "id": "315bffb1",
   "metadata": {
    "scrolled": true
   },
   "outputs": [
    {
     "name": "stdout",
     "output_type": "stream",
     "text": [
      "일자\n",
      "제목\n",
      "본문\n",
      "기업\n",
      "ESG\n",
      "중복 횟수\n",
      "중복 횟수(10일)\n",
      "AV_VOL_TOT_-5_-2\n",
      "AV_VOL_TOT_-1_-1\n",
      "AV_VOL_TOT_0_0\n",
      "AV_VOL_TOT_1_1\n",
      "AV_VOL_TOT_2_5\n",
      "AV_VOL_IND_-5_-2\n",
      "AV_VOL_IND_-1_-1\n",
      "AV_VOL_IND_0_0\n",
      "AV_VOL_IND_1_1\n",
      "AV_VOL_IND_2_5\n",
      "AV_VOL_INS_-5_-2\n",
      "AV_VOL_INS_-1_-1\n",
      "AV_VOL_INS_0_0\n",
      "AV_VOL_INS_1_1\n",
      "AV_VOL_INS_2_5\n",
      "AV_VOL_FOR_-5_-2\n",
      "AV_VOL_FOR_-1_-1\n",
      "AV_VOL_FOR_0_0\n",
      "AV_VOL_FOR_1_1\n",
      "AV_VOL_FOR_2_5\n",
      "AV_VAL_TOT_-5_-2\n",
      "AV_VAL_TOT_-1_-1\n",
      "AV_VAL_TOT_0_0\n",
      "AV_VAL_TOT_1_1\n",
      "AV_VAL_TOT_2_5\n",
      "AV_VAL_IND_-5_-2\n",
      "AV_VAL_IND_-1_-1\n",
      "AV_VAL_IND_0_0\n",
      "AV_VAL_IND_1_1\n",
      "AV_VAL_IND_2_5\n",
      "AV_VAL_INS_-5_-2\n",
      "AV_VAL_INS_-1_-1\n",
      "AV_VAL_INS_0_0\n",
      "AV_VAL_INS_1_1\n",
      "AV_VAL_INS_2_5\n",
      "AV_VAL_FOR_-5_-2\n",
      "AV_VAL_FOR_-1_-1\n",
      "AV_VAL_FOR_0_0\n",
      "AV_VAL_FOR_1_1\n",
      "AV_VAL_FOR_2_5\n",
      "BSI_IND_-5_-2\n",
      "BSI_IND_-1_-1\n",
      "BSI_IND_0_0\n",
      "BSI_IND_1_1\n",
      "BSI_IND_2_5\n",
      "BSI_INS_-5_-2\n",
      "BSI_INS_-1_-1\n",
      "BSI_INS_0_0\n",
      "BSI_INS_1_1\n",
      "BSI_INS_2_5\n",
      "BSI_FOR_-5_-2\n",
      "BSI_FOR_-1_-1\n",
      "BSI_FOR_0_0\n",
      "BSI_FOR_1_1\n",
      "BSI_FOR_2_5\n",
      "TO_TOT_-5_-2\n",
      "TO_TOT_-1_-1\n",
      "TO_TOT_0_0\n",
      "TO_TOT_1_1\n",
      "TO_TOT_2_5\n",
      "TO_IND_-5_-2\n",
      "TO_IND_-1_-1\n",
      "TO_IND_0_0\n",
      "TO_IND_1_1\n",
      "TO_IND_2_5\n",
      "TO_INS_-5_-2\n",
      "TO_INS_-1_-1\n",
      "TO_INS_0_0\n",
      "TO_INS_1_1\n",
      "TO_INS_2_5\n",
      "TO_FOR_-5_-2\n",
      "TO_FOR_-1_-1\n",
      "TO_FOR_0_0\n",
      "TO_FOR_1_1\n",
      "TO_FOR_2_5\n"
     ]
    }
   ],
   "source": [
    "for i in df.columns:\n",
    "    print(i)"
   ]
  },
  {
   "cell_type": "code",
   "execution_count": 64,
   "id": "11d460ea",
   "metadata": {},
   "outputs": [
    {
     "data": {
      "text/plain": [
       "array(['불공정거래', '비리', '공급망', '파업', '독과점', '산재', '개인정보', '품질', '경영권',\n",
       "       '분식회계', '환경오염', '고용', '도덕성', '광고', '노동권', '유해물질', '임금', '상생',\n",
       "       '성범죄'], dtype=object)"
      ]
     },
     "execution_count": 64,
     "metadata": {},
     "output_type": "execute_result"
    }
   ],
   "source": [
    "df['ESG'].unique()"
   ]
  },
  {
   "cell_type": "code",
   "execution_count": 71,
   "id": "809c615e",
   "metadata": {},
   "outputs": [
    {
     "name": "stdout",
     "output_type": "stream",
     "text": [
      "(899, 82)\n"
     ]
    },
    {
     "data": {
      "text/plain": [
       "비리       206\n",
       "파업        99\n",
       "산재        91\n",
       "독과점       85\n",
       "공급망       73\n",
       "경영권       66\n",
       "품질        60\n",
       "불공정거래     33\n",
       "분식회계      32\n",
       "고용        25\n",
       "임금        24\n",
       "환경오염      22\n",
       "개인정보      19\n",
       "도덕성       15\n",
       "유해물질      14\n",
       "상생        11\n",
       "성범죄       11\n",
       "노동권        8\n",
       "광고         5\n",
       "Name: ESG, dtype: int64"
      ]
     },
     "execution_count": 71,
     "metadata": {},
     "output_type": "execute_result"
    }
   ],
   "source": [
    "df_p_av = df[df['AV_VAL_TOT_0_0'] - df['AV_VAL_TOT_-1_-1'] >= 0]\n",
    "print(df_p_av.shape)\n",
    "df_p_av['ESG'].value_counts()"
   ]
  },
  {
   "cell_type": "code",
   "execution_count": 58,
   "id": "a0f4aabb",
   "metadata": {
    "scrolled": true
   },
   "outputs": [
    {
     "name": "stdout",
     "output_type": "stream",
     "text": [
      "(871, 82)\n"
     ]
    },
    {
     "data": {
      "text/plain": [
       "비리       193\n",
       "파업       107\n",
       "독과점       87\n",
       "산재        82\n",
       "공급망       65\n",
       "품질        47\n",
       "환경오염      47\n",
       "경영권       38\n",
       "고용        30\n",
       "임금        29\n",
       "불공정거래     29\n",
       "분식회계      25\n",
       "개인정보      22\n",
       "유해물질      17\n",
       "노동권       15\n",
       "도덕성       14\n",
       "상생        11\n",
       "성범죄        8\n",
       "광고         5\n",
       "Name: ESG, dtype: int64"
      ]
     },
     "execution_count": 58,
     "metadata": {},
     "output_type": "execute_result"
    }
   ],
   "source": [
    "df_n_av = df[df['AV_VAL_TOT_0_0'] - df['AV_VAL_TOT_-1_-1'] < 0]\n",
    "print(df_n_av.shape)\n",
    "df_n_av['ESG'].value_counts()"
   ]
  },
  {
   "cell_type": "code",
   "execution_count": 70,
   "id": "3d194b91",
   "metadata": {},
   "outputs": [
    {
     "name": "stdout",
     "output_type": "stream",
     "text": [
      "불공정거래 , 33 , 29 , 0.532\n",
      "비리 , 206 , 193 , 0.516\n",
      "공급망 , 73 , 65 , 0.529\n",
      "파업 , 99 , 107 , 0.481\n",
      "독과점 , 85 , 87 , 0.494\n",
      "산재 , 91 , 82 , 0.526\n",
      "개인정보 , 19 , 22 , 0.463\n",
      "품질 , 60 , 47 , 0.561\n",
      "경영권 , 66 , 38 , 0.635\n",
      "분식회계 , 32 , 25 , 0.561\n",
      "환경오염 , 22 , 47 , 0.319\n",
      "고용 , 25 , 30 , 0.455\n",
      "도덕성 , 15 , 14 , 0.517\n",
      "광고 , 5 , 5 , 0.5\n",
      "노동권 , 8 , 15 , 0.348\n",
      "유해물질 , 14 , 17 , 0.452\n",
      "임금 , 24 , 29 , 0.453\n",
      "상생 , 11 , 11 , 0.5\n",
      "성범죄 , 11 , 8 , 0.579\n"
     ]
    }
   ],
   "source": [
    "for esg in df['ESG'].unique():\n",
    "    p = df_p_av['ESG'].value_counts()[esg]\n",
    "    n = df_n_av['ESG'].value_counts()[esg]\n",
    "    print(esg, ',', p, ',',n, ',',round(p/(p+n), 3))"
   ]
  },
  {
   "cell_type": "markdown",
   "id": "1171a5a7",
   "metadata": {},
   "source": [
    "## TO"
   ]
  },
  {
   "cell_type": "code",
   "execution_count": 73,
   "id": "7ccbd49e",
   "metadata": {},
   "outputs": [
    {
     "name": "stdout",
     "output_type": "stream",
     "text": [
      "(903, 82)\n"
     ]
    },
    {
     "data": {
      "text/plain": [
       "비리       201\n",
       "파업       106\n",
       "산재        88\n",
       "독과점       84\n",
       "공급망       73\n",
       "경영권       66\n",
       "품질        59\n",
       "분식회계      33\n",
       "고용        28\n",
       "임금        26\n",
       "환경오염      26\n",
       "불공정거래     25\n",
       "개인정보      18\n",
       "유해물질      17\n",
       "도덕성       13\n",
       "성범죄       13\n",
       "상생        13\n",
       "노동권        9\n",
       "광고         5\n",
       "Name: ESG, dtype: int64"
      ]
     },
     "execution_count": 73,
     "metadata": {},
     "output_type": "execute_result"
    }
   ],
   "source": [
    "df_p_to = df[df['TO_TOT_0_0'] - df['TO_TOT_-1_-1'] >= 0]\n",
    "print(df_p_to.shape)\n",
    "df_p_to['ESG'].value_counts()"
   ]
  },
  {
   "cell_type": "code",
   "execution_count": 75,
   "id": "73e52bd8",
   "metadata": {
    "scrolled": true
   },
   "outputs": [
    {
     "name": "stdout",
     "output_type": "stream",
     "text": [
      "(867, 82)\n"
     ]
    },
    {
     "data": {
      "text/plain": [
       "비리       198\n",
       "파업       100\n",
       "독과점       88\n",
       "산재        85\n",
       "공급망       65\n",
       "품질        48\n",
       "환경오염      43\n",
       "경영권       38\n",
       "불공정거래     37\n",
       "고용        27\n",
       "임금        27\n",
       "분식회계      24\n",
       "개인정보      23\n",
       "도덕성       16\n",
       "노동권       14\n",
       "유해물질      14\n",
       "상생         9\n",
       "성범죄        6\n",
       "광고         5\n",
       "Name: ESG, dtype: int64"
      ]
     },
     "execution_count": 75,
     "metadata": {},
     "output_type": "execute_result"
    }
   ],
   "source": [
    "df_n_to = df[df['TO_TOT_0_0'] - df['TO_TOT_-1_-1'] < 0]\n",
    "print(df_n_to.shape)\n",
    "df_n_to['ESG'].value_counts()"
   ]
  },
  {
   "cell_type": "code",
   "execution_count": 76,
   "id": "0bbbb45f",
   "metadata": {},
   "outputs": [
    {
     "name": "stdout",
     "output_type": "stream",
     "text": [
      "불공정거래 , 25 , 37 , 0.403\n",
      "비리 , 201 , 198 , 0.504\n",
      "공급망 , 73 , 65 , 0.529\n",
      "파업 , 106 , 100 , 0.515\n",
      "독과점 , 84 , 88 , 0.488\n",
      "산재 , 88 , 85 , 0.509\n",
      "개인정보 , 18 , 23 , 0.439\n",
      "품질 , 59 , 48 , 0.551\n",
      "경영권 , 66 , 38 , 0.635\n",
      "분식회계 , 33 , 24 , 0.579\n",
      "환경오염 , 26 , 43 , 0.377\n",
      "고용 , 28 , 27 , 0.509\n",
      "도덕성 , 13 , 16 , 0.448\n",
      "광고 , 5 , 5 , 0.5\n",
      "노동권 , 9 , 14 , 0.391\n",
      "유해물질 , 17 , 14 , 0.548\n",
      "임금 , 26 , 27 , 0.491\n",
      "상생 , 13 , 9 , 0.591\n",
      "성범죄 , 13 , 6 , 0.684\n"
     ]
    }
   ],
   "source": [
    "for esg in df['ESG'].unique():\n",
    "    p = df_p_to['ESG'].value_counts()[esg]\n",
    "    n = df_n_to['ESG'].value_counts()[esg]\n",
    "    print(esg, ',', p, ',',n, ',',round(p/(p+n), 3))"
   ]
  }
 ],
 "metadata": {
  "kernelspec": {
   "display_name": "Python 3 (ipykernel)",
   "language": "python",
   "name": "python3"
  },
  "language_info": {
   "codemirror_mode": {
    "name": "ipython",
    "version": 3
   },
   "file_extension": ".py",
   "mimetype": "text/x-python",
   "name": "python",
   "nbconvert_exporter": "python",
   "pygments_lexer": "ipython3",
   "version": "3.9.12"
  },
  "toc": {
   "base_numbering": 1,
   "nav_menu": {},
   "number_sections": true,
   "sideBar": true,
   "skip_h1_title": false,
   "title_cell": "Table of Contents",
   "title_sidebar": "Contents",
   "toc_cell": false,
   "toc_position": {
    "height": "calc(100% - 180px)",
    "left": "10px",
    "top": "150px",
    "width": "384px"
   },
   "toc_section_display": true,
   "toc_window_display": true
  }
 },
 "nbformat": 4,
 "nbformat_minor": 5
}

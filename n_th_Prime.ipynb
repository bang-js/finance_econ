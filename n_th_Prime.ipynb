{
  "nbformat": 4,
  "nbformat_minor": 0,
  "metadata": {
    "colab": {
      "name": "n-th Prime",
      "provenance": [],
      "collapsed_sections": [],
      "authorship_tag": "ABX9TyMEI/ovVx0ElVAFXU+wUyVN"
    },
    "kernelspec": {
      "name": "python3",
      "display_name": "Python 3"
    },
    "language_info": {
      "name": "python"
    }
  },
  "cells": [
    {
      "cell_type": "markdown",
      "source": [
        "n번째 소수 찾기"
      ],
      "metadata": {
        "id": "rT6amPYLkDMS"
      }
    },
    {
      "cell_type": "code",
      "execution_count": 15,
      "metadata": {
        "colab": {
          "base_uri": "https://localhost:8080/"
        },
        "id": "z5vQYuqie-a8",
        "outputId": "3cc2a740-4013-4ac7-daaf-331c3240ee54"
      },
      "outputs": [
        {
          "output_type": "stream",
          "name": "stdout",
          "text": [
            "order:20\n",
            "71\n"
          ]
        }
      ],
      "source": [
        "\n",
        "n = int(input(\"order:\"))\n",
        "\n",
        "def nth_Prime(n) :\n",
        "    if n == 1 :\n",
        "        return 2\n",
        "    else : \n",
        "        prime_list = [2]\n",
        "        a = prime_list[-1]\n",
        "        while len(prime_list) < n :\n",
        "            a += 1\n",
        "            m = 0\n",
        "            for i in range(2,int(a**(0.5)+1)+1) :  # ROOT로 근사, 3의 경우 int(3**0.5+1)=2 라서 range(2,3)을 위해 +1\n",
        "                if a%i == 0 :\n",
        "                    break\n",
        "                else :\n",
        "                    m += 1\n",
        "            if m == int(a**(0.5)+1)-1 :  \n",
        "                prime_list.append(a)\n",
        "        return prime_list[-1]\n",
        "\n",
        "print(nth_Prime(n))"
      ]
    }
  ]
}

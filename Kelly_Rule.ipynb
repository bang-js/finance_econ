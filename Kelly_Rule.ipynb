{
  "nbformat": 4,
  "nbformat_minor": 0,
  "metadata": {
    "colab": {
      "name": "Kelly Rule.ipynb",
      "provenance": [],
      "collapsed_sections": [],
      "authorship_tag": "ABX9TyNGr0M2gg7mTYzdJ8t1rmmy",
      "include_colab_link": true
    },
    "kernelspec": {
      "name": "python3",
      "display_name": "Python 3"
    },
    "language_info": {
      "name": "python"
    }
  },
  "cells": [
    {
      "cell_type": "markdown",
      "metadata": {
        "id": "view-in-github",
        "colab_type": "text"
      },
      "source": [
        "<a href=\"https://colab.research.google.com/github/bang-js/finance_econ/blob/main/Kelly_Rule.ipynb\" target=\"_parent\"><img src=\"https://colab.research.google.com/assets/colab-badge.svg\" alt=\"Open In Colab\"/></a>"
      ]
    },
    {
      "cell_type": "markdown",
      "source": [
        "\n",
        "# Finding Kelly's Rule\n",
        "이항(Binary)분포를 따르는 확률게임에서 최적의 베팅규모 찾기\n",
        "\n",
        "1. Environment setting : A만큼 배팅 시 승리 시 W배, 패배 시 L배로 회수 \n",
        "2. Generation : 랜덤한 시리즈 생성\n",
        "3. Kelly's rule : Kelly 방정식을 이용해 최적 베팅규모 계산\n",
        "4. Calculation : 최적 베팅 규모에 대해 대조군(BM)과 함께 최종수익/표준편차 비교\n",
        "5. Visualization : 그래프로 시각화\n"
      ],
      "metadata": {
        "id": "abof8AcKksZa"
      }
    },
    {
      "cell_type": "code",
      "source": [
        "# 1. Environment setting\n",
        "print(\"Environment setting\")\n",
        "p = float(input(\"승리확률:\"))\n",
        "win = float(input(\"1원 베팅할 때 승리 보수:\"))\n",
        "lose = float(input(\"1원 베팅할 때 패배 손실(절대값으로):\"))\n",
        "len_series = int(input(\"시리즈 길이:\"))"
      ],
      "metadata": {
        "colab": {
          "base_uri": "https://localhost:8080/",
          "height": 578
        },
        "id": "S-OjISqokrOa",
        "outputId": "80ca37cc-c6bb-4c4d-b199-7c9bf071390c"
      },
      "execution_count": null,
      "outputs": [
        {
          "output_type": "stream",
          "name": "stdout",
          "text": [
            "Environment setting\n"
          ]
        },
        {
          "output_type": "error",
          "ename": "KeyboardInterrupt",
          "evalue": "ignored",
          "traceback": [
            "\u001b[0;31m---------------------------------------------------------------------------\u001b[0m",
            "\u001b[0;31mKeyboardInterrupt\u001b[0m                         Traceback (most recent call last)",
            "\u001b[0;32m/usr/local/lib/python3.7/dist-packages/ipykernel/kernelbase.py\u001b[0m in \u001b[0;36m_input_request\u001b[0;34m(self, prompt, ident, parent, password)\u001b[0m\n\u001b[1;32m    728\u001b[0m             \u001b[0;32mtry\u001b[0m\u001b[0;34m:\u001b[0m\u001b[0;34m\u001b[0m\u001b[0;34m\u001b[0m\u001b[0m\n\u001b[0;32m--> 729\u001b[0;31m                 \u001b[0mident\u001b[0m\u001b[0;34m,\u001b[0m \u001b[0mreply\u001b[0m \u001b[0;34m=\u001b[0m \u001b[0mself\u001b[0m\u001b[0;34m.\u001b[0m\u001b[0msession\u001b[0m\u001b[0;34m.\u001b[0m\u001b[0mrecv\u001b[0m\u001b[0;34m(\u001b[0m\u001b[0mself\u001b[0m\u001b[0;34m.\u001b[0m\u001b[0mstdin_socket\u001b[0m\u001b[0;34m,\u001b[0m \u001b[0;36m0\u001b[0m\u001b[0;34m)\u001b[0m\u001b[0;34m\u001b[0m\u001b[0;34m\u001b[0m\u001b[0m\n\u001b[0m\u001b[1;32m    730\u001b[0m             \u001b[0;32mexcept\u001b[0m \u001b[0mException\u001b[0m\u001b[0;34m:\u001b[0m\u001b[0;34m\u001b[0m\u001b[0;34m\u001b[0m\u001b[0m\n",
            "\u001b[0;32m/usr/local/lib/python3.7/dist-packages/jupyter_client/session.py\u001b[0m in \u001b[0;36mrecv\u001b[0;34m(self, socket, mode, content, copy)\u001b[0m\n\u001b[1;32m    802\u001b[0m         \u001b[0;32mtry\u001b[0m\u001b[0;34m:\u001b[0m\u001b[0;34m\u001b[0m\u001b[0;34m\u001b[0m\u001b[0m\n\u001b[0;32m--> 803\u001b[0;31m             \u001b[0mmsg_list\u001b[0m \u001b[0;34m=\u001b[0m \u001b[0msocket\u001b[0m\u001b[0;34m.\u001b[0m\u001b[0mrecv_multipart\u001b[0m\u001b[0;34m(\u001b[0m\u001b[0mmode\u001b[0m\u001b[0;34m,\u001b[0m \u001b[0mcopy\u001b[0m\u001b[0;34m=\u001b[0m\u001b[0mcopy\u001b[0m\u001b[0;34m)\u001b[0m\u001b[0;34m\u001b[0m\u001b[0;34m\u001b[0m\u001b[0m\n\u001b[0m\u001b[1;32m    804\u001b[0m         \u001b[0;32mexcept\u001b[0m \u001b[0mzmq\u001b[0m\u001b[0;34m.\u001b[0m\u001b[0mZMQError\u001b[0m \u001b[0;32mas\u001b[0m \u001b[0me\u001b[0m\u001b[0;34m:\u001b[0m\u001b[0;34m\u001b[0m\u001b[0;34m\u001b[0m\u001b[0m\n",
            "\u001b[0;32m/usr/local/lib/python3.7/dist-packages/zmq/sugar/socket.py\u001b[0m in \u001b[0;36mrecv_multipart\u001b[0;34m(self, flags, copy, track)\u001b[0m\n\u001b[1;32m    624\u001b[0m         \"\"\"\n\u001b[0;32m--> 625\u001b[0;31m         \u001b[0mparts\u001b[0m \u001b[0;34m=\u001b[0m \u001b[0;34m[\u001b[0m\u001b[0mself\u001b[0m\u001b[0;34m.\u001b[0m\u001b[0mrecv\u001b[0m\u001b[0;34m(\u001b[0m\u001b[0mflags\u001b[0m\u001b[0;34m,\u001b[0m \u001b[0mcopy\u001b[0m\u001b[0;34m=\u001b[0m\u001b[0mcopy\u001b[0m\u001b[0;34m,\u001b[0m \u001b[0mtrack\u001b[0m\u001b[0;34m=\u001b[0m\u001b[0mtrack\u001b[0m\u001b[0;34m)\u001b[0m\u001b[0;34m]\u001b[0m\u001b[0;34m\u001b[0m\u001b[0;34m\u001b[0m\u001b[0m\n\u001b[0m\u001b[1;32m    626\u001b[0m         \u001b[0;31m# have first part already, only loop while more to receive\u001b[0m\u001b[0;34m\u001b[0m\u001b[0;34m\u001b[0m\u001b[0;34m\u001b[0m\u001b[0m\n",
            "\u001b[0;32mzmq/backend/cython/socket.pyx\u001b[0m in \u001b[0;36mzmq.backend.cython.socket.Socket.recv\u001b[0;34m()\u001b[0m\n",
            "\u001b[0;32mzmq/backend/cython/socket.pyx\u001b[0m in \u001b[0;36mzmq.backend.cython.socket.Socket.recv\u001b[0;34m()\u001b[0m\n",
            "\u001b[0;32mzmq/backend/cython/socket.pyx\u001b[0m in \u001b[0;36mzmq.backend.cython.socket._recv_copy\u001b[0;34m()\u001b[0m\n",
            "\u001b[0;32m/usr/local/lib/python3.7/dist-packages/zmq/backend/cython/checkrc.pxd\u001b[0m in \u001b[0;36mzmq.backend.cython.checkrc._check_rc\u001b[0;34m()\u001b[0m\n",
            "\u001b[0;31mKeyboardInterrupt\u001b[0m: ",
            "\nDuring handling of the above exception, another exception occurred:\n",
            "\u001b[0;31mKeyboardInterrupt\u001b[0m                         Traceback (most recent call last)",
            "\u001b[0;32m<ipython-input-33-e9db0e713591>\u001b[0m in \u001b[0;36m<module>\u001b[0;34m()\u001b[0m\n\u001b[1;32m      1\u001b[0m \u001b[0;31m# 1. Environment setting\u001b[0m\u001b[0;34m\u001b[0m\u001b[0;34m\u001b[0m\u001b[0;34m\u001b[0m\u001b[0m\n\u001b[1;32m      2\u001b[0m \u001b[0mprint\u001b[0m\u001b[0;34m(\u001b[0m\u001b[0;34m\"Environment setting\"\u001b[0m\u001b[0;34m)\u001b[0m\u001b[0;34m\u001b[0m\u001b[0;34m\u001b[0m\u001b[0m\n\u001b[0;32m----> 3\u001b[0;31m \u001b[0mp\u001b[0m \u001b[0;34m=\u001b[0m \u001b[0mfloat\u001b[0m\u001b[0;34m(\u001b[0m\u001b[0minput\u001b[0m\u001b[0;34m(\u001b[0m\u001b[0;34m\"승리확률:\"\u001b[0m\u001b[0;34m)\u001b[0m\u001b[0;34m)\u001b[0m\u001b[0;34m\u001b[0m\u001b[0;34m\u001b[0m\u001b[0m\n\u001b[0m\u001b[1;32m      4\u001b[0m \u001b[0mwin\u001b[0m \u001b[0;34m=\u001b[0m \u001b[0mfloat\u001b[0m\u001b[0;34m(\u001b[0m\u001b[0minput\u001b[0m\u001b[0;34m(\u001b[0m\u001b[0;34m\"1원 베팅할 때 승리 보수:\"\u001b[0m\u001b[0;34m)\u001b[0m\u001b[0;34m)\u001b[0m\u001b[0;34m\u001b[0m\u001b[0;34m\u001b[0m\u001b[0m\n\u001b[1;32m      5\u001b[0m \u001b[0mlose\u001b[0m \u001b[0;34m=\u001b[0m \u001b[0mfloat\u001b[0m\u001b[0;34m(\u001b[0m\u001b[0minput\u001b[0m\u001b[0;34m(\u001b[0m\u001b[0;34m\"1원 베팅할 때 패배 손실(절대값으로):\"\u001b[0m\u001b[0;34m)\u001b[0m\u001b[0;34m)\u001b[0m\u001b[0;34m\u001b[0m\u001b[0;34m\u001b[0m\u001b[0m\n",
            "\u001b[0;32m/usr/local/lib/python3.7/dist-packages/ipykernel/kernelbase.py\u001b[0m in \u001b[0;36mraw_input\u001b[0;34m(self, prompt)\u001b[0m\n\u001b[1;32m    702\u001b[0m             \u001b[0mself\u001b[0m\u001b[0;34m.\u001b[0m\u001b[0m_parent_ident\u001b[0m\u001b[0;34m,\u001b[0m\u001b[0;34m\u001b[0m\u001b[0;34m\u001b[0m\u001b[0m\n\u001b[1;32m    703\u001b[0m             \u001b[0mself\u001b[0m\u001b[0;34m.\u001b[0m\u001b[0m_parent_header\u001b[0m\u001b[0;34m,\u001b[0m\u001b[0;34m\u001b[0m\u001b[0;34m\u001b[0m\u001b[0m\n\u001b[0;32m--> 704\u001b[0;31m             \u001b[0mpassword\u001b[0m\u001b[0;34m=\u001b[0m\u001b[0;32mFalse\u001b[0m\u001b[0;34m,\u001b[0m\u001b[0;34m\u001b[0m\u001b[0;34m\u001b[0m\u001b[0m\n\u001b[0m\u001b[1;32m    705\u001b[0m         )\n\u001b[1;32m    706\u001b[0m \u001b[0;34m\u001b[0m\u001b[0m\n",
            "\u001b[0;32m/usr/local/lib/python3.7/dist-packages/ipykernel/kernelbase.py\u001b[0m in \u001b[0;36m_input_request\u001b[0;34m(self, prompt, ident, parent, password)\u001b[0m\n\u001b[1;32m    732\u001b[0m             \u001b[0;32mexcept\u001b[0m \u001b[0mKeyboardInterrupt\u001b[0m\u001b[0;34m:\u001b[0m\u001b[0;34m\u001b[0m\u001b[0;34m\u001b[0m\u001b[0m\n\u001b[1;32m    733\u001b[0m                 \u001b[0;31m# re-raise KeyboardInterrupt, to truncate traceback\u001b[0m\u001b[0;34m\u001b[0m\u001b[0;34m\u001b[0m\u001b[0;34m\u001b[0m\u001b[0m\n\u001b[0;32m--> 734\u001b[0;31m                 \u001b[0;32mraise\u001b[0m \u001b[0mKeyboardInterrupt\u001b[0m\u001b[0;34m\u001b[0m\u001b[0;34m\u001b[0m\u001b[0m\n\u001b[0m\u001b[1;32m    735\u001b[0m             \u001b[0;32melse\u001b[0m\u001b[0;34m:\u001b[0m\u001b[0;34m\u001b[0m\u001b[0;34m\u001b[0m\u001b[0m\n\u001b[1;32m    736\u001b[0m                 \u001b[0;32mbreak\u001b[0m\u001b[0;34m\u001b[0m\u001b[0;34m\u001b[0m\u001b[0m\n",
            "\u001b[0;31mKeyboardInterrupt\u001b[0m: "
          ]
        }
      ]
    },
    {
      "cell_type": "code",
      "source": [
        "# 2. Generation : 랜덤한 시리즈 생성\n",
        "import random \n",
        "series = []\n",
        "\n",
        "for i in range(int(p*len_series)) :\n",
        "  series.append(1)\n",
        "for j in range(int(p*len_series),len_series) :\n",
        "  series.append(0)\n",
        "\n",
        "random.shuffle(series)\n",
        "print(series[:20])\n",
        "print(\"승리 비율:\", series.count(1)/len_series)\n",
        "\n",
        "# for i in range(len_series) :\n",
        "#     n = uniform(0,1)\n",
        "#     if n < p :      # 0~p가 승리영역, p가 커질수록 승리할 확률이 높아지도록 설계\n",
        "#         a = 1\n",
        "#     else :\n",
        "#         a = 0 \n",
        "#     series.append(a)\n",
        "\n",
        "# print(series[:20])\n",
        "# print(\"승리 비율:\", series.count(1)/len_series)\n"
      ],
      "metadata": {
        "colab": {
          "base_uri": "https://localhost:8080/"
        },
        "id": "EIrTpU8Nk3Vv",
        "outputId": "e5a6c1a0-33a0-4d02-9db0-06120b759b95"
      },
      "execution_count": null,
      "outputs": [
        {
          "output_type": "stream",
          "name": "stdout",
          "text": [
            "[0, 1, 0, 0, 0, 1, 0, 1, 1, 0, 0, 0, 0, 0, 1, 0, 1, 0, 0, 0]\n",
            "승리 비율: 0.51\n"
          ]
        }
      ]
    },
    {
      "cell_type": "code",
      "source": [
        "# 3. Kelly's rule : Kelly 방정식을 이용해 최적 베팅규모 계산\n",
        "\n",
        "# Kelly Equation\n",
        "bet = p/lose - (1-p)/win\n",
        "\n",
        "# 계산 후 bet이 0과 1 사이에 들어오도록 조정\n",
        "if bet > 1 :\n",
        "    bet = 1\n",
        "elif bet < 0 :\n",
        "    bet = 0\n",
        "print(\"최적베팅규모:\",bet)"
      ],
      "metadata": {
        "colab": {
          "base_uri": "https://localhost:8080/"
        },
        "id": "ux583RaOk39Z",
        "outputId": "8845089b-7caf-4d67-e636-13f43088f951"
      },
      "execution_count": null,
      "outputs": [
        {
          "output_type": "stream",
          "name": "stdout",
          "text": [
            "최적베팅규모: 0.023820862439875676\n"
          ]
        }
      ]
    },
    {
      "cell_type": "code",
      "source": [
        "\n",
        "# 4. Calculation : 최적 베팅 규모에 대해 대조군(BM)과 함께 최종수익/표준편차 비교\n",
        "# 대조군은 총 3가지\n",
        "import statistics\n",
        "import math\n",
        "\n",
        "class game_result :\n",
        "    def __init__(self, adj_bet) :  # BM별로 bet을 조절하여 사용하므로 bet이 아닌 adj_bet 사용\n",
        "        self.adj_bet = adj_bet\n",
        "\n",
        "    def calculation(self) :\n",
        "        result = []\n",
        "        money = 1     # 초기자금\n",
        "        for i in range(len_series) :\n",
        "            # adj_bet만큼 베팅, 1-adj_bet은 킵\n",
        "            if series[i] == 1 :     # 승리\n",
        "                money = money*(1-self.adj_bet) + money*self.adj_bet*(1+win)\n",
        "            elif series[i] == 0 :   # 패배\n",
        "                money = money*(1-self.adj_bet) + money*self.adj_bet*(1-lose)\n",
        "            result.append(money)\n",
        "        return result\n",
        "    \n",
        "    def endpoint(self) : # 마지막 값과 그 log값 산출\n",
        "        end = self.calculation()[-1]\n",
        "        return end, math.log(end)\n",
        "\n",
        "kelly = game_result(bet)\n",
        "result_kelly = kelly.calculation()\n",
        "\n",
        "# BchM_0는 전부 베팅\n",
        "BchM_0 = game_result(1)\n",
        "result_BM_0 = BchM_0.calculation()                \n",
        "\n",
        "# BM_1은 최적 규모*0.5 (<최적규모)\n",
        "BchM_1 = game_result(bet*0.5)          \n",
        "result_BM_1 = BchM_1.calculation()    \n",
        "\n",
        "# BM_2는 최적규모+(1-최적 규모)*0.5 (>최적규모)\n",
        "BchM_2 = game_result(bet+(1-bet)*0.5)  \n",
        "result_BM_2 = BchM_2.calculation()\n",
        "\n",
        "# BM별 마지막 값과 그 log값 산출\n",
        "print(\"{0:.2f},{1:.2f},{2:.2f},{3:.2f}\".format(kelly.endpoint()[0], BchM_0.endpoint()[0], BchM_1.endpoint()[0], BchM_2.endpoint()[0]))\n",
        "print(\"{0:.2f},{1:.2f},{2:.2f},{3:.2f}\".format(kelly.endpoint()[1], BchM_0.endpoint()[1], BchM_1.endpoint()[1], BchM_2.endpoint()[1]))\n",
        "# print(\"std:\", statistics.pstdev(result_kelly), statistics.pstdev(result_BM_0), \\\n",
        "#     statistics.pstdev(result_BM_1), statistics.pstdev(result_BM_2))\n"
      ],
      "metadata": {
        "colab": {
          "base_uri": "https://localhost:8080/"
        },
        "id": "c94lZjNZk9Sj",
        "outputId": "f48b999d-9892-4fa0-d76d-c37cd41213cb"
      },
      "execution_count": null,
      "outputs": [
        {
          "output_type": "stream",
          "name": "stdout",
          "text": [
            "1.96,-3753851556834607262605609093162247840286188431519520208634726745899008.00,1.69,-10945791453323365852554872984256380928.00\n",
            "0.67,0.00,0.52,0.00\n"
          ]
        }
      ]
    },
    {
      "cell_type": "code",
      "source": [
        "import matplotlib.pyplot as plt\n",
        "import numpy as np\n",
        "\n",
        "Ln_kelly = np.log(np.array(result_kelly))\n",
        "Ln_BM_0 = np.log(np.array(result_BM_0))\n",
        "Ln_BM_1 = np.log(np.array(result_BM_1))\n",
        "Ln_BM_2 = np.log(np.array(result_BM_2))\n",
        "\n",
        "plt.plot(np.arange(len_series), Ln_kelly, label=\"kelly\")\n",
        "plt.plot(np.arange(len_series), Ln_BM_0, label=\"bm0\")\n",
        "plt.plot(np.arange(len_series), Ln_BM_1, label=\"bm1\")\n",
        "plt.plot(np.arange(len_series), Ln_BM_2, label=\"bm2\")\n",
        "plt.legend()\n",
        "plt.show"
      ],
      "metadata": {
        "id": "kh32rJVPlF3D",
        "colab": {
          "base_uri": "https://localhost:8080/",
          "height": 356
        },
        "outputId": "7d52cd0a-998b-434b-a903-28c1856068d5"
      },
      "execution_count": null,
      "outputs": [
        {
          "output_type": "stream",
          "name": "stderr",
          "text": [
            "/usr/local/lib/python3.7/dist-packages/ipykernel_launcher.py:5: RuntimeWarning: invalid value encountered in log\n",
            "  \"\"\"\n",
            "/usr/local/lib/python3.7/dist-packages/ipykernel_launcher.py:7: RuntimeWarning: invalid value encountered in log\n",
            "  import sys\n"
          ]
        },
        {
          "output_type": "execute_result",
          "data": {
            "text/plain": [
              "<function matplotlib.pyplot.show>"
            ]
          },
          "metadata": {},
          "execution_count": 32
        },
        {
          "output_type": "display_data",
          "data": {
            "text/plain": [
              "<Figure size 432x288 with 1 Axes>"
            ],
            "image/png": "[encoded data removed]"
          },
          "metadata": {
            "needs_background": "light"
          }
        }
      ]
    }
  ]
}